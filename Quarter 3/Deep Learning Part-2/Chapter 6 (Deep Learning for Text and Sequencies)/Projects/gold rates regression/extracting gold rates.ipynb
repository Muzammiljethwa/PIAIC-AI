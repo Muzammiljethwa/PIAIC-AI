{
 "cells": [
  {
   "cell_type": "code",
   "execution_count": 1,
   "metadata": {},
   "outputs": [],
   "source": [
    "import requests\n",
    "from pprint import pprint \n",
    "from html_table_parser import HTMLTableParser \n",
    "import pandas as pd \n",
    "import numpy as np\n",
    "import csv\n",
    "from bs4 import BeautifulSoup as bs\n",
    "import time"
   ]
  },
  {
   "cell_type": "code",
   "execution_count": 38,
   "metadata": {},
   "outputs": [],
   "source": [
    "headers={'User-Agent': 'Mozilla/5.0 (Windows NT 6.1; WOW64; rv:50.0) Gecko/20100101 Firefox/50.0'}\n",
    "link = \"https://www.usagold.com/reference/prices/goldhistory.php\""
   ]
  },
  {
   "cell_type": "code",
   "execution_count": 39,
   "metadata": {},
   "outputs": [],
   "source": [
    "source = requests.get(link, headers=headers).text\n",
    "soup = bs(source,\"html.parser\")\n",
    "\n",
    "l = []\n",
    "for li in soup.find(\"ul\", attrs={'id':'goldpriceyearlinks'}):\n",
    "    li = li.find('a')\n",
    "    l.append(li)\n",
    "l2 = []\n",
    "for i in range(0,len(l)-1,2):\n",
    "    l2.append(l[i-1])\n",
    "l = l2[1::]\n",
    "links, years = [], []\n",
    "for i in l:\n",
    "    years.append(i.getText())\n",
    "    links.append(i[\"href\"])"
   ]
  },
  {
   "cell_type": "code",
   "execution_count": 40,
   "metadata": {},
   "outputs": [
    {
     "name": "stdout",
     "output_type": "stream",
     "text": [
      "0) 2020 :  https://www.usagold.com/reference/prices/goldhistory.php?ddYears=2020\n",
      "1) 2019 :  https://www.usagold.com/reference/prices/goldhistory.php?ddYears=2019\n",
      "2) 2018 :  https://www.usagold.com/reference/prices/goldhistory.php?ddYears=2018\n",
      "3) 2017 :  https://www.usagold.com/reference/prices/goldhistory.php?ddYears=2017\n",
      "4) 2016 :  https://www.usagold.com/reference/goldprices/2016.html\n",
      "5) 2015 :  https://www.usagold.com/reference/goldprices/2015.html\n",
      "6) 2014 :  https://www.usagold.com/reference/goldprices/2014.html\n",
      "7) 2013 :  https://www.usagold.com/reference/goldprices/2013.html\n",
      "8) 2012 :  https://www.usagold.com/reference/goldprices/2012.html\n",
      "9) 2011 :  https://www.usagold.com/reference/goldprices/2011.html\n",
      "10) 2010 :  https://www.usagold.com/reference/goldprices/2010.html\n",
      "11) 2009 :  https://www.usagold.com/reference/goldprices/2009.html\n",
      "12) 2008 :  https://www.usagold.com/reference/goldprices/2008.html\n",
      "13) 2007 :  https://www.usagold.com/reference/goldprices/2007.html\n",
      "14) 2006 :  https://www.usagold.com/reference/goldprices/2006.html\n",
      "15) 2005 :  https://www.usagold.com/reference/goldprices/2005.html\n",
      "16) 2004 :  https://www.usagold.com/reference/goldprices/2004.html\n",
      "17) 2003 :  https://www.usagold.com/reference/goldprices/2003.html\n",
      "18) 2002 :  https://www.usagold.com/reference/goldprices/2002.html\n",
      "19) 2001 :  https://www.usagold.com/reference/goldprices/2001.html\n",
      "20) 2000 :  https://www.usagold.com/reference/goldprices/2000.html\n",
      "21) 1999 :  https://www.usagold.com/reference/goldprices/1999.html\n",
      "22) 1998 :  https://www.usagold.com/reference/goldprices/1998.html\n",
      "23) 1997 :  https://www.usagold.com/reference/goldprices/1997.html\n",
      "24) 1996 :  https://www.usagold.com/reference/goldprices/1996.html\n",
      "25) 1995 :  https://www.usagold.com/reference/goldprices/1995.html\n",
      "26) 1994 :  https://www.usagold.com/reference/goldprices/1994.html\n",
      "27) 1993 :  https://www.usagold.com/reference/goldprices/1993.html\n",
      "28) 1992 :  https://www.usagold.com/reference/goldprices/1992.html\n",
      "29) 1991 :  https://www.usagold.com/reference/goldprices/1991.html\n",
      "30) 1990 :  https://www.usagold.com/reference/goldprices/1990.html\n",
      "31) 1989 :  https://www.usagold.com/reference/goldprices/1989.html\n",
      "32) 1988 :  https://www.usagold.com/reference/goldprices/1988.html\n",
      "33) 1987 :  https://www.usagold.com/reference/goldprices/1987.html\n",
      "34) 1986 :  https://www.usagold.com/reference/goldprices/1986.html\n",
      "35) 1985 :  https://www.usagold.com/reference/goldprices/1985.html\n",
      "36) 1984 :  https://www.usagold.com/reference/goldprices/1984.html\n",
      "37) 1983 :  https://www.usagold.com/reference/goldprices/1983.html\n",
      "38) 1982 :  https://www.usagold.com/reference/goldprices/1982.html\n",
      "39) 1981 :  https://www.usagold.com/reference/goldprices/1981.html\n",
      "40) 1980 :  https://www.usagold.com/reference/goldprices/1980.html\n",
      "41) 1979 :  https://www.usagold.com/reference/goldprices/1979.html\n",
      "42) 1978 :  https://www.usagold.com/reference/goldprices/1978.html\n",
      "43) 1977 :  https://www.usagold.com/reference/goldprices/1977.html\n",
      "44) 1976 :  https://www.usagold.com/reference/goldprices/1976.html\n",
      "45) 1975 :  https://www.usagold.com/reference/goldprices/1975.html\n",
      "46) 1974 :  https://www.usagold.com/reference/goldprices/1974.html\n",
      "47) 1973 :  https://www.usagold.com/reference/goldprices/1973.html\n",
      "48) 1972 :  https://www.usagold.com/reference/goldprices/1972.html\n",
      "49) 1971 :  https://www.usagold.com/reference/goldprices/1971.html\n",
      "50) 1970 :  https://www.usagold.com/reference/goldprices/1970.html\n",
      "51) 1969 :  https://www.usagold.com/reference/goldprices/1969.html\n",
      "52) 1968 :  https://www.usagold.com/reference/goldprices/1968.html\n"
     ]
    }
   ],
   "source": [
    "for i in range(len(links)):\n",
    "    print(f\"{i}) {years[i]} :  {links[i]}\")"
   ]
  },
  {
   "cell_type": "code",
   "execution_count": 41,
   "metadata": {},
   "outputs": [],
   "source": [
    "data = []\n",
    "def scrape_table(url):\n",
    "    \n",
    "    headers={'User-Agent': 'Mozilla/5.0 (Windows NT 6.1; WOW64; rv:50.0) Gecko/20100101 Firefox/50.0'}\n",
    "    xhtml = requests.get(url, headers=headers).text\n",
    "\n",
    "    p = HTMLTableParser()\n",
    "    p.feed(xhtml) \n",
    "\n",
    "    table = p.tables[0][2::]\n",
    "    return p"
   ]
  },
  {
   "cell_type": "code",
   "execution_count": 42,
   "metadata": {},
   "outputs": [
    {
     "name": "stdout",
     "output_type": "stream",
     "text": [
      "1) Year 2020 scrapped , length : 195\n",
      "2) Year 2019 scrapped , length : 259\n",
      "3) Year 2018 scrapped , length : 260\n",
      "4) Year 2017 scrapped , length : 260\n",
      "5) Year 2016 scrapped , length : 260\n",
      "6) Year 2015 scrapped , length : 259\n",
      "7) Year 2014 scrapped , length : 259\n",
      "8) Year 2013 scrapped , length : 248\n",
      "9) Year 2012 scrapped , length : 240\n",
      "10) Year 2011 scrapped , length : 258\n",
      "11) Year 2010 scrapped , length : 260\n",
      "12) Year 2009 scrapped , length : 260\n",
      "13) Year 2008 scrapped , length : 261\n",
      "14) Year 2007 scrapped , length : 260\n",
      "15) Year 2006 scrapped , length : 259\n",
      "16) Year 2005 scrapped , length : 262\n",
      "17) Year 2004 scrapped , length : 259\n",
      "18) Year 2003 scrapped , length : 260\n",
      "19) Year 2002 scrapped , length : 258\n",
      "20) Year 2001 scrapped , length : 256\n",
      "21) Year 2000 scrapped , length : 257\n",
      "22) Year 1999 scrapped , length : 256\n",
      "23) Year 1998 scrapped , length : 257\n",
      "24) Year 1997 scrapped , length : 256\n",
      "25) Year 1996 scrapped , length : 255\n",
      "26) Year 1995 scrapped , length : 192\n",
      "27) Year 1994 scrapped , length : 251\n",
      "28) Year 1993 scrapped , length : 252\n",
      "29) Year 1992 scrapped , length : 253\n",
      "30) Year 1991 scrapped , length : 252\n",
      "31) Year 1990 scrapped , length : 252\n",
      "32) Year 1989 scrapped , length : 251\n",
      "33) Year 1988 scrapped , length : 252\n",
      "34) Year 1987 scrapped , length : 252\n",
      "35) Year 1986 scrapped , length : 252\n",
      "36) Year 1985 scrapped , length : 251\n",
      "37) Year 1984 scrapped , length : 251\n",
      "38) Year 1983 scrapped , length : 251\n",
      "39) Year 1982 scrapped , length : 252\n",
      "40) Year 1981 scrapped , length : 250\n",
      "41) Year 1980 scrapped , length : 253\n",
      "42) Year 1979 scrapped , length : 252\n",
      "43) Year 1978 scrapped , length : 251\n",
      "44) Year 1977 scrapped , length : 251\n",
      "45) Year 1976 scrapped , length : 254\n",
      "46) Year 1975 scrapped , length : 253\n",
      "47) Year 1974 scrapped , length : 252\n",
      "48) Year 1973 scrapped , length : 252\n",
      "49) Year 1972 scrapped , length : 253\n",
      "50) Year 1971 scrapped , length : 253\n",
      "51) Year 1970 scrapped , length : 254\n",
      "52) Year 1969 scrapped , length : 253\n",
      "53) Year 1968 scrapped , length : 242\n"
     ]
    }
   ],
   "source": [
    "table = []\n",
    "\n",
    "for i in range(len(links)):\n",
    "    \n",
    "#     length = len(table.tables[0][2::])\n",
    "    table = scrape_table(links[i]) \n",
    "    print(f\"{i+1}) Year {years[i]} scrapped , length : {len(table.tables[0][2::])}\")\n",
    "    \n",
    "    for j in table.tables[0][2::]:\n",
    "        data.append(j)\n",
    "        \n",
    "    time.sleep(10)"
   ]
  },
  {
   "cell_type": "code",
   "execution_count": 43,
   "metadata": {},
   "outputs": [
    {
     "data": {
      "text/plain": [
       "13361"
      ]
     },
     "execution_count": 43,
     "metadata": {},
     "output_type": "execute_result"
    }
   ],
   "source": [
    "len(data)"
   ]
  },
  {
   "cell_type": "code",
   "execution_count": 44,
   "metadata": {},
   "outputs": [
    {
     "name": "stdout",
     "output_type": "stream",
     "text": [
      "13361 (13361, 2)\n"
     ]
    }
   ],
   "source": [
    "data = np.array(data)\n",
    "length = len(data)\n",
    "print(length,data.shape)"
   ]
  },
  {
   "cell_type": "code",
   "execution_count": 45,
   "metadata": {},
   "outputs": [
    {
     "data": {
      "text/plain": [
       "array([['30 Sep 2020', '1892.62'],\n",
       "       ['29 Sep 2020', '1896.80'],\n",
       "       ['28 Sep 2020', '1882.46'],\n",
       "       ...,\n",
       "       ['1968-01-05', '35.14'],\n",
       "       ['1968-01-04', '35.14'],\n",
       "       ['1968-01-03', '35.16']], dtype='<U11')"
      ]
     },
     "execution_count": 45,
     "metadata": {},
     "output_type": "execute_result"
    }
   ],
   "source": [
    "data"
   ]
  },
  {
   "cell_type": "code",
   "execution_count": 46,
   "metadata": {},
   "outputs": [
    {
     "data": {
      "text/plain": [
       "13362"
      ]
     },
     "execution_count": 46,
     "metadata": {},
     "output_type": "execute_result"
    }
   ],
   "source": [
    "data = np.insert(data, 0, [\"Dates\",\"Rates\"])\n",
    "data = data.reshape( (length+1, 2) )\n",
    "len(data)"
   ]
  },
  {
   "cell_type": "code",
   "execution_count": 47,
   "metadata": {},
   "outputs": [],
   "source": [
    "with open('gold.csv', 'w', newline='') as file:\n",
    "    writer = csv.writer(file)\n",
    "    writer.writerows(data)"
   ]
  },
  {
   "cell_type": "code",
   "execution_count": null,
   "metadata": {},
   "outputs": [],
   "source": []
  },
  {
   "cell_type": "code",
   "execution_count": null,
   "metadata": {},
   "outputs": [],
   "source": []
  },
  {
   "cell_type": "code",
   "execution_count": null,
   "metadata": {},
   "outputs": [],
   "source": []
  },
  {
   "cell_type": "code",
   "execution_count": null,
   "metadata": {},
   "outputs": [],
   "source": []
  },
  {
   "cell_type": "code",
   "execution_count": 63,
   "metadata": {},
   "outputs": [
    {
     "name": "stdout",
     "output_type": "stream",
     "text": [
      "Fetching data......\n",
      "\n",
      "30-Sep-2020 : 1892.62\n",
      "29-Sep-2020 : 1896.8\n",
      "28-Sep-2020 : 1882.46\n",
      "25-Sep-2020 : 1861.33\n",
      "24-Sep-2020 : 1867.99\n"
     ]
    }
   ],
   "source": [
    "def get_latest_data():\n",
    "    \n",
    "    def latest_year():\n",
    "    \n",
    "        headers={'User-Agent': 'Mozilla/5.0 (Windows NT 6.1; WOW64; rv:50.0) Gecko/20100101 Firefox/50.0'}\n",
    "        link = \"https://www.usagold.com/reference/prices/goldhistory.php\"\n",
    "\n",
    "        source = requests.get(link, headers=headers).text\n",
    "        soup = bs(source,\"html.parser\")\n",
    "\n",
    "        l = []\n",
    "        for li in soup.find(\"ul\", attrs={'id':'goldpriceyearlinks'}):\n",
    "            li = li.find('a')\n",
    "            l.append(li)\n",
    "        l2 = []\n",
    "        for i in range(0,len(l)-1,2):\n",
    "            l2.append(l[i-1])\n",
    "        l = l2[1::]\n",
    "        links, years = [], []\n",
    "        for i in l:\n",
    "            years.append(i.getText())\n",
    "            links.append(i[\"href\"])\n",
    "\n",
    "        return links\n",
    "    \n",
    "    def scrape_table(url):\n",
    "    \n",
    "        headers={'User-Agent': 'Mozilla/5.0 (Windows NT 6.1; WOW64; rv:50.0) Gecko/20100101 Firefox/50.0'}\n",
    "        xhtml = requests.get(url, headers=headers).text\n",
    "\n",
    "        p = HTMLTableParser()\n",
    "        p.feed(xhtml) \n",
    "\n",
    "        table = p.tables[0][2::]\n",
    "        return p\n",
    "    \n",
    "    print(\"Fetching data......\\n\")\n",
    "    \n",
    "    current_year = latest_year()[0]\n",
    "    new = scrape_table(current_year)\n",
    "    \n",
    "    array = new.tables[0][2:7]\n",
    "    main_list = []\n",
    "    for i in range(len(array)):\n",
    "        main_list.append(array[i][1])\n",
    "        date = str(array[i][0]).replace(\" \",\"-\")\n",
    "        print(f\"{date} : {float(array[i][1])}\")\n",
    "    return main_list\n",
    "\n",
    "predict = get_latest_data()"
   ]
  },
  {
   "cell_type": "code",
   "execution_count": 64,
   "metadata": {},
   "outputs": [
    {
     "data": {
      "text/plain": [
       "['1892.62', '1896.80', '1882.46', '1861.33', '1867.99']"
      ]
     },
     "execution_count": 64,
     "metadata": {},
     "output_type": "execute_result"
    }
   ],
   "source": [
    "predict"
   ]
  },
  {
   "cell_type": "code",
   "execution_count": null,
   "metadata": {},
   "outputs": [],
   "source": []
  },
  {
   "cell_type": "code",
   "execution_count": null,
   "metadata": {},
   "outputs": [],
   "source": []
  },
  {
   "cell_type": "code",
   "execution_count": null,
   "metadata": {},
   "outputs": [],
   "source": []
  }
 ],
 "metadata": {
  "kernelspec": {
   "display_name": "Python 3",
   "language": "python",
   "name": "python3"
  },
  "language_info": {
   "codemirror_mode": {
    "name": "ipython",
    "version": 3
   },
   "file_extension": ".py",
   "mimetype": "text/x-python",
   "name": "python",
   "nbconvert_exporter": "python",
   "pygments_lexer": "ipython3",
   "version": "3.7.7"
  }
 },
 "nbformat": 4,
 "nbformat_minor": 4
}
