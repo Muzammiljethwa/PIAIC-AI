{
 "cells": [
  {
   "cell_type": "code",
   "execution_count": 1,
   "metadata": {},
   "outputs": [],
   "source": [
    "import pandas as pd\n",
    "import numpy as np"
   ]
  },
  {
   "cell_type": "code",
   "execution_count": 2,
   "metadata": {},
   "outputs": [],
   "source": [
    "data = pd.read_csv(\"Gold Rates Dataset.csv\")"
   ]
  },
  {
   "cell_type": "code",
   "execution_count": 3,
   "metadata": {},
   "outputs": [
    {
     "data": {
      "text/html": [
       "<div>\n",
       "<style scoped>\n",
       "    .dataframe tbody tr th:only-of-type {\n",
       "        vertical-align: middle;\n",
       "    }\n",
       "\n",
       "    .dataframe tbody tr th {\n",
       "        vertical-align: top;\n",
       "    }\n",
       "\n",
       "    .dataframe thead th {\n",
       "        text-align: right;\n",
       "    }\n",
       "</style>\n",
       "<table border=\"1\" class=\"dataframe\">\n",
       "  <thead>\n",
       "    <tr style=\"text-align: right;\">\n",
       "      <th></th>\n",
       "      <th>v1</th>\n",
       "      <th>v2</th>\n",
       "      <th>v3</th>\n",
       "      <th>v4</th>\n",
       "      <th>v5</th>\n",
       "      <th>target</th>\n",
       "    </tr>\n",
       "  </thead>\n",
       "  <tbody>\n",
       "    <tr>\n",
       "      <th>0</th>\n",
       "      <td>48.38</td>\n",
       "      <td>48.40</td>\n",
       "      <td>48.38</td>\n",
       "      <td>48.41</td>\n",
       "      <td>48.46</td>\n",
       "      <td>48.40</td>\n",
       "    </tr>\n",
       "    <tr>\n",
       "      <th>1</th>\n",
       "      <td>173.00</td>\n",
       "      <td>174.50</td>\n",
       "      <td>174.00</td>\n",
       "      <td>172.25</td>\n",
       "      <td>176.75</td>\n",
       "      <td>177.50</td>\n",
       "    </tr>\n",
       "    <tr>\n",
       "      <th>2</th>\n",
       "      <td>273.75</td>\n",
       "      <td>272.30</td>\n",
       "      <td>272.55</td>\n",
       "      <td>272.70</td>\n",
       "      <td>273.35</td>\n",
       "      <td>272.55</td>\n",
       "    </tr>\n",
       "    <tr>\n",
       "      <th>3</th>\n",
       "      <td>453.95</td>\n",
       "      <td>454.90</td>\n",
       "      <td>452.40</td>\n",
       "      <td>450.90</td>\n",
       "      <td>450.60</td>\n",
       "      <td>453.75</td>\n",
       "    </tr>\n",
       "    <tr>\n",
       "      <th>4</th>\n",
       "      <td>1232.70</td>\n",
       "      <td>1221.02</td>\n",
       "      <td>1225.90</td>\n",
       "      <td>1219.00</td>\n",
       "      <td>1231.19</td>\n",
       "      <td>1237.20</td>\n",
       "    </tr>\n",
       "  </tbody>\n",
       "</table>\n",
       "</div>"
      ],
      "text/plain": [
       "        v1       v2       v3       v4       v5   target\n",
       "0    48.38    48.40    48.38    48.41    48.46    48.40\n",
       "1   173.00   174.50   174.00   172.25   176.75   177.50\n",
       "2   273.75   272.30   272.55   272.70   273.35   272.55\n",
       "3   453.95   454.90   452.40   450.90   450.60   453.75\n",
       "4  1232.70  1221.02  1225.90  1219.00  1231.19  1237.20"
      ]
     },
     "execution_count": 3,
     "metadata": {},
     "output_type": "execute_result"
    }
   ],
   "source": [
    "data.head()"
   ]
  },
  {
   "cell_type": "code",
   "execution_count": 4,
   "metadata": {},
   "outputs": [
    {
     "data": {
      "text/plain": [
       "(        v1       v2       v3       v4       v5\n",
       " 0    48.38    48.40    48.38    48.41    48.46\n",
       " 1   173.00   174.50   174.00   172.25   176.75\n",
       " 2   273.75   272.30   272.55   272.70   273.35\n",
       " 3   453.95   454.90   452.40   450.90   450.60\n",
       " 4  1232.70  1221.02  1225.90  1219.00  1231.19,\n",
       " 0      48.40\n",
       " 1     177.50\n",
       " 2     272.55\n",
       " 3     453.75\n",
       " 4    1237.20\n",
       " Name: target, dtype: float64)"
      ]
     },
     "execution_count": 4,
     "metadata": {},
     "output_type": "execute_result"
    }
   ],
   "source": [
    "y = data[\"target\"]\n",
    "x = data.drop(columns = [\"target\"] )\n",
    "x.head() ,y.head()"
   ]
  },
  {
   "cell_type": "code",
   "execution_count": 220,
   "metadata": {},
   "outputs": [],
   "source": [
    "len(x),len(y)\n",
    "x=x/100\n",
    "y=y/100"
   ]
  },
  {
   "cell_type": "code",
   "execution_count": 221,
   "metadata": {},
   "outputs": [],
   "source": [
    "test_data = x.iloc[:2000]\n",
    "test_targets = y.iloc[:2000]\n",
    "\n",
    "train_data = x.iloc[len(test_data):-1000]\n",
    "train_targets = y.iloc[len(test_targets):-1000]\n",
    "\n",
    "predict_data = x.iloc[-1000:]\n",
    "predict_targets = y.iloc[-1000:]"
   ]
  },
  {
   "cell_type": "code",
   "execution_count": 222,
   "metadata": {},
   "outputs": [
    {
     "data": {
      "text/plain": [
       "(10356, 2000, 1000)"
      ]
     },
     "execution_count": 222,
     "metadata": {},
     "output_type": "execute_result"
    }
   ],
   "source": [
    "len(train_data),len(test_data),len(predict_data),"
   ]
  },
  {
   "cell_type": "code",
   "execution_count": 223,
   "metadata": {},
   "outputs": [
    {
     "data": {
      "text/plain": [
       "(array([3.833 , 3.833 , 3.839 , 3.8135, 3.826 ]), 3.818)"
      ]
     },
     "execution_count": 223,
     "metadata": {},
     "output_type": "execute_result"
    }
   ],
   "source": [
    "np.array(train_data.iloc[0]),train_targets.iloc[0]"
   ]
  },
  {
   "cell_type": "code",
   "execution_count": 224,
   "metadata": {},
   "outputs": [
    {
     "data": {
      "text/plain": [
       "((10356, 5), (10356,))"
      ]
     },
     "execution_count": 224,
     "metadata": {},
     "output_type": "execute_result"
    }
   ],
   "source": [
    "train_data.shape, train_targets.shape"
   ]
  },
  {
   "cell_type": "code",
   "execution_count": 225,
   "metadata": {},
   "outputs": [
    {
     "data": {
      "text/plain": [
       "((2000, 5), (2000,))"
      ]
     },
     "execution_count": 225,
     "metadata": {},
     "output_type": "execute_result"
    }
   ],
   "source": [
    "test_data.shape, test_targets.shape"
   ]
  },
  {
   "cell_type": "code",
   "execution_count": 226,
   "metadata": {},
   "outputs": [
    {
     "data": {
      "text/plain": [
       "(5,)"
      ]
     },
     "execution_count": 226,
     "metadata": {},
     "output_type": "execute_result"
    }
   ],
   "source": [
    "train_data.iloc[0].shape"
   ]
  },
  {
   "cell_type": "code",
   "execution_count": 227,
   "metadata": {},
   "outputs": [
    {
     "data": {
      "text/plain": [
       "v1    1.550023\n",
       "v2    1.550244\n",
       "v3    1.550355\n",
       "v4    1.556247\n",
       "v5    1.582835\n",
       "Name: 2052, dtype: float64"
      ]
     },
     "execution_count": 227,
     "metadata": {},
     "output_type": "execute_result"
    }
   ],
   "source": [
    "mean = train_data.mean(axis=0)\n",
    "std = train_data.std(axis=0)\n",
    "\n",
    "train_data -= mean\n",
    "train_data /= std\n",
    "\n",
    "test_data -= mean\n",
    "test_data /= std\n",
    "\n",
    "predict_data -= mean\n",
    "predict_data /= std\n",
    "\n",
    "train_data.iloc[52]"
   ]
  },
  {
   "cell_type": "code",
   "execution_count": 228,
   "metadata": {},
   "outputs": [],
   "source": [
    "from tensorflow.keras import models, layers"
   ]
  },
  {
   "cell_type": "code",
   "execution_count": 229,
   "metadata": {},
   "outputs": [],
   "source": [
    "model = models.Sequential()\n",
    "\n",
    "model.add(layers.Dense(128, activation='relu', input_shape=(5,)))\n",
    "model.add(layers.BatchNormalization())\n",
    "\n",
    "model.add(layers.Dense(64, activation='relu'))\n",
    "model.add(layers.Dense(32, activation='relu'))\n",
    "model.add(layers.BatchNormalization())\n",
    "\n",
    "model.add(layers.Dense(16, activation='relu'))\n",
    "model.add(layers.Dense(1))\n",
    "\n",
    "model.compile(optimizer='rmsprop', loss='mse', metrics=['mae'])"
   ]
  },
  {
   "cell_type": "code",
   "execution_count": 230,
   "metadata": {},
   "outputs": [
    {
     "name": "stdout",
     "output_type": "stream",
     "text": [
      "WARNING:tensorflow:Falling back from v2 loop because of error: Failed to find data adapter that can handle input: <class 'pandas.core.frame.DataFrame'>, <class 'NoneType'>\n"
     ]
    }
   ],
   "source": [
    "history = model.fit(train_data, train_targets, epochs=500, verbose=0)"
   ]
  },
  {
   "cell_type": "code",
   "execution_count": 231,
   "metadata": {},
   "outputs": [
    {
     "name": "stdout",
     "output_type": "stream",
     "text": [
      "WARNING:tensorflow:Falling back from v2 loop because of error: Failed to find data adapter that can handle input: <class 'pandas.core.frame.DataFrame'>, <class 'NoneType'>\n",
      "2000/2000 [==============================] - 0s 75us/sample - loss: 0.1053 - mae: 0.2151\n"
     ]
    }
   ],
   "source": [
    "test_mse_score, test_mae_score = model.evaluate(test_data, test_targets)"
   ]
  },
  {
   "cell_type": "code",
   "execution_count": 232,
   "metadata": {},
   "outputs": [
    {
     "data": {
      "text/plain": [
       "<Figure size 432x288 with 0 Axes>"
      ]
     },
     "execution_count": 232,
     "metadata": {},
     "output_type": "execute_result"
    },
    {
     "data": {
      "image/png": "[encoded data removed]",
      "text/plain": [
       "<Figure size 432x288 with 1 Axes>"
      ]
     },
     "metadata": {
      "needs_background": "light"
     },
     "output_type": "display_data"
    },
    {
     "data": {
      "text/plain": [
       "<Figure size 432x288 with 0 Axes>"
      ]
     },
     "metadata": {},
     "output_type": "display_data"
    }
   ],
   "source": [
    "import matplotlib.pyplot as plt\n",
    "\n",
    "acc = history.history['mae']\n",
    "epochs = range(1, len(acc) + 1)\n",
    "plt.plot(epochs, acc, 'bo', label='Training acc')\n",
    "plt.title('Training MAE')\n",
    "plt.legend()\n",
    "plt.figure()"
   ]
  },
  {
   "cell_type": "code",
   "execution_count": 233,
   "metadata": {},
   "outputs": [],
   "source": [
    "model.save(\"Gold_Price_Prediction_Model2.h5\")"
   ]
  },
  {
   "cell_type": "code",
   "execution_count": 256,
   "metadata": {},
   "outputs": [],
   "source": [
    "def predict(n, data, label):\n",
    "    \n",
    "    inp = np.array(data[n]).reshape((1,5))  \n",
    "    prediction = model.predict(inp)\n",
    "    \n",
    "    diff = float(prediction[0][0]) -  float(label[n])\n",
    "    \n",
    "    print(\"Predicted: %s\"%(prediction[0][0]*100) + '\\n' + \"Actual   : %s\"%(label[n]*100)\n",
    "         + '\\n' + \"Difference: %.2f\"%(diff*100))"
   ]
  },
  {
   "cell_type": "code",
   "execution_count": 257,
   "metadata": {},
   "outputs": [],
   "source": [
    "train_data = np.array(train_data)\n",
    "train_targets = np.array(train_targets)\n",
    "\n",
    "test_data = np.array(test_data)\n",
    "test_targets = np.array(test_targets)\n",
    "\n",
    "predict_data = np.array(predict_data)\n",
    "predict_targets = np.array(predict_targets)"
   ]
  },
  {
   "cell_type": "code",
   "execution_count": 258,
   "metadata": {},
   "outputs": [
    {
     "name": "stdout",
     "output_type": "stream",
     "text": [
      "Predicted: 122.51582145690918\n",
      "Actual   : 115.40000000000002\n",
      "Difference: 7.12\n",
      "\n",
      "Predicted: 1175.5520820617676\n",
      "Actual   : 1225.59\n",
      "Difference: -50.04\n"
     ]
    }
   ],
   "source": [
    "predict(1050,train_data,train_targets)\n",
    "print()\n",
    "predict(540,test_data,test_targets)"
   ]
  },
  {
   "cell_type": "code",
   "execution_count": 259,
   "metadata": {},
   "outputs": [
    {
     "name": "stdout",
     "output_type": "stream",
     "text": [
      "Predicted: 1295.1790809631348\n",
      "Actual   : 1333.64\n",
      "Difference: -38.46\n",
      "\n",
      "Predicted: 404.5359134674072\n",
      "Actual   : 403.96999999999997\n",
      "Difference: 0.57\n",
      "\n",
      "Predicted: 326.1625289916992\n",
      "Actual   : 316.2\n",
      "Difference: 9.96\n",
      "\n",
      "Predicted: 399.45127964019775\n",
      "Actual   : 398.41\n",
      "Difference: 1.04\n",
      "\n",
      "Predicted: 76.25011205673218\n",
      "Actual   : 66.85\n",
      "Difference: 9.40\n",
      "\n",
      "Predicted: 881.8991661071777\n",
      "Actual   : 891.15\n",
      "Difference: -9.25\n",
      "\n",
      "Predicted: 1644.0296173095703\n",
      "Actual   : 1742.0200000000002\n",
      "Difference: -97.99\n",
      "\n",
      "Predicted: 356.4732789993286\n",
      "Actual   : 342.45\n",
      "Difference: 14.02\n",
      "\n",
      "Predicted: 1079.7929763793945\n",
      "Actual   : 1142.55\n",
      "Difference: -62.76\n",
      "\n",
      "Predicted: 710.3782653808594\n",
      "Actual   : 730.3\n",
      "Difference: -19.92\n",
      "\n"
     ]
    }
   ],
   "source": [
    "random = [12,450,950,50,754,68,500,69,815,456]\n",
    "for i in random:\n",
    "    predict(i,predict_data,predict_targets)\n",
    "    print()"
   ]
  },
  {
   "cell_type": "markdown",
   "metadata": {},
   "source": [
    "# Predicting Latest Data"
   ]
  },
  {
   "cell_type": "code",
   "execution_count": 239,
   "metadata": {},
   "outputs": [],
   "source": [
    "from fetch_data import get_latest_data"
   ]
  },
  {
   "cell_type": "code",
   "execution_count": 285,
   "metadata": {},
   "outputs": [
    {
     "name": "stdout",
     "output_type": "stream",
     "text": [
      "Fetching data......\n",
      "\n",
      "09-Oct-2020 : 1930.33\n",
      "08-Oct-2020 : 1895.3\n",
      "07-Oct-2020 : 1887.07\n",
      "06-Oct-2020 : 1880.15\n",
      "05-Oct-2020 : 1912.4\n",
      "\n",
      "\n"
     ]
    }
   ],
   "source": [
    "o = get_latest_data()"
   ]
  },
  {
   "cell_type": "code",
   "execution_count": 287,
   "metadata": {},
   "outputs": [],
   "source": [
    "len(o),o"
   ]
  },
  {
   "cell_type": "code",
   "execution_count": 289,
   "metadata": {},
   "outputs": [
    {
     "data": {
      "text/plain": [
       "[19.3033, 18.953, 18.8707, 18.8015, 19.124000000000002]"
      ]
     },
     "execution_count": 289,
     "metadata": {},
     "output_type": "execute_result"
    }
   ],
   "source": [
    "p = []\n",
    "for i in o:\n",
    "    p.append(float(i)/100)\n",
    "p"
   ]
  },
  {
   "cell_type": "code",
   "execution_count": 290,
   "metadata": {},
   "outputs": [],
   "source": [
    "an_array = np.array(p)\n",
    "\n",
    "an_array -= mean\n",
    "an_array /= std"
   ]
  },
  {
   "cell_type": "code",
   "execution_count": 291,
   "metadata": {},
   "outputs": [
    {
     "data": {
      "text/plain": [
       "v1    2.963948\n",
       "v2    2.889753\n",
       "v3    2.872527\n",
       "v4    2.859021\n",
       "v5    2.929986\n",
       "dtype: float64"
      ]
     },
     "execution_count": 291,
     "metadata": {},
     "output_type": "execute_result"
    }
   ],
   "source": [
    "an_array"
   ]
  },
  {
   "cell_type": "code",
   "execution_count": 264,
   "metadata": {},
   "outputs": [],
   "source": [
    "def predict_1d(data):\n",
    "    inp = np.array(data).reshape((1,5))  \n",
    "    prediction = model.predict(inp)\n",
    "    \n",
    "    print(\"Predicted: %s\"%(prediction[0][0]*100))"
   ]
  },
  {
   "cell_type": "code",
   "execution_count": 294,
   "metadata": {},
   "outputs": [
    {
     "name": "stdout",
     "output_type": "stream",
     "text": [
      "Predicted: 1805.381965637207\n"
     ]
    }
   ],
   "source": [
    "predict_1d(an_array)"
   ]
  },
  {
   "cell_type": "code",
   "execution_count": 348,
   "metadata": {},
   "outputs": [],
   "source": [
    "import json"
   ]
  },
  {
   "cell_type": "code",
   "execution_count": 374,
   "metadata": {},
   "outputs": [
    {
     "name": "stdout",
     "output_type": "stream",
     "text": [
      "{'mean': [5.560248376786387, 5.558829971031259, 5.557766830822697, 5.556212640981021, 5.554484666859771], 'std': [4.636739164735186, 4.635057018774363, 4.63457134642495, 4.632804540472007, 4.631256802795307]} \n",
      "\n",
      "<class 'dict'>\n"
     ]
    }
   ],
   "source": [
    "dictionary = {\n",
    "    \"mean\":list(mean),\n",
    "    \"std\" :list(std)\n",
    "}\n",
    "print(dictionary,\"\\n\")\n",
    "print(type(dictionary))"
   ]
  },
  {
   "cell_type": "code",
   "execution_count": 346,
   "metadata": {},
   "outputs": [],
   "source": [
    "with open(\"mean_info.json\",\"w\") as json_file:\n",
    "    json.dump(dictionary,json_file)\n",
    "json_file.close()"
   ]
  },
  {
   "cell_type": "code",
   "execution_count": 363,
   "metadata": {},
   "outputs": [
    {
     "data": {
      "text/plain": [
       "{'mean': [5.560248376786387,\n",
       "  5.558829971031259,\n",
       "  5.557766830822697,\n",
       "  5.556212640981021,\n",
       "  5.554484666859771],\n",
       " 'std': [4.636739164735186,\n",
       "  4.635057018774363,\n",
       "  4.63457134642495,\n",
       "  4.632804540472007,\n",
       "  4.631256802795307]}"
      ]
     },
     "execution_count": 363,
     "metadata": {},
     "output_type": "execute_result"
    }
   ],
   "source": [
    "json_file = open(\"mean_info.json\",\"r\")\n",
    "f = json.load(json_file)\n",
    "f"
   ]
  },
  {
   "cell_type": "code",
   "execution_count": 366,
   "metadata": {},
   "outputs": [],
   "source": [
    "mean_f = np.array(f['mean'])\n",
    "std_f = np.array(f['std'])\n",
    "json_file.close()"
   ]
  },
  {
   "cell_type": "code",
   "execution_count": 369,
   "metadata": {},
   "outputs": [],
   "source": [
    "an_array_f = np.array(p)\n",
    "\n",
    "an_array_f -= mean_f\n",
    "an_array_f /= std_f"
   ]
  },
  {
   "cell_type": "code",
   "execution_count": 370,
   "metadata": {},
   "outputs": [
    {
     "data": {
      "text/plain": [
       "(v1    2.963948\n",
       " v2    2.889753\n",
       " v3    2.872527\n",
       " v4    2.859021\n",
       " v5    2.929986\n",
       " dtype: float64,\n",
       " array([2.96394754, 2.88975302, 2.8725274 , 2.85902141, 2.92998551]))"
      ]
     },
     "execution_count": 370,
     "metadata": {},
     "output_type": "execute_result"
    }
   ],
   "source": [
    "an_array,an_array_f"
   ]
  },
  {
   "cell_type": "code",
   "execution_count": 371,
   "metadata": {},
   "outputs": [
    {
     "name": "stdout",
     "output_type": "stream",
     "text": [
      "Predicted: 1805.381965637207\n"
     ]
    }
   ],
   "source": [
    "predict_1d(an_array_f)"
   ]
  },
  {
   "cell_type": "code",
   "execution_count": 377,
   "metadata": {},
   "outputs": [
    {
     "name": "stdout",
     "output_type": "stream",
     "text": [
      "{'mean': [5.560248376786387,\n",
      "          5.558829971031259,\n",
      "          5.557766830822697,\n",
      "          5.556212640981021,\n",
      "          5.554484666859771],\n",
      " 'std': [4.636739164735186,\n",
      "         4.635057018774363,\n",
      "         4.63457134642495,\n",
      "         4.632804540472007,\n",
      "         4.631256802795307]}\n"
     ]
    }
   ],
   "source": [
    "import pprint\n",
    "pprint.pprint(f)"
   ]
  },
  {
   "cell_type": "code",
   "execution_count": null,
   "metadata": {},
   "outputs": [],
   "source": []
  }
 ],
 "metadata": {
  "kernelspec": {
   "display_name": "Python 3",
   "language": "python",
   "name": "python3"
  },
  "language_info": {
   "codemirror_mode": {
    "name": "ipython",
    "version": 3
   },
   "file_extension": ".py",
   "mimetype": "text/x-python",
   "name": "python",
   "nbconvert_exporter": "python",
   "pygments_lexer": "ipython3",
   "version": "3.7.7"
  }
 },
 "nbformat": 4,
 "nbformat_minor": 4
}
