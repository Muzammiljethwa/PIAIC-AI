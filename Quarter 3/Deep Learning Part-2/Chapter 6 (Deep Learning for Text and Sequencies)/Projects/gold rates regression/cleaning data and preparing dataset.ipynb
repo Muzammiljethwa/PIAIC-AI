{
 "cells": [
  {
   "cell_type": "code",
   "execution_count": 1,
   "metadata": {},
   "outputs": [
    {
     "data": {
      "text/html": [
       "<div>\n",
       "<style scoped>\n",
       "    .dataframe tbody tr th:only-of-type {\n",
       "        vertical-align: middle;\n",
       "    }\n",
       "\n",
       "    .dataframe tbody tr th {\n",
       "        vertical-align: top;\n",
       "    }\n",
       "\n",
       "    .dataframe thead th {\n",
       "        text-align: right;\n",
       "    }\n",
       "</style>\n",
       "<table border=\"1\" class=\"dataframe\">\n",
       "  <thead>\n",
       "    <tr style=\"text-align: right;\">\n",
       "      <th></th>\n",
       "      <th>Date</th>\n",
       "      <th>Rates</th>\n",
       "    </tr>\n",
       "  </thead>\n",
       "  <tbody>\n",
       "    <tr>\n",
       "      <th>0</th>\n",
       "      <td>30 Sep 2020</td>\n",
       "      <td>1892.62</td>\n",
       "    </tr>\n",
       "    <tr>\n",
       "      <th>1</th>\n",
       "      <td>29 Sep 2020</td>\n",
       "      <td>1896.80</td>\n",
       "    </tr>\n",
       "    <tr>\n",
       "      <th>2</th>\n",
       "      <td>28 Sep 2020</td>\n",
       "      <td>1882.46</td>\n",
       "    </tr>\n",
       "    <tr>\n",
       "      <th>3</th>\n",
       "      <td>25 Sep 2020</td>\n",
       "      <td>1861.33</td>\n",
       "    </tr>\n",
       "    <tr>\n",
       "      <th>4</th>\n",
       "      <td>24 Sep 2020</td>\n",
       "      <td>1867.99</td>\n",
       "    </tr>\n",
       "    <tr>\n",
       "      <th>5</th>\n",
       "      <td>23 Sep 2020</td>\n",
       "      <td>1855.03</td>\n",
       "    </tr>\n",
       "  </tbody>\n",
       "</table>\n",
       "</div>"
      ],
      "text/plain": [
       "          Date    Rates\n",
       "0  30 Sep 2020  1892.62\n",
       "1  29 Sep 2020  1896.80\n",
       "2  28 Sep 2020  1882.46\n",
       "3  25 Sep 2020  1861.33\n",
       "4  24 Sep 2020  1867.99\n",
       "5  23 Sep 2020  1855.03"
      ]
     },
     "execution_count": 1,
     "metadata": {},
     "output_type": "execute_result"
    }
   ],
   "source": [
    "import pandas as pd\n",
    "import numpy as np\n",
    "data = pd.read_csv(\"./gold.csv\")\n",
    "data[:6]"
   ]
  },
  {
   "cell_type": "code",
   "execution_count": 2,
   "metadata": {},
   "outputs": [
    {
     "data": {
      "text/plain": [
       "24"
      ]
     },
     "execution_count": 2,
     "metadata": {},
     "output_type": "execute_result"
    }
   ],
   "source": [
    "rates = data['Rates']\n",
    "sum(rates.isnull())"
   ]
  },
  {
   "cell_type": "code",
   "execution_count": 3,
   "metadata": {},
   "outputs": [],
   "source": [
    "rates = rates.fillna(method=\"pad\")"
   ]
  },
  {
   "cell_type": "code",
   "execution_count": 4,
   "metadata": {},
   "outputs": [
    {
     "data": {
      "text/plain": [
       "0"
      ]
     },
     "execution_count": 4,
     "metadata": {},
     "output_type": "execute_result"
    }
   ],
   "source": [
    "sum(rates.isnull())"
   ]
  },
  {
   "cell_type": "code",
   "execution_count": 5,
   "metadata": {},
   "outputs": [],
   "source": [
    "# n = 5\n",
    "# list_df = [rates[i:i+n] for i in range(0,rates.shape[0],n)]"
   ]
  },
  {
   "cell_type": "code",
   "execution_count": 8,
   "metadata": {},
   "outputs": [
    {
     "data": {
      "text/plain": [
       "13361"
      ]
     },
     "execution_count": 8,
     "metadata": {},
     "output_type": "execute_result"
    }
   ],
   "source": [
    "rates.shape[0]"
   ]
  },
  {
   "cell_type": "code",
   "execution_count": 142,
   "metadata": {},
   "outputs": [],
   "source": [
    "p=5\n",
    "pr = []\n",
    "for i in range(0,rates.shape[0]):\n",
    "    pr.append(rates[i+p])              #if it gave an error so ignore it and run further cells"
   ]
  },
  {
   "cell_type": "code",
   "execution_count": 10,
   "metadata": {},
   "outputs": [
    {
     "data": {
      "text/plain": [
       "(1855.03, 1904.4, 1917.23)"
      ]
     },
     "execution_count": 10,
     "metadata": {},
     "output_type": "execute_result"
    }
   ],
   "source": [
    "pr[0],pr[1],pr[2]"
   ]
  },
  {
   "cell_type": "code",
   "execution_count": 115,
   "metadata": {},
   "outputs": [],
   "source": [
    "p=5\n",
    "val= []\n",
    "for i in range(0,rates.shape[0]):\n",
    "    val.append(list(rates[i:i+p]))"
   ]
  },
  {
   "cell_type": "code",
   "execution_count": 116,
   "metadata": {},
   "outputs": [
    {
     "data": {
      "text/plain": [
       "array([1892.62, 1896.8 , 1882.46, 1861.33, 1867.99])"
      ]
     },
     "execution_count": 116,
     "metadata": {},
     "output_type": "execute_result"
    }
   ],
   "source": [
    "np.array(val[0])"
   ]
  },
  {
   "cell_type": "code",
   "execution_count": 117,
   "metadata": {},
   "outputs": [
    {
     "data": {
      "text/plain": [
       "(13356, 13361)"
      ]
     },
     "execution_count": 117,
     "metadata": {},
     "output_type": "execute_result"
    }
   ],
   "source": [
    "len(pr),len(val)"
   ]
  },
  {
   "cell_type": "code",
   "execution_count": 118,
   "metadata": {},
   "outputs": [],
   "source": [
    "val = val[:len(pr)]    "
   ]
  },
  {
   "cell_type": "code",
   "execution_count": 119,
   "metadata": {},
   "outputs": [
    {
     "data": {
      "text/plain": [
       "(13356, 13356)"
      ]
     },
     "execution_count": 119,
     "metadata": {},
     "output_type": "execute_result"
    }
   ],
   "source": [
    "len(pr),len(val)"
   ]
  },
  {
   "cell_type": "code",
   "execution_count": 120,
   "metadata": {},
   "outputs": [
    {
     "data": {
      "text/plain": [
       "[1892.62, 1896.8, 1882.46, 1861.33, 1867.99]"
      ]
     },
     "execution_count": 120,
     "metadata": {},
     "output_type": "execute_result"
    }
   ],
   "source": [
    "val[0]"
   ]
  },
  {
   "cell_type": "code",
   "execution_count": 121,
   "metadata": {},
   "outputs": [],
   "source": [
    "# data_csv = []\n",
    "# for i in range(len(rates)):\n",
    "#     data_csv.append([data[\"Date\"].iloc[i],rates.iloc[i]])"
   ]
  },
  {
   "cell_type": "code",
   "execution_count": 122,
   "metadata": {},
   "outputs": [],
   "source": [
    "# len(data_csv),data_csv[0]"
   ]
  },
  {
   "cell_type": "code",
   "execution_count": 123,
   "metadata": {},
   "outputs": [],
   "source": [
    "# data_csv = np.array(data_csv)\n",
    "# length = len(data_csv)\n",
    "# print(length,data_csv.shape)\n",
    "\n",
    "# data_csv = np.insert(data_csv, 0, [\"Dates\",\"Rates\"])\n",
    "# data_csv = data_csv.reshape( (length+1, 2) )\n",
    "# len(data_csv)"
   ]
  },
  {
   "cell_type": "code",
   "execution_count": 124,
   "metadata": {},
   "outputs": [],
   "source": [
    "# data_csv"
   ]
  },
  {
   "cell_type": "code",
   "execution_count": 125,
   "metadata": {},
   "outputs": [],
   "source": [
    "# import csv\n",
    "# with open('new_gold.csv', 'w', newline='') as file:\n",
    "#     writer = csv.writer(file)\n",
    "#     writer.writerows(data_csv)"
   ]
  },
  {
   "cell_type": "code",
   "execution_count": 126,
   "metadata": {},
   "outputs": [
    {
     "data": {
      "text/plain": [
       "[1892.62, 1896.8, 1882.46, 1861.33, 1867.99]"
      ]
     },
     "execution_count": 126,
     "metadata": {},
     "output_type": "execute_result"
    }
   ],
   "source": [
    "val[0]"
   ]
  },
  {
   "cell_type": "code",
   "execution_count": 128,
   "metadata": {},
   "outputs": [],
   "source": [
    "dataset = []\n",
    "for i in range(len(pr)):\n",
    "    row = list(val[i])\n",
    "    row.append(pr[i])\n",
    "    dataset.append(row)"
   ]
  },
  {
   "cell_type": "code",
   "execution_count": 129,
   "metadata": {},
   "outputs": [
    {
     "data": {
      "text/plain": [
       "(13356, (13356, 6), list)"
      ]
     },
     "execution_count": 129,
     "metadata": {},
     "output_type": "execute_result"
    }
   ],
   "source": [
    "len(dataset), np.array(dataset).shape,type(dataset)"
   ]
  },
  {
   "cell_type": "code",
   "execution_count": 130,
   "metadata": {},
   "outputs": [
    {
     "data": {
      "text/plain": [
       "([1892.62, 1896.8, 1882.46, 1861.33, 1867.99, 1855.03],\n",
       " [1892.62, 1896.8, 1882.46, 1861.33, 1867.99],\n",
       " 1855.03)"
      ]
     },
     "execution_count": 130,
     "metadata": {},
     "output_type": "execute_result"
    }
   ],
   "source": [
    "dataset[0],val[0],pr[0]"
   ]
  },
  {
   "cell_type": "code",
   "execution_count": 131,
   "metadata": {},
   "outputs": [
    {
     "data": {
      "text/plain": [
       "(13356, 6)"
      ]
     },
     "execution_count": 131,
     "metadata": {},
     "output_type": "execute_result"
    }
   ],
   "source": [
    "dataset = np.array(dataset)\n",
    "np.random.shuffle(dataset)\n",
    "np.random.shuffle(dataset)\n",
    "dataset.shape"
   ]
  },
  {
   "cell_type": "code",
   "execution_count": 132,
   "metadata": {},
   "outputs": [
    {
     "data": {
      "text/plain": [
       "(13357, 13356)"
      ]
     },
     "execution_count": 132,
     "metadata": {},
     "output_type": "execute_result"
    }
   ],
   "source": [
    "dataset2 = list(dataset)                           # dataset2 = dataset\n",
    "append_item = dataset[0]                           # length = len(dataset2)\n",
    "                                                   # # shape = dataset2[0].shape\n",
    "dataset2[0] = [\"v1\",\"v2\",\"v3\",\"v4\",\"v5\",\"target\"]  # print(length,type(dataset2))\n",
    "\n",
    "dataset2.append(append_item)\n",
    "len(dataset2),len(dataset)                      # header = [\"value1\",\"value2\",\"value3\",\"value4\",\"value5\",\"target\"]\n",
    "                                                # dataset2 = np.insert(dataset2,0,header)\n",
    "                                                # # dataset2 = dataset2.reshape( (length+1, 6 ) )\n",
    "                                                # # len(dataset2),dataset2.shape"
   ]
  },
  {
   "cell_type": "code",
   "execution_count": 133,
   "metadata": {},
   "outputs": [
    {
     "data": {
      "text/plain": [
       "((13357, 6),\n",
       " [['v1', 'v2', 'v3', 'v4', 'v5', 'target'],\n",
       "  array([48.38, 48.4 , 48.38, 48.41, 48.46, 48.4 ]),\n",
       "  array([173.  , 174.5 , 174.  , 172.25, 176.75, 177.5 ]),\n",
       "  array([273.75, 272.3 , 272.55, 272.7 , 273.35, 272.55]),\n",
       "  array([453.95, 454.9 , 452.4 , 450.9 , 450.6 , 453.75]),\n",
       "  array([1232.7 , 1221.02, 1225.9 , 1219.  , 1231.19, 1237.2 ]),\n",
       "  array([390.39, 397.35, 400.13, 400.4 , 398.66, 399.33]),\n",
       "  array([225.5 , 223.15, 218.6 , 226.8 , 220.65, 220.5 ]),\n",
       "  array([694.3 , 681.6 , 681.  , 671.8 , 673.05, 665.65]),\n",
       "  array([152.8 , 150.4 , 152.  , 150.05, 148.9 , 147.5 ])])"
      ]
     },
     "execution_count": 133,
     "metadata": {},
     "output_type": "execute_result"
    }
   ],
   "source": [
    "np.array(dataset2).shape, dataset2[:10]"
   ]
  },
  {
   "cell_type": "code",
   "execution_count": 136,
   "metadata": {},
   "outputs": [],
   "source": [
    "import csv\n",
    "with open('Gold Rates Dataset.csv', 'w', newline='') as file:\n",
    "    writer = csv.writer(file)\n",
    "    writer.writerows(dataset2)"
   ]
  },
  {
   "cell_type": "code",
   "execution_count": 137,
   "metadata": {},
   "outputs": [],
   "source": [
    "df = pd.read_csv(\"Gold Rates Dataset.csv\")"
   ]
  },
  {
   "cell_type": "code",
   "execution_count": 140,
   "metadata": {},
   "outputs": [
    {
     "data": {
      "text/html": [
       "<div>\n",
       "<style scoped>\n",
       "    .dataframe tbody tr th:only-of-type {\n",
       "        vertical-align: middle;\n",
       "    }\n",
       "\n",
       "    .dataframe tbody tr th {\n",
       "        vertical-align: top;\n",
       "    }\n",
       "\n",
       "    .dataframe thead th {\n",
       "        text-align: right;\n",
       "    }\n",
       "</style>\n",
       "<table border=\"1\" class=\"dataframe\">\n",
       "  <thead>\n",
       "    <tr style=\"text-align: right;\">\n",
       "      <th></th>\n",
       "      <th>v1</th>\n",
       "      <th>v2</th>\n",
       "      <th>v3</th>\n",
       "      <th>v4</th>\n",
       "      <th>v5</th>\n",
       "      <th>target</th>\n",
       "    </tr>\n",
       "  </thead>\n",
       "  <tbody>\n",
       "    <tr>\n",
       "      <th>0</th>\n",
       "      <td>48.38</td>\n",
       "      <td>48.40</td>\n",
       "      <td>48.38</td>\n",
       "      <td>48.41</td>\n",
       "      <td>48.46</td>\n",
       "      <td>48.40</td>\n",
       "    </tr>\n",
       "    <tr>\n",
       "      <th>1</th>\n",
       "      <td>173.00</td>\n",
       "      <td>174.50</td>\n",
       "      <td>174.00</td>\n",
       "      <td>172.25</td>\n",
       "      <td>176.75</td>\n",
       "      <td>177.50</td>\n",
       "    </tr>\n",
       "    <tr>\n",
       "      <th>2</th>\n",
       "      <td>273.75</td>\n",
       "      <td>272.30</td>\n",
       "      <td>272.55</td>\n",
       "      <td>272.70</td>\n",
       "      <td>273.35</td>\n",
       "      <td>272.55</td>\n",
       "    </tr>\n",
       "    <tr>\n",
       "      <th>3</th>\n",
       "      <td>453.95</td>\n",
       "      <td>454.90</td>\n",
       "      <td>452.40</td>\n",
       "      <td>450.90</td>\n",
       "      <td>450.60</td>\n",
       "      <td>453.75</td>\n",
       "    </tr>\n",
       "    <tr>\n",
       "      <th>4</th>\n",
       "      <td>1232.70</td>\n",
       "      <td>1221.02</td>\n",
       "      <td>1225.90</td>\n",
       "      <td>1219.00</td>\n",
       "      <td>1231.19</td>\n",
       "      <td>1237.20</td>\n",
       "    </tr>\n",
       "  </tbody>\n",
       "</table>\n",
       "</div>"
      ],
      "text/plain": [
       "        v1       v2       v3       v4       v5   target\n",
       "0    48.38    48.40    48.38    48.41    48.46    48.40\n",
       "1   173.00   174.50   174.00   172.25   176.75   177.50\n",
       "2   273.75   272.30   272.55   272.70   273.35   272.55\n",
       "3   453.95   454.90   452.40   450.90   450.60   453.75\n",
       "4  1232.70  1221.02  1225.90  1219.00  1231.19  1237.20"
      ]
     },
     "execution_count": 140,
     "metadata": {},
     "output_type": "execute_result"
    }
   ],
   "source": [
    "df.head()"
   ]
  },
  {
   "cell_type": "code",
   "execution_count": 189,
   "metadata": {},
   "outputs": [],
   "source": [
    "from fetch_data import get_latest_data"
   ]
  },
  {
   "cell_type": "code",
   "execution_count": 194,
   "metadata": {},
   "outputs": [
    {
     "name": "stdout",
     "output_type": "stream",
     "text": [
      "Fetching data......\n",
      "\n",
      "01-Oct-2020 : 1897.79\n",
      "30-Sep-2020 : 1887.78\n",
      "29-Sep-2020 : 1896.8\n",
      "28-Sep-2020 : 1882.46\n",
      "25-Sep-2020 : 1861.33\n"
     ]
    },
    {
     "data": {
      "text/plain": [
       "['1897.79', '1887.78', '1896.80', '1882.46', '1861.33']"
      ]
     },
     "execution_count": 194,
     "metadata": {},
     "output_type": "execute_result"
    }
   ],
   "source": [
    "latest_data = get_latest_data() \n",
    "latest_data \n",
    "#will fetch 5 latest data"
   ]
  },
  {
   "cell_type": "code",
   "execution_count": 192,
   "metadata": {},
   "outputs": [],
   "source": [
    "latest_data_with_range = get_latest_data(num=10)\n",
    "#will fetch 10 latest data"
   ]
  },
  {
   "cell_type": "code",
   "execution_count": null,
   "metadata": {},
   "outputs": [],
   "source": []
  }
 ],
 "metadata": {
  "kernelspec": {
   "display_name": "Python 3",
   "language": "python",
   "name": "python3"
  },
  "language_info": {
   "codemirror_mode": {
    "name": "ipython",
    "version": 3
   },
   "file_extension": ".py",
   "mimetype": "text/x-python",
   "name": "python",
   "nbconvert_exporter": "python",
   "pygments_lexer": "ipython3",
   "version": "3.7.7"
  }
 },
 "nbformat": 4,
 "nbformat_minor": 4
}
