{
 "cells": [
  {
   "cell_type": "code",
   "execution_count": 11,
   "metadata": {},
   "outputs": [],
   "source": [
    "from tensorflow.keras.models import load_model\n",
    "from fetch_data import get_latest_data\n",
    "import numpy\n",
    "import json\n",
    "import pprint"
   ]
  },
  {
   "cell_type": "code",
   "execution_count": 44,
   "metadata": {},
   "outputs": [],
   "source": []
  },
  {
   "cell_type": "code",
   "execution_count": 2,
   "metadata": {},
   "outputs": [],
   "source": [
    "model = load_model(\"Gold_Price_Prediction_Model2.h5\")"
   ]
  },
  {
   "cell_type": "code",
   "execution_count": 3,
   "metadata": {},
   "outputs": [
    {
     "name": "stdout",
     "output_type": "stream",
     "text": [
      "Fetching data......\n",
      "\n",
      "13-Oct-2020 : 1919.7\n",
      "12-Oct-2020 : 1924.9\n",
      "09-Oct-2020 : 1930.33\n",
      "08-Oct-2020 : 1895.3\n",
      "07-Oct-2020 : 1887.07\n",
      "\n",
      "\n"
     ]
    }
   ],
   "source": [
    "data = get_latest_data()"
   ]
  },
  {
   "cell_type": "code",
   "execution_count": 4,
   "metadata": {},
   "outputs": [
    {
     "data": {
      "text/plain": [
       "(5, [1919.7, 1924.9, 1930.33, 1895.3, 1887.07])"
      ]
     },
     "execution_count": 4,
     "metadata": {},
     "output_type": "execute_result"
    }
   ],
   "source": [
    "len(data),data"
   ]
  },
  {
   "cell_type": "code",
   "execution_count": 8,
   "metadata": {},
   "outputs": [
    {
     "data": {
      "text/plain": [
       "array([19.197 , 19.249 , 19.3033, 18.953 , 18.8707])"
      ]
     },
     "execution_count": 8,
     "metadata": {},
     "output_type": "execute_result"
    }
   ],
   "source": [
    "li = []\n",
    "for i in data:\n",
    "    li.append(float(i)/100)\n",
    "li = numpy.array(li)\n",
    "li"
   ]
  },
  {
   "cell_type": "code",
   "execution_count": 24,
   "metadata": {},
   "outputs": [],
   "source": [
    "def predict_1d(data):\n",
    "    \n",
    "    inp = numpy.array(data).reshape((1,5))  \n",
    "    prediction = model.predict(inp)\n",
    "    print(\"Predicted: %s\"%(prediction[0][0]*100))\n",
    "    return float(prediction[0][0]*100)"
   ]
  },
  {
   "cell_type": "code",
   "execution_count": 12,
   "metadata": {},
   "outputs": [
    {
     "name": "stdout",
     "output_type": "stream",
     "text": [
      "{'mean': [5.560248376786387,\n",
      "          5.558829971031259,\n",
      "          5.557766830822697,\n",
      "          5.556212640981021,\n",
      "          5.554484666859771],\n",
      " 'std': [4.636739164735186,\n",
      "         4.635057018774363,\n",
      "         4.63457134642495,\n",
      "         4.632804540472007,\n",
      "         4.631256802795307]}\n"
     ]
    }
   ],
   "source": [
    "json_file = open(\"mean_info.json\",\"r\")\n",
    "file = json.load(json_file)\n",
    "pprint.pprint(file)"
   ]
  },
  {
   "cell_type": "code",
   "execution_count": 18,
   "metadata": {},
   "outputs": [],
   "source": [
    "mean = numpy.array(file['mean'])\n",
    "std = numpy.array(file['std'])\n",
    "json_file.close()"
   ]
  },
  {
   "cell_type": "code",
   "execution_count": 20,
   "metadata": {},
   "outputs": [
    {
     "data": {
      "text/plain": [
       "(array([5.56024838, 5.55882997, 5.55776683, 5.55621264, 5.55448467]),\n",
       " array([4.63673916, 4.63505702, 4.63457135, 4.63280454, 4.6312568 ]))"
      ]
     },
     "execution_count": 20,
     "metadata": {},
     "output_type": "execute_result"
    }
   ],
   "source": [
    "mean,std"
   ]
  },
  {
   "cell_type": "code",
   "execution_count": 21,
   "metadata": {},
   "outputs": [],
   "source": [
    "li -= mean\n",
    "li /= std"
   ]
  },
  {
   "cell_type": "code",
   "execution_count": 22,
   "metadata": {},
   "outputs": [
    {
     "data": {
      "text/plain": [
       "array([2.94102194, 2.95361416, 2.96586936, 2.89172298, 2.87529193])"
      ]
     },
     "execution_count": 22,
     "metadata": {},
     "output_type": "execute_result"
    }
   ],
   "source": [
    "li"
   ]
  },
  {
   "cell_type": "code",
   "execution_count": 25,
   "metadata": {},
   "outputs": [
    {
     "name": "stdout",
     "output_type": "stream",
     "text": [
      "Predicted: 1782.784652709961\n"
     ]
    }
   ],
   "source": [
    "predicted_data = predict_1d(li)"
   ]
  },
  {
   "cell_type": "code",
   "execution_count": 47,
   "metadata": {},
   "outputs": [],
   "source": [
    "import predict_for_tomorrow"
   ]
  },
  {
   "cell_type": "code",
   "execution_count": 49,
   "metadata": {},
   "outputs": [
    {
     "name": "stdout",
     "output_type": "stream",
     "text": [
      "Fetching data......\n",
      "\n",
      "13-Oct-2020 : 1919.7\n",
      "12-Oct-2020 : 1924.9\n",
      "09-Oct-2020 : 1930.33\n",
      "08-Oct-2020 : 1895.3\n",
      "07-Oct-2020 : 1887.07\n",
      "\n",
      "\n",
      "Predicted: 1782.784652709961\n"
     ]
    },
    {
     "data": {
      "text/plain": [
       "1782.784652709961"
      ]
     },
     "execution_count": 49,
     "metadata": {},
     "output_type": "execute_result"
    }
   ],
   "source": [
    "predict_for_tomorrow.predict_for_tomorrow()"
   ]
  },
  {
   "cell_type": "code",
   "execution_count": null,
   "metadata": {},
   "outputs": [],
   "source": []
  }
 ],
 "metadata": {
  "kernelspec": {
   "display_name": "Python 3",
   "language": "python",
   "name": "python3"
  },
  "language_info": {
   "codemirror_mode": {
    "name": "ipython",
    "version": 3
   },
   "file_extension": ".py",
   "mimetype": "text/x-python",
   "name": "python",
   "nbconvert_exporter": "python",
   "pygments_lexer": "ipython3",
   "version": "3.7.7"
  }
 },
 "nbformat": 4,
 "nbformat_minor": 4
}
