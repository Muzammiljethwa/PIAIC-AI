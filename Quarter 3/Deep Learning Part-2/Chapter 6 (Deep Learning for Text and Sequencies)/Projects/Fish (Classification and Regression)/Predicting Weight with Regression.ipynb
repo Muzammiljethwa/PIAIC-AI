{
 "cells": [
  {
   "cell_type": "code",
   "execution_count": 1,
   "metadata": {},
   "outputs": [],
   "source": [
    "import pandas as pd\n",
    "import numpy as np"
   ]
  },
  {
   "cell_type": "code",
   "execution_count": 2,
   "metadata": {},
   "outputs": [],
   "source": [
    "data = pd.read_csv(\"Fish_Classification_Dataset.csv\")"
   ]
  },
  {
   "cell_type": "code",
   "execution_count": 3,
   "metadata": {},
   "outputs": [
    {
     "data": {
      "text/html": [
       "<div>\n",
       "<style scoped>\n",
       "    .dataframe tbody tr th:only-of-type {\n",
       "        vertical-align: middle;\n",
       "    }\n",
       "\n",
       "    .dataframe tbody tr th {\n",
       "        vertical-align: top;\n",
       "    }\n",
       "\n",
       "    .dataframe thead th {\n",
       "        text-align: right;\n",
       "    }\n",
       "</style>\n",
       "<table border=\"1\" class=\"dataframe\">\n",
       "  <thead>\n",
       "    <tr style=\"text-align: right;\">\n",
       "      <th></th>\n",
       "      <th>Species</th>\n",
       "      <th>Weight</th>\n",
       "      <th>Length1</th>\n",
       "      <th>Length2</th>\n",
       "      <th>Length3</th>\n",
       "      <th>Height</th>\n",
       "      <th>Width</th>\n",
       "    </tr>\n",
       "  </thead>\n",
       "  <tbody>\n",
       "    <tr>\n",
       "      <th>0</th>\n",
       "      <td>Roach</td>\n",
       "      <td>102.30</td>\n",
       "      <td>17.76</td>\n",
       "      <td>19.34</td>\n",
       "      <td>21.48</td>\n",
       "      <td>5.74</td>\n",
       "      <td>3.16</td>\n",
       "    </tr>\n",
       "    <tr>\n",
       "      <th>1</th>\n",
       "      <td>Bream</td>\n",
       "      <td>997.50</td>\n",
       "      <td>39.90</td>\n",
       "      <td>43.05</td>\n",
       "      <td>48.83</td>\n",
       "      <td>18.50</td>\n",
       "      <td>6.69</td>\n",
       "    </tr>\n",
       "    <tr>\n",
       "      <th>2</th>\n",
       "      <td>Roach</td>\n",
       "      <td>62.79</td>\n",
       "      <td>15.02</td>\n",
       "      <td>16.56</td>\n",
       "      <td>18.47</td>\n",
       "      <td>4.82</td>\n",
       "      <td>2.57</td>\n",
       "    </tr>\n",
       "    <tr>\n",
       "      <th>3</th>\n",
       "      <td>Parkki</td>\n",
       "      <td>272.00</td>\n",
       "      <td>30.40</td>\n",
       "      <td>33.12</td>\n",
       "      <td>37.12</td>\n",
       "      <td>15.03</td>\n",
       "      <td>5.46</td>\n",
       "    </tr>\n",
       "    <tr>\n",
       "      <th>4</th>\n",
       "      <td>Perch</td>\n",
       "      <td>153.00</td>\n",
       "      <td>20.91</td>\n",
       "      <td>22.95</td>\n",
       "      <td>24.48</td>\n",
       "      <td>6.93</td>\n",
       "      <td>3.70</td>\n",
       "    </tr>\n",
       "  </tbody>\n",
       "</table>\n",
       "</div>"
      ],
      "text/plain": [
       "  Species  Weight  Length1  Length2  Length3  Height  Width\n",
       "0   Roach  102.30    17.76    19.34    21.48    5.74   3.16\n",
       "1   Bream  997.50    39.90    43.05    48.83   18.50   6.69\n",
       "2   Roach   62.79    15.02    16.56    18.47    4.82   2.57\n",
       "3  Parkki  272.00    30.40    33.12    37.12   15.03   5.46\n",
       "4   Perch  153.00    20.91    22.95    24.48    6.93   3.70"
      ]
     },
     "execution_count": 3,
     "metadata": {},
     "output_type": "execute_result"
    }
   ],
   "source": [
    "data.head()"
   ]
  },
  {
   "cell_type": "code",
   "execution_count": 4,
   "metadata": {},
   "outputs": [
    {
     "data": {
      "text/plain": [
       "(   Length1  Length2  Length3  Height  Width\n",
       " 0    17.76    19.34    21.48    5.74   3.16\n",
       " 1    39.90    43.05    48.83   18.50   6.69\n",
       " 2    15.02    16.56    18.47    4.82   2.57\n",
       " 3    30.40    33.12    37.12   15.03   5.46\n",
       " 4    20.91    22.95    24.48    6.93   3.70,\n",
       " 0    102.30\n",
       " 1    997.50\n",
       " 2     62.79\n",
       " 3    272.00\n",
       " 4    153.00\n",
       " Name: Weight, dtype: float64)"
      ]
     },
     "execution_count": 4,
     "metadata": {},
     "output_type": "execute_result"
    }
   ],
   "source": [
    "y = data[\"Weight\"]\n",
    "x = data.drop(columns = [\"Species\",\"Weight\"] )\n",
    "x.head() ,y.head()"
   ]
  },
  {
   "cell_type": "code",
   "execution_count": 46,
   "metadata": {},
   "outputs": [
    {
     "data": {
      "text/plain": [
       "(14000, 14000)"
      ]
     },
     "execution_count": 46,
     "metadata": {},
     "output_type": "execute_result"
    }
   ],
   "source": [
    "len(x),len(y)"
   ]
  },
  {
   "cell_type": "code",
   "execution_count": 38,
   "metadata": {},
   "outputs": [],
   "source": [
    "test_data = x.iloc[:3000]\n",
    "test_targets = y.iloc[:3000]\n",
    "\n",
    "train_data = x.iloc[len(test_data):-2000]\n",
    "train_targets = y.iloc[len(test_targets):-2000]\n",
    "\n",
    "predict_data = x.iloc[-2000:]\n",
    "predict_targets = y.iloc[-2000:]"
   ]
  },
  {
   "cell_type": "code",
   "execution_count": 45,
   "metadata": {},
   "outputs": [
    {
     "data": {
      "text/plain": [
       "(9000, 3000, 2000)"
      ]
     },
     "execution_count": 45,
     "metadata": {},
     "output_type": "execute_result"
    }
   ],
   "source": [
    "len(train_data),len(test_data),len(predict_data),"
   ]
  },
  {
   "cell_type": "code",
   "execution_count": 12,
   "metadata": {},
   "outputs": [
    {
     "data": {
      "text/plain": [
       "(array([28.63, 30.9 , 32.55,  7.84,  4.91]), 329.6)"
      ]
     },
     "execution_count": 12,
     "metadata": {},
     "output_type": "execute_result"
    }
   ],
   "source": [
    "np.array(train_data.iloc[0]),train_targets.iloc[0]"
   ]
  },
  {
   "cell_type": "code",
   "execution_count": 13,
   "metadata": {},
   "outputs": [
    {
     "data": {
      "text/plain": [
       "((9000, 5), (9000,))"
      ]
     },
     "execution_count": 13,
     "metadata": {},
     "output_type": "execute_result"
    }
   ],
   "source": [
    "train_data.shape, train_targets.shape"
   ]
  },
  {
   "cell_type": "code",
   "execution_count": 14,
   "metadata": {},
   "outputs": [
    {
     "data": {
      "text/plain": [
       "((3000, 5), (3000,))"
      ]
     },
     "execution_count": 14,
     "metadata": {},
     "output_type": "execute_result"
    }
   ],
   "source": [
    "test_data.shape, test_targets.shape"
   ]
  },
  {
   "cell_type": "code",
   "execution_count": 15,
   "metadata": {},
   "outputs": [
    {
     "data": {
      "text/plain": [
       "(5,)"
      ]
     },
     "execution_count": 15,
     "metadata": {},
     "output_type": "execute_result"
    }
   ],
   "source": [
    "train_data.iloc[0].shape"
   ]
  },
  {
   "cell_type": "code",
   "execution_count": 39,
   "metadata": {},
   "outputs": [
    {
     "data": {
      "text/plain": [
       "Length1    0.170038\n",
       "Length2    0.168476\n",
       "Length3    0.075664\n",
       "Height    -0.189435\n",
       "Width      0.293772\n",
       "Name: 3000, dtype: float64"
      ]
     },
     "execution_count": 39,
     "metadata": {},
     "output_type": "execute_result"
    }
   ],
   "source": [
    "mean = train_data.mean(axis=0)\n",
    "std = train_data.std(axis=0)\n",
    "\n",
    "train_data -= mean\n",
    "train_data /= std\n",
    "\n",
    "test_data -= mean\n",
    "test_data /= std\n",
    "\n",
    "predict_data -= mean\n",
    "predict_data /= std\n",
    "\n",
    "train_data.iloc[0]"
   ]
  },
  {
   "cell_type": "code",
   "execution_count": 17,
   "metadata": {},
   "outputs": [],
   "source": [
    "from tensorflow.keras import models, layers"
   ]
  },
  {
   "cell_type": "code",
   "execution_count": 18,
   "metadata": {},
   "outputs": [],
   "source": [
    "model = models.Sequential()\n",
    "\n",
    "model.add(layers.Dense(128, activation='relu', input_shape=(5,)))\n",
    "model.add(layers.BatchNormalization())\n",
    "\n",
    "model.add(layers.Dense(64, activation='relu'))\n",
    "model.add(layers.Dense(32, activation='relu'))\n",
    "model.add(layers.BatchNormalization())\n",
    "\n",
    "model.add(layers.Dense(16, activation='relu'))\n",
    "model.add(layers.Dense(1))\n",
    "\n",
    "model.compile(optimizer='rmsprop', loss='mse', metrics=['mae'])"
   ]
  },
  {
   "cell_type": "code",
   "execution_count": 19,
   "metadata": {},
   "outputs": [
    {
     "name": "stdout",
     "output_type": "stream",
     "text": [
      "WARNING:tensorflow:Falling back from v2 loop because of error: Failed to find data adapter that can handle input: <class 'pandas.core.frame.DataFrame'>, <class 'NoneType'>\n"
     ]
    }
   ],
   "source": [
    "history = model.fit(train_data, train_targets, epochs=500, verbose=0)"
   ]
  },
  {
   "cell_type": "code",
   "execution_count": 20,
   "metadata": {},
   "outputs": [
    {
     "name": "stdout",
     "output_type": "stream",
     "text": [
      "WARNING:tensorflow:Falling back from v2 loop because of error: Failed to find data adapter that can handle input: <class 'pandas.core.frame.DataFrame'>, <class 'NoneType'>\n",
      "3000/3000 [==============================] - 0s 65us/sample - loss: 1779.9001 - mae: 23.3986\n"
     ]
    }
   ],
   "source": [
    "test_mse_score, test_mae_score = model.evaluate(test_data, test_targets)"
   ]
  },
  {
   "cell_type": "code",
   "execution_count": 21,
   "metadata": {},
   "outputs": [
    {
     "data": {
      "text/plain": [
       "<Figure size 432x288 with 0 Axes>"
      ]
     },
     "execution_count": 21,
     "metadata": {},
     "output_type": "execute_result"
    },
    {
     "data": {
      "image/png": "[encoded data removed]",
      "text/plain": [
       "<Figure size 432x288 with 1 Axes>"
      ]
     },
     "metadata": {
      "needs_background": "light"
     },
     "output_type": "display_data"
    },
    {
     "data": {
      "text/plain": [
       "<Figure size 432x288 with 0 Axes>"
      ]
     },
     "metadata": {},
     "output_type": "display_data"
    }
   ],
   "source": [
    "import matplotlib.pyplot as plt\n",
    "\n",
    "acc = history.history['mae']\n",
    "epochs = range(1, len(acc) + 1)\n",
    "plt.plot(epochs, acc, 'bo', label='Training acc')\n",
    "plt.title('Training MAE')\n",
    "plt.legend()\n",
    "plt.figure()"
   ]
  },
  {
   "cell_type": "code",
   "execution_count": 25,
   "metadata": {},
   "outputs": [],
   "source": [
    "model.save(\"weight_regression_model.h5\")"
   ]
  },
  {
   "cell_type": "code",
   "execution_count": 223,
   "metadata": {},
   "outputs": [],
   "source": [
    "from tensorflow.keras.models import load_model\n",
    "\n",
    "loaded_model = load_model(\"weight_regression_model.h5\")"
   ]
  },
  {
   "cell_type": "code",
   "execution_count": 29,
   "metadata": {},
   "outputs": [],
   "source": [
    "def predict(n, data, label):\n",
    "    \n",
    "    inp = np.array(data[n]).reshape((1,5))  \n",
    "    prediction = model.predict(inp)\n",
    "    \n",
    "    diff = float(prediction[0][0]) -  float(label[n])\n",
    "    \n",
    "    print(\"Predicted: %s\"%(prediction[0][0]) + '\\n' + \"Actual   : %s\"%(label[n])\n",
    "         + '\\n' + \"Difference: %.2f\"%(diff))"
   ]
  },
  {
   "cell_type": "code",
   "execution_count": 40,
   "metadata": {},
   "outputs": [],
   "source": [
    "train_data = np.array(train_data)\n",
    "train_targets = np.array(train_targets)\n",
    "\n",
    "test_data = np.array(test_data)\n",
    "test_targets = np.array(test_targets)\n",
    "\n",
    "predict_data = np.array(predict_data)\n",
    "predict_targets = np.array(predict_targets)"
   ]
  },
  {
   "cell_type": "code",
   "execution_count": 41,
   "metadata": {},
   "outputs": [
    {
     "name": "stdout",
     "output_type": "stream",
     "text": [
      "Predicted: 282.8584\n",
      "Actual   : 285.0\n",
      "Difference: -2.14\n",
      "\n",
      "Predicted: 292.4946\n",
      "Actual   : 286.2\n",
      "Difference: 6.29\n"
     ]
    }
   ],
   "source": [
    "predict(1050,train_data,train_targets)\n",
    "print()\n",
    "predict(540,test_data,test_targets)"
   ]
  },
  {
   "cell_type": "code",
   "execution_count": 65,
   "metadata": {},
   "outputs": [
    {
     "name": "stdout",
     "output_type": "stream",
     "text": [
      "Predicted: 123.09001\n",
      "Actual   : 110.4\n",
      "Difference: 12.69\n",
      "\n",
      "Predicted: 1660.5857\n",
      "Actual   : 1600.0\n",
      "Difference: 60.59\n",
      "\n",
      "Predicted: 8.227145\n",
      "Actual   : 8.92\n",
      "Difference: -0.69\n",
      "\n",
      "Predicted: 300.24973\n",
      "Actual   : 312.0\n",
      "Difference: -11.75\n",
      "\n",
      "Predicted: 456.0033\n",
      "Actual   : 510.0\n",
      "Difference: -54.00\n",
      "\n",
      "Predicted: 459.80823\n",
      "Actual   : 471.9\n",
      "Difference: -12.09\n",
      "\n",
      "Predicted: 632.25305\n",
      "Actual   : 630.0\n",
      "Difference: 2.25\n",
      "\n",
      "Predicted: 288.96713\n",
      "Actual   : 290.0\n",
      "Difference: -1.03\n",
      "\n",
      "Predicted: 319.83136\n",
      "Actual   : 333.96\n",
      "Difference: -14.13\n",
      "\n",
      "Predicted: -0.68401814\n",
      "Actual   : 4.72\n",
      "Difference: -5.40\n",
      "\n",
      "Predicted: 58.69617\n",
      "Actual   : 20.1\n",
      "Difference: 38.60\n",
      "\n",
      "Predicted: 140.1458\n",
      "Actual   : 160.0\n",
      "Difference: -19.85\n",
      "\n",
      "Predicted: 459.5138\n",
      "Actual   : 420.0\n",
      "Difference: 39.51\n",
      "\n",
      "Predicted: 460.3911\n",
      "Actual   : 489.6\n",
      "Difference: -29.21\n",
      "\n",
      "Predicted: 299.95795\n",
      "Actual   : 324.0\n",
      "Difference: -24.04\n",
      "\n",
      "Predicted: 1035.1055\n",
      "Actual   : 1020.0\n",
      "Difference: 15.11\n",
      "\n",
      "Predicted: 110.09806\n",
      "Actual   : 122.2\n",
      "Difference: -12.10\n",
      "\n",
      "Predicted: 9.750361\n",
      "Actual   : 9.7\n",
      "Difference: 0.05\n",
      "\n",
      "Predicted: 508.854\n",
      "Actual   : 546.25\n",
      "Difference: -37.40\n",
      "\n",
      "Predicted: 620.60724\n",
      "Actual   : 651.0\n",
      "Difference: -30.39\n",
      "\n"
     ]
    }
   ],
   "source": [
    "random = [12,450,1450,50,754,68,500,69,815,456,80,1569,147,558,214,897,1234,1895,1657,1748]\n",
    "for i in random:\n",
    "    predict(i,predict_data,predict_targets)\n",
    "    print()"
   ]
  },
  {
   "cell_type": "markdown",
   "metadata": {},
   "source": [
    "# Predicting Old Data"
   ]
  },
  {
   "cell_type": "code",
   "execution_count": 47,
   "metadata": {},
   "outputs": [],
   "source": [
    "old_data = pd.read_csv(\"Fish(old data).csv\")"
   ]
  },
  {
   "cell_type": "code",
   "execution_count": 55,
   "metadata": {},
   "outputs": [],
   "source": [
    "old_targets = np.array(old_data[\"Weight\"])\n",
    "old_data = np.array(old_data.drop(columns = [\"Species\",\"Weight\"] ))"
   ]
  },
  {
   "cell_type": "code",
   "execution_count": 56,
   "metadata": {},
   "outputs": [
    {
     "data": {
      "text/plain": [
       "(159, 159)"
      ]
     },
     "execution_count": 56,
     "metadata": {},
     "output_type": "execute_result"
    }
   ],
   "source": [
    "len(old_data),len(old_targets)"
   ]
  },
  {
   "cell_type": "code",
   "execution_count": 57,
   "metadata": {},
   "outputs": [],
   "source": [
    "old_data -= mean\n",
    "old_data /= std"
   ]
  },
  {
   "cell_type": "code",
   "execution_count": 63,
   "metadata": {},
   "outputs": [
    {
     "name": "stdout",
     "output_type": "stream",
     "text": [
      "[-0.24953694 -0.22686091 -0.09431259  0.5989758  -0.13833906]\n"
     ]
    }
   ],
   "source": [
    "print(old_data[0])"
   ]
  },
  {
   "cell_type": "code",
   "execution_count": 62,
   "metadata": {},
   "outputs": [
    {
     "name": "stdout",
     "output_type": "stream",
     "text": [
      "Predicted: 644.28125\n",
      "Actual   : 650.0\n",
      "Difference: -5.72\n",
      "\n",
      "Predicted: 216.8013\n",
      "Actual   : 225.0\n",
      "Difference: -8.20\n",
      "\n",
      "Predicted: 302.1056\n",
      "Actual   : 300.0\n",
      "Difference: 2.11\n"
     ]
    }
   ],
   "source": [
    "predict(19,old_data,old_targets)\n",
    "print()\n",
    "predict(96,old_data,old_targets)\n",
    "print()\n",
    "predict(130,old_data,old_targets)"
   ]
  },
  {
   "cell_type": "code",
   "execution_count": null,
   "metadata": {},
   "outputs": [],
   "source": []
  }
 ],
 "metadata": {
  "kernelspec": {
   "display_name": "Python 3",
   "language": "python",
   "name": "python3"
  },
  "language_info": {
   "codemirror_mode": {
    "name": "ipython",
    "version": 3
   },
   "file_extension": ".py",
   "mimetype": "text/x-python",
   "name": "python",
   "nbconvert_exporter": "python",
   "pygments_lexer": "ipython3",
   "version": "3.7.7"
  }
 },
 "nbformat": 4,
 "nbformat_minor": 4
}
