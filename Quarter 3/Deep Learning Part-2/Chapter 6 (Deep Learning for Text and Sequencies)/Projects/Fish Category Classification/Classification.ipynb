{
 "cells": [
  {
   "cell_type": "code",
   "execution_count": 24,
   "metadata": {},
   "outputs": [],
   "source": [
    "import pandas as pd\n",
    "import numpy as np"
   ]
  },
  {
   "cell_type": "code",
   "execution_count": 2,
   "metadata": {},
   "outputs": [],
   "source": [
    "data = pd.read_csv(\"Fish_Classification_Dataset.csv\")"
   ]
  },
  {
   "cell_type": "code",
   "execution_count": 3,
   "metadata": {},
   "outputs": [
    {
     "data": {
      "text/html": [
       "<div>\n",
       "<style scoped>\n",
       "    .dataframe tbody tr th:only-of-type {\n",
       "        vertical-align: middle;\n",
       "    }\n",
       "\n",
       "    .dataframe tbody tr th {\n",
       "        vertical-align: top;\n",
       "    }\n",
       "\n",
       "    .dataframe thead th {\n",
       "        text-align: right;\n",
       "    }\n",
       "</style>\n",
       "<table border=\"1\" class=\"dataframe\">\n",
       "  <thead>\n",
       "    <tr style=\"text-align: right;\">\n",
       "      <th></th>\n",
       "      <th>Species</th>\n",
       "      <th>Weight</th>\n",
       "      <th>Length1</th>\n",
       "      <th>Length2</th>\n",
       "      <th>Length3</th>\n",
       "      <th>Height</th>\n",
       "      <th>Width</th>\n",
       "    </tr>\n",
       "  </thead>\n",
       "  <tbody>\n",
       "    <tr>\n",
       "      <th>0</th>\n",
       "      <td>Roach</td>\n",
       "      <td>102.30</td>\n",
       "      <td>17.76</td>\n",
       "      <td>19.34</td>\n",
       "      <td>21.48</td>\n",
       "      <td>5.74</td>\n",
       "      <td>3.16</td>\n",
       "    </tr>\n",
       "    <tr>\n",
       "      <th>1</th>\n",
       "      <td>Bream</td>\n",
       "      <td>997.50</td>\n",
       "      <td>39.90</td>\n",
       "      <td>43.05</td>\n",
       "      <td>48.83</td>\n",
       "      <td>18.50</td>\n",
       "      <td>6.69</td>\n",
       "    </tr>\n",
       "    <tr>\n",
       "      <th>2</th>\n",
       "      <td>Roach</td>\n",
       "      <td>62.79</td>\n",
       "      <td>15.02</td>\n",
       "      <td>16.56</td>\n",
       "      <td>18.47</td>\n",
       "      <td>4.82</td>\n",
       "      <td>2.57</td>\n",
       "    </tr>\n",
       "    <tr>\n",
       "      <th>3</th>\n",
       "      <td>Parkki</td>\n",
       "      <td>272.00</td>\n",
       "      <td>30.40</td>\n",
       "      <td>33.12</td>\n",
       "      <td>37.12</td>\n",
       "      <td>15.03</td>\n",
       "      <td>5.46</td>\n",
       "    </tr>\n",
       "    <tr>\n",
       "      <th>4</th>\n",
       "      <td>Perch</td>\n",
       "      <td>153.00</td>\n",
       "      <td>20.91</td>\n",
       "      <td>22.95</td>\n",
       "      <td>24.48</td>\n",
       "      <td>6.93</td>\n",
       "      <td>3.70</td>\n",
       "    </tr>\n",
       "  </tbody>\n",
       "</table>\n",
       "</div>"
      ],
      "text/plain": [
       "  Species  Weight  Length1  Length2  Length3  Height  Width\n",
       "0   Roach  102.30    17.76    19.34    21.48    5.74   3.16\n",
       "1   Bream  997.50    39.90    43.05    48.83   18.50   6.69\n",
       "2   Roach   62.79    15.02    16.56    18.47    4.82   2.57\n",
       "3  Parkki  272.00    30.40    33.12    37.12   15.03   5.46\n",
       "4   Perch  153.00    20.91    22.95    24.48    6.93   3.70"
      ]
     },
     "execution_count": 3,
     "metadata": {},
     "output_type": "execute_result"
    }
   ],
   "source": [
    "data.head()"
   ]
  },
  {
   "cell_type": "code",
   "execution_count": 4,
   "metadata": {},
   "outputs": [
    {
     "data": {
      "text/plain": [
       "(   Weight  Length1  Length2  Length3  Height  Width\n",
       " 0  102.30    17.76    19.34    21.48    5.74   3.16\n",
       " 1  997.50    39.90    43.05    48.83   18.50   6.69\n",
       " 2   62.79    15.02    16.56    18.47    4.82   2.57\n",
       " 3  272.00    30.40    33.12    37.12   15.03   5.46\n",
       " 4  153.00    20.91    22.95    24.48    6.93   3.70,\n",
       " 0     Roach\n",
       " 1     Bream\n",
       " 2     Roach\n",
       " 3    Parkki\n",
       " 4     Perch\n",
       " Name: Species, dtype: object)"
      ]
     },
     "execution_count": 4,
     "metadata": {},
     "output_type": "execute_result"
    }
   ],
   "source": [
    "y = data[\"Species\"]\n",
    "x = data.drop(columns = \"Species\" )\n",
    "x.head() ,y.head()"
   ]
  },
  {
   "cell_type": "code",
   "execution_count": 5,
   "metadata": {},
   "outputs": [
    {
     "data": {
      "text/plain": [
       "array(['Roach', 'Bream', 'Parkki', 'Perch', 'Whitefish', 'Smelt', 'Pike'],\n",
       "      dtype=object)"
      ]
     },
     "execution_count": 5,
     "metadata": {},
     "output_type": "execute_result"
    }
   ],
   "source": [
    "y.unique()"
   ]
  },
  {
   "cell_type": "code",
   "execution_count": 6,
   "metadata": {},
   "outputs": [
    {
     "data": {
      "text/plain": [
       "7"
      ]
     },
     "execution_count": 6,
     "metadata": {},
     "output_type": "execute_result"
    }
   ],
   "source": [
    "len(y.unique())"
   ]
  },
  {
   "cell_type": "code",
   "execution_count": 7,
   "metadata": {},
   "outputs": [
    {
     "data": {
      "text/plain": [
       "Perch        2000\n",
       "Pike         2000\n",
       "Whitefish    2000\n",
       "Parkki       2000\n",
       "Smelt        2000\n",
       "Bream        2000\n",
       "Roach        2000\n",
       "Name: Species, dtype: int64"
      ]
     },
     "execution_count": 7,
     "metadata": {},
     "output_type": "execute_result"
    }
   ],
   "source": [
    "y.value_counts()"
   ]
  },
  {
   "cell_type": "code",
   "execution_count": 8,
   "metadata": {},
   "outputs": [],
   "source": [
    "x_test = x.iloc[:3000]\n",
    "y_test = y.iloc[:3000]\n",
    "\n",
    "x_train = x.iloc[len(x_test):]\n",
    "y_train = y.iloc[len(y_test):]"
   ]
  },
  {
   "cell_type": "code",
   "execution_count": 9,
   "metadata": {},
   "outputs": [
    {
     "data": {
      "text/plain": [
       "((11000, 6), (11000,))"
      ]
     },
     "execution_count": 9,
     "metadata": {},
     "output_type": "execute_result"
    }
   ],
   "source": [
    "x_train.shape, y_train.shape"
   ]
  },
  {
   "cell_type": "code",
   "execution_count": 10,
   "metadata": {},
   "outputs": [
    {
     "data": {
      "text/plain": [
       "((3000, 6), (3000,))"
      ]
     },
     "execution_count": 10,
     "metadata": {},
     "output_type": "execute_result"
    }
   ],
   "source": [
    "x_test.shape, y_test.shape"
   ]
  },
  {
   "cell_type": "code",
   "execution_count": 36,
   "metadata": {},
   "outputs": [],
   "source": [
    "from sklearn.preprocessing import LabelEncoder\n",
    "\n",
    "y_train = LabelEncoder().fit_transform(y_train)\n",
    "y_test = LabelEncoder().fit_transform(y_test)"
   ]
  },
  {
   "cell_type": "code",
   "execution_count": 37,
   "metadata": {},
   "outputs": [
    {
     "data": {
      "text/plain": [
       "((11000,), (3000,))"
      ]
     },
     "execution_count": 37,
     "metadata": {},
     "output_type": "execute_result"
    }
   ],
   "source": [
    "y_train.shape, y_test.shape"
   ]
  },
  {
   "cell_type": "code",
   "execution_count": 38,
   "metadata": {},
   "outputs": [],
   "source": [
    "from tensorflow.keras import layers, Sequential"
   ]
  },
  {
   "cell_type": "code",
   "execution_count": 39,
   "metadata": {},
   "outputs": [],
   "source": [
    "model = Sequential([\n",
    "    \n",
    "    layers.Dense(128, activation = 'relu', input_shape = (6,)),\n",
    "    layers.Dense(64, activation = 'relu'),\n",
    "    layers.Dense(32, activation = 'relu'),\n",
    "\n",
    "    layers.Dense(7, activation = 'softmax')\n",
    "                   ])"
   ]
  },
  {
   "cell_type": "code",
   "execution_count": 40,
   "metadata": {},
   "outputs": [],
   "source": [
    "model.compile(optimizer = \"adam\", loss = \"sparse_categorical_crossentropy\", \n",
    "              metrics = [\"accuracy\"])"
   ]
  },
  {
   "cell_type": "code",
   "execution_count": 41,
   "metadata": {},
   "outputs": [
    {
     "name": "stdout",
     "output_type": "stream",
     "text": [
      "WARNING:tensorflow:Falling back from v2 loop because of error: Failed to find data adapter that can handle input: <class 'pandas.core.frame.DataFrame'>, <class 'NoneType'>\n",
      "Train on 8800 samples, validate on 2200 samples\n",
      "Epoch 1/80\n",
      "8800/8800 [==============================] - 1s 150us/sample - loss: 5.7054 - accuracy: 0.3624 - val_loss: 5.2437 - val_accuracy: 0.3882\n",
      "Epoch 2/80\n",
      "8800/8800 [==============================] - 1s 77us/sample - loss: 5.2588 - accuracy: 0.4222 - val_loss: 5.8543 - val_accuracy: 0.4105\n",
      "Epoch 3/80\n",
      "8800/8800 [==============================] - 1s 87us/sample - loss: 3.4916 - accuracy: 0.4845 - val_loss: 0.9754 - val_accuracy: 0.5609\n",
      "Epoch 4/80\n",
      "8800/8800 [==============================] - 1s 84us/sample - loss: 0.9660 - accuracy: 0.6435 - val_loss: 0.6435 - val_accuracy: 0.7209\n",
      "Epoch 5/80\n",
      "8800/8800 [==============================] - 1s 73us/sample - loss: 0.6107 - accuracy: 0.7581 - val_loss: 0.5699 - val_accuracy: 0.7950\n",
      "Epoch 6/80\n",
      "8800/8800 [==============================] - 1s 74us/sample - loss: 0.5539 - accuracy: 0.7714 - val_loss: 0.3882 - val_accuracy: 0.8118\n",
      "Epoch 7/80\n",
      "8800/8800 [==============================] - 1s 73us/sample - loss: 0.3543 - accuracy: 0.8442 - val_loss: 0.3342 - val_accuracy: 0.8536\n",
      "Epoch 8/80\n",
      "8800/8800 [==============================] - 1s 72us/sample - loss: 0.3269 - accuracy: 0.8543 - val_loss: 0.3019 - val_accuracy: 0.8532\n",
      "Epoch 9/80\n",
      "8800/8800 [==============================] - 1s 73us/sample - loss: 0.3351 - accuracy: 0.8565 - val_loss: 0.5309 - val_accuracy: 0.7741\n",
      "Epoch 10/80\n",
      "8800/8800 [==============================] - 1s 70us/sample - loss: 0.4337 - accuracy: 0.8424 - val_loss: 0.2917 - val_accuracy: 0.8714\n",
      "Epoch 11/80\n",
      "8800/8800 [==============================] - 1s 71us/sample - loss: 0.2969 - accuracy: 0.8689 - val_loss: 0.2546 - val_accuracy: 0.8941\n",
      "Epoch 12/80\n",
      "8800/8800 [==============================] - 1s 73us/sample - loss: 0.3083 - accuracy: 0.8714 - val_loss: 0.2844 - val_accuracy: 0.8764\n",
      "Epoch 13/80\n",
      "8800/8800 [==============================] - 1s 73us/sample - loss: 0.2866 - accuracy: 0.8743 - val_loss: 0.2783 - val_accuracy: 0.8591\n",
      "Epoch 14/80\n",
      "8800/8800 [==============================] - 1s 74us/sample - loss: 0.2763 - accuracy: 0.8810 - val_loss: 0.2323 - val_accuracy: 0.8877\n",
      "Epoch 15/80\n",
      "8800/8800 [==============================] - 1s 72us/sample - loss: 0.2844 - accuracy: 0.8768 - val_loss: 0.2913 - val_accuracy: 0.8718\n",
      "Epoch 16/80\n",
      "8800/8800 [==============================] - 1s 73us/sample - loss: 0.2567 - accuracy: 0.8902 - val_loss: 0.3069 - val_accuracy: 0.8900\n",
      "Epoch 17/80\n",
      "8800/8800 [==============================] - 1s 73us/sample - loss: 0.5996 - accuracy: 0.8364 - val_loss: 0.2863 - val_accuracy: 0.9086\n",
      "Epoch 18/80\n",
      "8800/8800 [==============================] - 1s 74us/sample - loss: 0.2431 - accuracy: 0.9042 - val_loss: 0.2656 - val_accuracy: 0.8623\n",
      "Epoch 19/80\n",
      "8800/8800 [==============================] - 1s 72us/sample - loss: 0.2397 - accuracy: 0.9015 - val_loss: 0.1941 - val_accuracy: 0.9205\n",
      "Epoch 20/80\n",
      "8800/8800 [==============================] - 1s 70us/sample - loss: 0.2525 - accuracy: 0.8974 - val_loss: 0.2203 - val_accuracy: 0.9127\n",
      "Epoch 21/80\n",
      "8800/8800 [==============================] - 1s 75us/sample - loss: 0.2618 - accuracy: 0.8966 - val_loss: 0.2422 - val_accuracy: 0.8882\n",
      "Epoch 22/80\n",
      "8800/8800 [==============================] - 1s 72us/sample - loss: 0.2106 - accuracy: 0.9181 - val_loss: 0.1739 - val_accuracy: 0.9345\n",
      "Epoch 23/80\n",
      "8800/8800 [==============================] - 1s 71us/sample - loss: 0.2282 - accuracy: 0.9045 - val_loss: 0.1717 - val_accuracy: 0.9414\n",
      "Epoch 24/80\n",
      "8800/8800 [==============================] - 1s 72us/sample - loss: 0.3973 - accuracy: 0.8705 - val_loss: 0.2322 - val_accuracy: 0.9195\n",
      "Epoch 25/80\n",
      "8800/8800 [==============================] - 1s 77us/sample - loss: 0.1934 - accuracy: 0.9275 - val_loss: 0.1859 - val_accuracy: 0.9295\n",
      "Epoch 26/80\n",
      "8800/8800 [==============================] - 1s 79us/sample - loss: 0.1786 - accuracy: 0.9307 - val_loss: 0.1935 - val_accuracy: 0.8895\n",
      "Epoch 27/80\n",
      "8800/8800 [==============================] - 1s 84us/sample - loss: 0.2160 - accuracy: 0.9181 - val_loss: 0.1595 - val_accuracy: 0.9273\n",
      "Epoch 28/80\n",
      "8800/8800 [==============================] - 1s 83us/sample - loss: 0.1685 - accuracy: 0.9358 - val_loss: 0.1572 - val_accuracy: 0.9368\n",
      "Epoch 29/80\n",
      "8800/8800 [==============================] - 1s 72us/sample - loss: 0.1725 - accuracy: 0.9376 - val_loss: 0.1975 - val_accuracy: 0.9364\n",
      "Epoch 30/80\n",
      "8800/8800 [==============================] - 1s 77us/sample - loss: 0.1756 - accuracy: 0.9341 - val_loss: 0.1457 - val_accuracy: 0.9536\n",
      "Epoch 31/80\n",
      "8800/8800 [==============================] - 1s 83us/sample - loss: 0.1587 - accuracy: 0.9383 - val_loss: 0.1181 - val_accuracy: 0.9532\n",
      "Epoch 32/80\n",
      "8800/8800 [==============================] - 1s 68us/sample - loss: 0.1352 - accuracy: 0.9510 - val_loss: 0.1235 - val_accuracy: 0.9605\n",
      "Epoch 33/80\n",
      "8800/8800 [==============================] - 1s 73us/sample - loss: 0.1653 - accuracy: 0.9384 - val_loss: 0.1387 - val_accuracy: 0.9427\n",
      "Epoch 34/80\n",
      "8800/8800 [==============================] - 1s 76us/sample - loss: 0.1885 - accuracy: 0.9377 - val_loss: 0.1057 - val_accuracy: 0.9741\n",
      "Epoch 35/80\n",
      "8800/8800 [==============================] - 1s 80us/sample - loss: 0.1155 - accuracy: 0.9650 - val_loss: 0.0831 - val_accuracy: 0.9682\n",
      "Epoch 36/80\n",
      "8800/8800 [==============================] - 1s 77us/sample - loss: 0.1305 - accuracy: 0.9524 - val_loss: 0.0958 - val_accuracy: 0.9705\n",
      "Epoch 37/80\n",
      "8800/8800 [==============================] - 1s 90us/sample - loss: 0.1264 - accuracy: 0.9543 - val_loss: 0.0823 - val_accuracy: 0.9691\n",
      "Epoch 38/80\n",
      "8800/8800 [==============================] - 1s 79us/sample - loss: 0.1679 - accuracy: 0.9401 - val_loss: 0.0966 - val_accuracy: 0.9686\n",
      "Epoch 39/80\n",
      "8800/8800 [==============================] - 1s 87us/sample - loss: 0.0957 - accuracy: 0.9673 - val_loss: 0.0829 - val_accuracy: 0.9900\n",
      "Epoch 40/80\n",
      "8800/8800 [==============================] - 1s 72us/sample - loss: 0.1345 - accuracy: 0.9509 - val_loss: 0.0978 - val_accuracy: 0.9664\n",
      "Epoch 41/80\n",
      "8800/8800 [==============================] - 1s 70us/sample - loss: 0.1117 - accuracy: 0.9647 - val_loss: 0.1133 - val_accuracy: 0.9559\n",
      "Epoch 42/80\n",
      "8800/8800 [==============================] - 1s 70us/sample - loss: 0.0979 - accuracy: 0.9670 - val_loss: 0.1192 - val_accuracy: 0.9432\n",
      "Epoch 43/80\n",
      "8800/8800 [==============================] - 1s 68us/sample - loss: 0.1136 - accuracy: 0.9625 - val_loss: 0.0919 - val_accuracy: 0.9645\n",
      "Epoch 44/80\n",
      "8800/8800 [==============================] - 1s 67us/sample - loss: 0.0849 - accuracy: 0.9717 - val_loss: 0.0462 - val_accuracy: 0.9945\n",
      "Epoch 45/80\n",
      "8800/8800 [==============================] - 1s 66us/sample - loss: 0.0758 - accuracy: 0.9739 - val_loss: 0.2045 - val_accuracy: 0.9032\n",
      "Epoch 46/80\n",
      "8800/8800 [==============================] - 1s 71us/sample - loss: 0.1539 - accuracy: 0.9425 - val_loss: 0.1470 - val_accuracy: 0.9377\n",
      "Epoch 47/80\n",
      "8800/8800 [==============================] - 1s 73us/sample - loss: 0.0803 - accuracy: 0.9730 - val_loss: 0.0680 - val_accuracy: 0.9832\n",
      "Epoch 48/80\n",
      "8800/8800 [==============================] - 1s 68us/sample - loss: 0.0628 - accuracy: 0.9806 - val_loss: 0.0752 - val_accuracy: 0.9759\n",
      "Epoch 49/80\n",
      "8800/8800 [==============================] - 1s 69us/sample - loss: 0.0947 - accuracy: 0.9626 - val_loss: 0.1072 - val_accuracy: 0.9650\n",
      "Epoch 50/80\n",
      "8800/8800 [==============================] - 1s 68us/sample - loss: 0.0971 - accuracy: 0.9655 - val_loss: 0.0740 - val_accuracy: 0.9577\n",
      "Epoch 51/80\n",
      "8800/8800 [==============================] - 1s 69us/sample - loss: 0.0982 - accuracy: 0.9642 - val_loss: 0.1174 - val_accuracy: 0.9582\n",
      "Epoch 52/80\n",
      "8800/8800 [==============================] - 1s 66us/sample - loss: 0.0588 - accuracy: 0.9820 - val_loss: 0.1468 - val_accuracy: 0.9373\n",
      "Epoch 53/80\n",
      "8800/8800 [==============================] - 1s 71us/sample - loss: 0.0738 - accuracy: 0.9744 - val_loss: 0.0720 - val_accuracy: 0.9495\n",
      "Epoch 54/80\n",
      "8800/8800 [==============================] - 1s 77us/sample - loss: 0.0641 - accuracy: 0.9783 - val_loss: 0.0313 - val_accuracy: 0.9923\n"
     ]
    },
    {
     "name": "stdout",
     "output_type": "stream",
     "text": [
      "Epoch 55/80\n",
      "8800/8800 [==============================] - 1s 67us/sample - loss: 0.0825 - accuracy: 0.9714 - val_loss: 0.0387 - val_accuracy: 0.9877\n",
      "Epoch 56/80\n",
      "8800/8800 [==============================] - 1s 67us/sample - loss: 0.0457 - accuracy: 0.9845 - val_loss: 0.0335 - val_accuracy: 0.9900\n",
      "Epoch 57/80\n",
      "8800/8800 [==============================] - 1s 68us/sample - loss: 0.1043 - accuracy: 0.9643 - val_loss: 0.0429 - val_accuracy: 0.9864\n",
      "Epoch 58/80\n",
      "8800/8800 [==============================] - 1s 68us/sample - loss: 0.0528 - accuracy: 0.9826 - val_loss: 0.0378 - val_accuracy: 0.9900\n",
      "Epoch 59/80\n",
      "8800/8800 [==============================] - 1s 68us/sample - loss: 0.0590 - accuracy: 0.9798 - val_loss: 0.1460 - val_accuracy: 0.9336\n",
      "Epoch 60/80\n",
      "8800/8800 [==============================] - 1s 68us/sample - loss: 0.0489 - accuracy: 0.9847 - val_loss: 0.0378 - val_accuracy: 0.9900\n",
      "Epoch 61/80\n",
      "8800/8800 [==============================] - 1s 69us/sample - loss: 0.0638 - accuracy: 0.9781 - val_loss: 0.1398 - val_accuracy: 0.9491\n",
      "Epoch 62/80\n",
      "8800/8800 [==============================] - 1s 69us/sample - loss: 0.0807 - accuracy: 0.9714 - val_loss: 0.0340 - val_accuracy: 0.9918\n",
      "Epoch 63/80\n",
      "8800/8800 [==============================] - 1s 68us/sample - loss: 0.0577 - accuracy: 0.9790 - val_loss: 0.0463 - val_accuracy: 0.9677\n",
      "Epoch 64/80\n",
      "8800/8800 [==============================] - 1s 71us/sample - loss: 0.0447 - accuracy: 0.9868 - val_loss: 0.0288 - val_accuracy: 1.0000\n",
      "Epoch 65/80\n",
      "8800/8800 [==============================] - 1s 67us/sample - loss: 0.0862 - accuracy: 0.9752 - val_loss: 0.0298 - val_accuracy: 0.9955\n",
      "Epoch 66/80\n",
      "8800/8800 [==============================] - 1s 71us/sample - loss: 0.0812 - accuracy: 0.9742 - val_loss: 0.0777 - val_accuracy: 0.9623\n",
      "Epoch 67/80\n",
      "8800/8800 [==============================] - 1s 72us/sample - loss: 0.0503 - accuracy: 0.9814 - val_loss: 0.0218 - val_accuracy: 1.0000\n",
      "Epoch 68/80\n",
      "8800/8800 [==============================] - 1s 79us/sample - loss: 0.0685 - accuracy: 0.9782 - val_loss: 0.0761 - val_accuracy: 0.9809\n",
      "Epoch 69/80\n",
      "8800/8800 [==============================] - ETA: 0s - loss: 0.0519 - accuracy: 0.98 - 1s 83us/sample - loss: 0.0520 - accuracy: 0.9816 - val_loss: 0.0332 - val_accuracy: 0.9841\n",
      "Epoch 70/80\n",
      "8800/8800 [==============================] - 1s 77us/sample - loss: 0.0551 - accuracy: 0.9795 - val_loss: 0.0159 - val_accuracy: 0.9977\n",
      "Epoch 71/80\n",
      "8800/8800 [==============================] - 1s 89us/sample - loss: 0.0444 - accuracy: 0.9851 - val_loss: 0.0151 - val_accuracy: 0.9977\n",
      "Epoch 72/80\n",
      "8800/8800 [==============================] - 1s 74us/sample - loss: 0.0616 - accuracy: 0.9791 - val_loss: 0.1130 - val_accuracy: 0.9514\n",
      "Epoch 73/80\n",
      "8800/8800 [==============================] - 1s 75us/sample - loss: 0.0545 - accuracy: 0.9830 - val_loss: 0.0472 - val_accuracy: 0.9832\n",
      "Epoch 74/80\n",
      "8800/8800 [==============================] - 1s 98us/sample - loss: 0.0423 - accuracy: 0.9860 - val_loss: 0.0559 - val_accuracy: 0.9741\n",
      "Epoch 75/80\n",
      "8800/8800 [==============================] - 1s 91us/sample - loss: 0.0352 - accuracy: 0.9893 - val_loss: 0.0267 - val_accuracy: 1.0000\n",
      "Epoch 76/80\n",
      "8800/8800 [==============================] - 1s 90us/sample - loss: 0.0391 - accuracy: 0.9873 - val_loss: 0.0145 - val_accuracy: 0.9986\n",
      "Epoch 77/80\n",
      "8800/8800 [==============================] - 1s 91us/sample - loss: 0.0728 - accuracy: 0.9811 - val_loss: 0.0181 - val_accuracy: 0.9941\n",
      "Epoch 78/80\n",
      "8800/8800 [==============================] - 1s 81us/sample - loss: 0.0408 - accuracy: 0.9882 - val_loss: 0.0241 - val_accuracy: 0.9991\n",
      "Epoch 79/80\n",
      "8800/8800 [==============================] - 1s 98us/sample - loss: 0.0882 - accuracy: 0.9733 - val_loss: 0.0510 - val_accuracy: 0.9859\n",
      "Epoch 80/80\n",
      "8800/8800 [==============================] - 1s 99us/sample - loss: 0.0312 - accuracy: 0.9911 - val_loss: 0.0172 - val_accuracy: 0.9941\n"
     ]
    }
   ],
   "source": [
    "history = model.fit(x_train, y_train, epochs = 80, validation_split = 0.2)"
   ]
  },
  {
   "cell_type": "code",
   "execution_count": 47,
   "metadata": {},
   "outputs": [
    {
     "name": "stdout",
     "output_type": "stream",
     "text": [
      "WARNING:tensorflow:Falling back from v2 loop because of error: Failed to find data adapter that can handle input: <class 'pandas.core.frame.DataFrame'>, <class 'NoneType'>\n",
      "3000/3000 - 0s - loss: 0.0176 - accuracy: 0.9933\n"
     ]
    }
   ],
   "source": [
    "evaluation = model.evaluate(x_test,y_test,verbose=2)"
   ]
  },
  {
   "cell_type": "code",
   "execution_count": 48,
   "metadata": {},
   "outputs": [
    {
     "data": {
      "image/png": "[encoded data removed]",
      "text/plain": [
       "<Figure size 432x288 with 1 Axes>"
      ]
     },
     "metadata": {
      "needs_background": "light"
     },
     "output_type": "display_data"
    },
    {
     "data": {
      "image/png": "[encoded data removed]",
      "text/plain": [
       "<Figure size 432x288 with 1 Axes>"
      ]
     },
     "metadata": {
      "needs_background": "light"
     },
     "output_type": "display_data"
    }
   ],
   "source": [
    "import matplotlib.pyplot as plt\n",
    "\n",
    "acc = history.history['accuracy']\n",
    "val_acc = history.history['val_accuracy']\n",
    "loss = history.history['loss']\n",
    "val_loss = history.history['val_loss']\n",
    "epochs = range(1, len(acc) + 1)\n",
    "plt.plot(epochs, acc, 'bo', label='Training acc')\n",
    "plt.plot(epochs, val_acc, 'b', label='Validation acc')\n",
    "plt.title('Training and validation accuracy')\n",
    "plt.legend()\n",
    "plt.figure()\n",
    "plt.plot(epochs, loss, 'bo', label='Training loss')\n",
    "plt.plot(epochs, val_loss, 'b', label='Validation loss')\n",
    "plt.title('Training and validation loss')\n",
    "plt.legend()\n",
    "plt.show()"
   ]
  },
  {
   "cell_type": "code",
   "execution_count": 60,
   "metadata": {},
   "outputs": [],
   "source": [
    "model.save(\"model.h5\")"
   ]
  },
  {
   "cell_type": "code",
   "execution_count": 62,
   "metadata": {},
   "outputs": [],
   "source": [
    "from tensorflow.keras.models import load_model\n",
    "\n",
    "loaded_model = load_model(\"model.h5\")"
   ]
  },
  {
   "cell_type": "code",
   "execution_count": 50,
   "metadata": {},
   "outputs": [],
   "source": [
    "def find_max_index(prediction):\n",
    "    \n",
    "    a,d=0,0                                \n",
    "    for i in prediction[0]:                \n",
    "        if float(i)>a or float(i)==a:      \n",
    "            a=i                            \n",
    "            d=0                            \n",
    "        elif float(i)<a:                   \n",
    "            d=d+1    \n",
    "    index = len(prediction[0])-d-1\n",
    "    \n",
    "    return index"
   ]
  },
  {
   "cell_type": "code",
   "execution_count": 51,
   "metadata": {},
   "outputs": [
    {
     "data": {
      "text/plain": [
       "array(['Roach', 'Bream', 'Parkki', 'Perch', 'Whitefish', 'Smelt', 'Pike'],\n",
       "      dtype=object)"
      ]
     },
     "execution_count": 51,
     "metadata": {},
     "output_type": "execute_result"
    }
   ],
   "source": [
    "labels = y.unique()\n",
    "labels"
   ]
  },
  {
   "cell_type": "code",
   "execution_count": 68,
   "metadata": {},
   "outputs": [],
   "source": [
    "def predict(n, data, label):\n",
    "    \n",
    "    inp = np.array(data.iloc[n]).reshape((1,6))  \n",
    "    prediction = loaded_model.predict(inp)\n",
    "    \n",
    "    max_index = find_max_index(prediction)\n",
    "    \n",
    "    print(\"Predicted: %s\"%(labels[max_index]) + '\\n' + \"Actual   : %s\"%(labels[label[n]]))"
   ]
  },
  {
   "cell_type": "code",
   "execution_count": 69,
   "metadata": {},
   "outputs": [
    {
     "name": "stdout",
     "output_type": "stream",
     "text": [
      "Predicted: Roach\n",
      "Actual   : Roach\n",
      "\n",
      "Predicted: Parkki\n",
      "Actual   : Parkki\n"
     ]
    }
   ],
   "source": [
    "predict(9550,x_train,y_train)\n",
    "print()\n",
    "predict(850,x_test,y_test)"
   ]
  },
  {
   "cell_type": "code",
   "execution_count": 70,
   "metadata": {},
   "outputs": [
    {
     "name": "stdout",
     "output_type": "stream",
     "text": [
      "Predicted: Smelt\n",
      "Actual   : Smelt\n",
      "\n",
      "Predicted: Whitefish\n",
      "Actual   : Whitefish\n",
      "\n",
      "Predicted: Parkki\n",
      "Actual   : Parkki\n",
      "\n",
      "Predicted: Pike\n",
      "Actual   : Pike\n",
      "\n",
      "Predicted: Bream\n",
      "Actual   : Bream\n",
      "\n",
      "Predicted: Roach\n",
      "Actual   : Roach\n",
      "\n",
      "Predicted: Bream\n",
      "Actual   : Bream\n",
      "\n",
      "Predicted: Parkki\n",
      "Actual   : Parkki\n",
      "\n",
      "Predicted: Perch\n",
      "Actual   : Perch\n",
      "\n",
      "Predicted: Smelt\n",
      "Actual   : Smelt\n",
      "\n",
      "Predicted: Roach\n",
      "Actual   : Roach\n",
      "\n",
      "Predicted: Whitefish\n",
      "Actual   : Whitefish\n",
      "\n",
      "Predicted: Parkki\n",
      "Actual   : Parkki\n",
      "\n",
      "Predicted: Bream\n",
      "Actual   : Bream\n",
      "\n"
     ]
    }
   ],
   "source": [
    "random = [50,754,68,7500,69,10000,456,8825,4569,147,9958,6214,897,1234]\n",
    "for i in random:\n",
    "    predict(i,x_train,y_train)\n",
    "    print()"
   ]
  },
  {
   "cell_type": "code",
   "execution_count": null,
   "metadata": {},
   "outputs": [],
   "source": []
  }
 ],
 "metadata": {
  "kernelspec": {
   "display_name": "Python 3",
   "language": "python",
   "name": "python3"
  },
  "language_info": {
   "codemirror_mode": {
    "name": "ipython",
    "version": 3
   },
   "file_extension": ".py",
   "mimetype": "text/x-python",
   "name": "python",
   "nbconvert_exporter": "python",
   "pygments_lexer": "ipython3",
   "version": "3.7.7"
  }
 },
 "nbformat": 4,
 "nbformat_minor": 4
}
