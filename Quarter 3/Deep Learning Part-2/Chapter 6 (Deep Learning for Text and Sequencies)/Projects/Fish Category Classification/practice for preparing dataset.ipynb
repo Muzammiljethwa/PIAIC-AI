{
 "cells": [
  {
   "cell_type": "code",
   "execution_count": 23,
   "metadata": {},
   "outputs": [],
   "source": [
    "import numpy as np\n",
    "import pandas as pd\n",
    "from sklearn.utils import shuffle\n",
    "import random\n",
    "import csv"
   ]
  },
  {
   "cell_type": "code",
   "execution_count": 24,
   "metadata": {},
   "outputs": [],
   "source": [
    "data = pd.read_csv(\"fish(old data).csv\")"
   ]
  },
  {
   "cell_type": "code",
   "execution_count": 25,
   "metadata": {},
   "outputs": [
    {
     "data": {
      "text/html": [
       "<div>\n",
       "<style scoped>\n",
       "    .dataframe tbody tr th:only-of-type {\n",
       "        vertical-align: middle;\n",
       "    }\n",
       "\n",
       "    .dataframe tbody tr th {\n",
       "        vertical-align: top;\n",
       "    }\n",
       "\n",
       "    .dataframe thead th {\n",
       "        text-align: right;\n",
       "    }\n",
       "</style>\n",
       "<table border=\"1\" class=\"dataframe\">\n",
       "  <thead>\n",
       "    <tr style=\"text-align: right;\">\n",
       "      <th></th>\n",
       "      <th>Species</th>\n",
       "      <th>Weight</th>\n",
       "      <th>Length1</th>\n",
       "      <th>Length2</th>\n",
       "      <th>Length3</th>\n",
       "      <th>Height</th>\n",
       "      <th>Width</th>\n",
       "    </tr>\n",
       "  </thead>\n",
       "  <tbody>\n",
       "    <tr>\n",
       "      <th>0</th>\n",
       "      <td>Bream</td>\n",
       "      <td>242.0</td>\n",
       "      <td>23.2</td>\n",
       "      <td>25.4</td>\n",
       "      <td>30.0</td>\n",
       "      <td>11.5200</td>\n",
       "      <td>4.0200</td>\n",
       "    </tr>\n",
       "    <tr>\n",
       "      <th>1</th>\n",
       "      <td>Bream</td>\n",
       "      <td>290.0</td>\n",
       "      <td>24.0</td>\n",
       "      <td>26.3</td>\n",
       "      <td>31.2</td>\n",
       "      <td>12.4800</td>\n",
       "      <td>4.3056</td>\n",
       "    </tr>\n",
       "    <tr>\n",
       "      <th>2</th>\n",
       "      <td>Bream</td>\n",
       "      <td>340.0</td>\n",
       "      <td>23.9</td>\n",
       "      <td>26.5</td>\n",
       "      <td>31.1</td>\n",
       "      <td>12.3778</td>\n",
       "      <td>4.6961</td>\n",
       "    </tr>\n",
       "    <tr>\n",
       "      <th>3</th>\n",
       "      <td>Bream</td>\n",
       "      <td>363.0</td>\n",
       "      <td>26.3</td>\n",
       "      <td>29.0</td>\n",
       "      <td>33.5</td>\n",
       "      <td>12.7300</td>\n",
       "      <td>4.4555</td>\n",
       "    </tr>\n",
       "    <tr>\n",
       "      <th>4</th>\n",
       "      <td>Bream</td>\n",
       "      <td>430.0</td>\n",
       "      <td>26.5</td>\n",
       "      <td>29.0</td>\n",
       "      <td>34.0</td>\n",
       "      <td>12.4440</td>\n",
       "      <td>5.1340</td>\n",
       "    </tr>\n",
       "  </tbody>\n",
       "</table>\n",
       "</div>"
      ],
      "text/plain": [
       "  Species  Weight  Length1  Length2  Length3   Height   Width\n",
       "0   Bream   242.0     23.2     25.4     30.0  11.5200  4.0200\n",
       "1   Bream   290.0     24.0     26.3     31.2  12.4800  4.3056\n",
       "2   Bream   340.0     23.9     26.5     31.1  12.3778  4.6961\n",
       "3   Bream   363.0     26.3     29.0     33.5  12.7300  4.4555\n",
       "4   Bream   430.0     26.5     29.0     34.0  12.4440  5.1340"
      ]
     },
     "execution_count": 25,
     "metadata": {},
     "output_type": "execute_result"
    }
   ],
   "source": [
    "data.head()"
   ]
  },
  {
   "cell_type": "code",
   "execution_count": 26,
   "metadata": {},
   "outputs": [
    {
     "data": {
      "text/plain": [
       "array(['Bream', 'Roach', 'Whitefish', 'Parkki', 'Perch', 'Pike', 'Smelt'],\n",
       "      dtype=object)"
      ]
     },
     "execution_count": 26,
     "metadata": {},
     "output_type": "execute_result"
    }
   ],
   "source": [
    "x = np.array(data[['Weight','Length1','Length2','Length3','Height',\"Width\"]])\n",
    "y = np.array(data['Species'])\n",
    "species = np.array(data['Species'].unique())\n",
    "species"
   ]
  },
  {
   "cell_type": "code",
   "execution_count": 27,
   "metadata": {},
   "outputs": [],
   "source": [
    "total_bream = x[0:35]\n",
    "total_roach = x[35:55]\n",
    "total_whitefish = x[55:62]\n",
    "total_parkki = x[62:73]\n",
    "total_perch = x[73:129]\n",
    "total_pike = x[129:146]\n",
    "total_smelt = x[146:160]"
   ]
  },
  {
   "cell_type": "code",
   "execution_count": 29,
   "metadata": {},
   "outputs": [
    {
     "data": {
      "text/plain": [
       "array([242.  ,  23.2 ,  25.4 ,  30.  ,  11.52,   4.02])"
      ]
     },
     "execution_count": 29,
     "metadata": {},
     "output_type": "execute_result"
    }
   ],
   "source": [
    "total_bream[0]"
   ]
  },
  {
   "cell_type": "code",
   "execution_count": 30,
   "metadata": {},
   "outputs": [],
   "source": [
    "bream_mean, bream_median = [],[]\n",
    "roach_mean , roach_median = [],[]\n",
    "whitefish_mean ,whitefish_median = [],[]\n",
    "parkki_mean , parkki_median = [],[]\n",
    "perch_mean, perch_median = [],[]\n",
    "pike_mean , pike_median = [],[]\n",
    "smelt_mean , smelt_median = [],[]\n",
    "\n",
    "for i in range(6):\n",
    "    \n",
    "    bream_mean.append(np.mean(total_bream[:,i]))\n",
    "    bream_median.append(np.median(total_bream[:,i])) \n",
    "    \n",
    "    \n",
    "    roach_mean.append(np.mean(total_roach[:,i]))\n",
    "    roach_median.append(np.median(total_roach[:,i])) \n",
    "    \n",
    "    \n",
    "    whitefish_mean.append(np.mean(total_whitefish[:,i]))\n",
    "    whitefish_median.append(np.median(total_whitefish[:,i])) \n",
    "    \n",
    "    \n",
    "    parkki_mean.append(np.mean(total_parkki[:,i]))\n",
    "    parkki_median.append(np.median(total_parkki[:,i])) \n",
    "    \n",
    "    \n",
    "    perch_mean.append(np.mean(total_perch[:,i]))\n",
    "    perch_median.append(np.median(total_perch[:,i])) \n",
    "    \n",
    "    \n",
    "    pike_mean.append(np.mean(total_pike[:,i]))\n",
    "    pike_median.append(np.median(total_pike[:,i])) \n",
    "    \n",
    "    \n",
    "    smelt_mean.append(np.mean(total_smelt[:,i]))\n",
    "    smelt_median.append(np.median(total_smelt[:,i])) \n",
    "    "
   ]
  },
  {
   "cell_type": "code",
   "execution_count": 31,
   "metadata": {},
   "outputs": [
    {
     "data": {
      "text/plain": [
       "([617.8285714285714,\n",
       "  30.30571428571428,\n",
       "  33.10857142857143,\n",
       "  38.35428571428571,\n",
       "  15.18321142857143,\n",
       "  5.427614285714284],\n",
       " [610.0, 30.4, 33.0, 38.5, 14.9544, 5.2801])"
      ]
     },
     "execution_count": 31,
     "metadata": {},
     "output_type": "execute_result"
    }
   ],
   "source": [
    "bream_mean,bream_median"
   ]
  },
  {
   "cell_type": "code",
   "execution_count": 8,
   "metadata": {},
   "outputs": [
    {
     "data": {
      "text/plain": [
       "616.1"
      ]
     },
     "execution_count": 8,
     "metadata": {},
     "output_type": "execute_result"
    }
   ],
   "source": [
    "def value(value1,value2,index):\n",
    "\n",
    "    multiplyer = random.choice([0.95,0.96,0.97,0.98,0.99,1,1.01,1.02,1.03,1.04,1.05])\n",
    "    val = random.choice([value1[index],value2[index]])\n",
    "    \n",
    "    return float((\"%.2f\"%(multiplyer*val)))\n",
    "\n",
    "value(bream_mean,bream_median,0)"
   ]
  },
  {
   "cell_type": "code",
   "execution_count": 9,
   "metadata": {},
   "outputs": [],
   "source": [
    "num_of_columns = 2000  "
   ]
  },
  {
   "cell_type": "code",
   "execution_count": 10,
   "metadata": {},
   "outputs": [],
   "source": [
    "bream,roach,whitefish,parkki,perch,pike,smelt = np.ones([6,num_of_columns]),np.ones([6,num_of_columns]),np.ones([6,num_of_columns]),np.ones([6,num_of_columns]),np.ones([6,num_of_columns]),np.ones([6,num_of_columns]),np.ones([6,num_of_columns])\n",
    "\n",
    "for i in range(len(bream)):\n",
    "    for j in range(len(bream[i])):\n",
    "        \n",
    "        bream[i][j] = bream[i][j]*value(bream_mean,bream_median,i)\n",
    "        \n",
    "        roach[i][j] = roach[i][j]*value(roach_mean,roach_median,i) \n",
    "        \n",
    "        whitefish[i][j] = whitefish[i][j]*value(whitefish_mean,whitefish_median,i) \n",
    "        \n",
    "        parkki[i][j] = parkki[i][j]*value(parkki_mean,parkki_median,i)   \n",
    "        \n",
    "        perch[i][j] = perch[i][j]*value(perch_mean,perch_median,i) \n",
    "        \n",
    "        pike[i][j] = pike[i][j]*value(pike_mean,pike_median,i) \n",
    "        \n",
    "        smelt[i][j] = smelt[i][j]*value(smelt_mean,smelt_median,i)        "
   ]
  },
  {
   "cell_type": "code",
   "execution_count": 11,
   "metadata": {},
   "outputs": [],
   "source": [
    "# ['Weight','Length1','Length2','Length3','Height',\"Width\"]\n",
    "\n",
    "weight = np.concatenate((bream[0], roach[0],whitefish[0],parkki[0],perch[0],\n",
    "                       pike[0],smelt[0]))\n",
    "\n",
    "length1 = np.concatenate((bream[1], roach[1],whitefish[1],parkki[1],perch[1],\n",
    "                       pike[1],smelt[1]))\n",
    "\n",
    "length2 = np.concatenate((bream[2], roach[2],whitefish[2],parkki[2],perch[2],\n",
    "                       pike[2],smelt[2]))\n",
    "\n",
    "length3 = np.concatenate((bream[3], roach[3],whitefish[3],parkki[3],perch[3],\n",
    "                       pike[3],smelt[3]))\n",
    "\n",
    "height = np.concatenate((bream[4], roach[4],whitefish[4],parkki[4],perch[4],\n",
    "                       pike[4],smelt[4]))\n",
    "\n",
    "width = np.concatenate((bream[5], roach[5],whitefish[5],parkki[5],perch[5],\n",
    "                       pike[5],smelt[5]))\n"
   ]
  },
  {
   "cell_type": "code",
   "execution_count": 12,
   "metadata": {},
   "outputs": [],
   "source": [
    "Species = []\n",
    "for i in species:\n",
    "    for j in range(num_of_columns):\n",
    "        Species.append(i)\n",
    "Species = np.array(Species)"
   ]
  },
  {
   "cell_type": "code",
   "execution_count": 13,
   "metadata": {},
   "outputs": [
    {
     "data": {
      "text/plain": [
       "((14000,), (14000,), (14000,))"
      ]
     },
     "execution_count": 13,
     "metadata": {},
     "output_type": "execute_result"
    }
   ],
   "source": [
    "Species.shape, width.shape, length1.shape"
   ]
  },
  {
   "cell_type": "code",
   "execution_count": 14,
   "metadata": {},
   "outputs": [],
   "source": [
    "dataset = {\n",
    "    \"Species\" : Species,\n",
    "    \"Weight\" : weight,\n",
    "    \"Length1\" : length1,\n",
    "    \"Length2\" : length2,\n",
    "    \"Length3\" : length3,\n",
    "    \"Height\" : height,\n",
    "    \"Width\" : width\n",
    "}"
   ]
  },
  {
   "cell_type": "code",
   "execution_count": 15,
   "metadata": {},
   "outputs": [],
   "source": [
    "df = pd.DataFrame(dataset)"
   ]
  },
  {
   "cell_type": "code",
   "execution_count": 16,
   "metadata": {},
   "outputs": [
    {
     "data": {
      "text/html": [
       "<div>\n",
       "<style scoped>\n",
       "    .dataframe tbody tr th:only-of-type {\n",
       "        vertical-align: middle;\n",
       "    }\n",
       "\n",
       "    .dataframe tbody tr th {\n",
       "        vertical-align: top;\n",
       "    }\n",
       "\n",
       "    .dataframe thead th {\n",
       "        text-align: right;\n",
       "    }\n",
       "</style>\n",
       "<table border=\"1\" class=\"dataframe\">\n",
       "  <thead>\n",
       "    <tr style=\"text-align: right;\">\n",
       "      <th></th>\n",
       "      <th>Species</th>\n",
       "      <th>Weight</th>\n",
       "      <th>Length1</th>\n",
       "      <th>Length2</th>\n",
       "      <th>Length3</th>\n",
       "      <th>Height</th>\n",
       "      <th>Width</th>\n",
       "    </tr>\n",
       "  </thead>\n",
       "  <tbody>\n",
       "    <tr>\n",
       "      <th>0</th>\n",
       "      <td>Bream</td>\n",
       "      <td>611.65</td>\n",
       "      <td>30.70</td>\n",
       "      <td>33.77</td>\n",
       "      <td>36.96</td>\n",
       "      <td>15.03</td>\n",
       "      <td>5.17</td>\n",
       "    </tr>\n",
       "    <tr>\n",
       "      <th>1</th>\n",
       "      <td>Bream</td>\n",
       "      <td>642.54</td>\n",
       "      <td>30.40</td>\n",
       "      <td>33.66</td>\n",
       "      <td>39.12</td>\n",
       "      <td>15.03</td>\n",
       "      <td>5.16</td>\n",
       "    </tr>\n",
       "    <tr>\n",
       "      <th>2</th>\n",
       "      <td>Bream</td>\n",
       "      <td>610.00</td>\n",
       "      <td>29.40</td>\n",
       "      <td>34.32</td>\n",
       "      <td>39.89</td>\n",
       "      <td>15.70</td>\n",
       "      <td>5.17</td>\n",
       "    </tr>\n",
       "    <tr>\n",
       "      <th>3</th>\n",
       "      <td>Bream</td>\n",
       "      <td>648.72</td>\n",
       "      <td>30.40</td>\n",
       "      <td>31.35</td>\n",
       "      <td>38.74</td>\n",
       "      <td>14.58</td>\n",
       "      <td>5.48</td>\n",
       "    </tr>\n",
       "    <tr>\n",
       "      <th>4</th>\n",
       "      <td>Bream</td>\n",
       "      <td>579.50</td>\n",
       "      <td>29.09</td>\n",
       "      <td>34.76</td>\n",
       "      <td>37.73</td>\n",
       "      <td>15.79</td>\n",
       "      <td>5.26</td>\n",
       "    </tr>\n",
       "  </tbody>\n",
       "</table>\n",
       "</div>"
      ],
      "text/plain": [
       "  Species  Weight  Length1  Length2  Length3  Height  Width\n",
       "0   Bream  611.65    30.70    33.77    36.96   15.03   5.17\n",
       "1   Bream  642.54    30.40    33.66    39.12   15.03   5.16\n",
       "2   Bream  610.00    29.40    34.32    39.89   15.70   5.17\n",
       "3   Bream  648.72    30.40    31.35    38.74   14.58   5.48\n",
       "4   Bream  579.50    29.09    34.76    37.73   15.79   5.26"
      ]
     },
     "execution_count": 16,
     "metadata": {},
     "output_type": "execute_result"
    }
   ],
   "source": [
    "df.head()"
   ]
  },
  {
   "cell_type": "code",
   "execution_count": 17,
   "metadata": {},
   "outputs": [
    {
     "data": {
      "text/html": [
       "<div>\n",
       "<style scoped>\n",
       "    .dataframe tbody tr th:only-of-type {\n",
       "        vertical-align: middle;\n",
       "    }\n",
       "\n",
       "    .dataframe tbody tr th {\n",
       "        vertical-align: top;\n",
       "    }\n",
       "\n",
       "    .dataframe thead th {\n",
       "        text-align: right;\n",
       "    }\n",
       "</style>\n",
       "<table border=\"1\" class=\"dataframe\">\n",
       "  <thead>\n",
       "    <tr style=\"text-align: right;\">\n",
       "      <th></th>\n",
       "      <th>Species</th>\n",
       "      <th>Weight</th>\n",
       "      <th>Length1</th>\n",
       "      <th>Length2</th>\n",
       "      <th>Length3</th>\n",
       "      <th>Height</th>\n",
       "      <th>Width</th>\n",
       "    </tr>\n",
       "  </thead>\n",
       "  <tbody>\n",
       "    <tr>\n",
       "      <th>5717</th>\n",
       "      <td>Whitefish</td>\n",
       "      <td>472.26</td>\n",
       "      <td>27.41</td>\n",
       "      <td>28.84</td>\n",
       "      <td>33.04</td>\n",
       "      <td>8.69</td>\n",
       "      <td>4.59</td>\n",
       "    </tr>\n",
       "    <tr>\n",
       "      <th>3629</th>\n",
       "      <td>Roach</td>\n",
       "      <td>156.61</td>\n",
       "      <td>21.32</td>\n",
       "      <td>22.70</td>\n",
       "      <td>25.97</td>\n",
       "      <td>6.56</td>\n",
       "      <td>3.57</td>\n",
       "    </tr>\n",
       "    <tr>\n",
       "      <th>12991</th>\n",
       "      <td>Smelt</td>\n",
       "      <td>10.10</td>\n",
       "      <td>11.86</td>\n",
       "      <td>12.69</td>\n",
       "      <td>12.97</td>\n",
       "      <td>2.20</td>\n",
       "      <td>1.29</td>\n",
       "    </tr>\n",
       "    <tr>\n",
       "      <th>606</th>\n",
       "      <td>Bream</td>\n",
       "      <td>599.29</td>\n",
       "      <td>30.70</td>\n",
       "      <td>32.78</td>\n",
       "      <td>37.59</td>\n",
       "      <td>14.58</td>\n",
       "      <td>5.48</td>\n",
       "    </tr>\n",
       "    <tr>\n",
       "      <th>3929</th>\n",
       "      <td>Roach</td>\n",
       "      <td>150.53</td>\n",
       "      <td>20.09</td>\n",
       "      <td>21.16</td>\n",
       "      <td>24.22</td>\n",
       "      <td>6.69</td>\n",
       "      <td>3.67</td>\n",
       "    </tr>\n",
       "  </tbody>\n",
       "</table>\n",
       "</div>"
      ],
      "text/plain": [
       "         Species  Weight  Length1  Length2  Length3  Height  Width\n",
       "5717   Whitefish  472.26    27.41    28.84    33.04    8.69   4.59\n",
       "3629       Roach  156.61    21.32    22.70    25.97    6.56   3.57\n",
       "12991      Smelt   10.10    11.86    12.69    12.97    2.20   1.29\n",
       "606        Bream  599.29    30.70    32.78    37.59   14.58   5.48\n",
       "3929       Roach  150.53    20.09    21.16    24.22    6.69   3.67"
      ]
     },
     "execution_count": 17,
     "metadata": {},
     "output_type": "execute_result"
    }
   ],
   "source": [
    "df = shuffle(df)     # shuffle() is from scikitlearn.utils\n",
    "df.head()"
   ]
  },
  {
   "cell_type": "code",
   "execution_count": 18,
   "metadata": {
    "scrolled": true
   },
   "outputs": [
    {
     "data": {
      "text/html": [
       "<div>\n",
       "<style scoped>\n",
       "    .dataframe tbody tr th:only-of-type {\n",
       "        vertical-align: middle;\n",
       "    }\n",
       "\n",
       "    .dataframe tbody tr th {\n",
       "        vertical-align: top;\n",
       "    }\n",
       "\n",
       "    .dataframe thead th {\n",
       "        text-align: right;\n",
       "    }\n",
       "</style>\n",
       "<table border=\"1\" class=\"dataframe\">\n",
       "  <thead>\n",
       "    <tr style=\"text-align: right;\">\n",
       "      <th></th>\n",
       "      <th>Species</th>\n",
       "      <th>Weight</th>\n",
       "      <th>Length1</th>\n",
       "      <th>Length2</th>\n",
       "      <th>Length3</th>\n",
       "      <th>Height</th>\n",
       "      <th>Width</th>\n",
       "    </tr>\n",
       "  </thead>\n",
       "  <tbody>\n",
       "    <tr>\n",
       "      <th>0</th>\n",
       "      <td>Whitefish</td>\n",
       "      <td>472.26</td>\n",
       "      <td>27.41</td>\n",
       "      <td>28.84</td>\n",
       "      <td>33.04</td>\n",
       "      <td>8.69</td>\n",
       "      <td>4.59</td>\n",
       "    </tr>\n",
       "    <tr>\n",
       "      <th>1</th>\n",
       "      <td>Roach</td>\n",
       "      <td>156.61</td>\n",
       "      <td>21.32</td>\n",
       "      <td>22.70</td>\n",
       "      <td>25.97</td>\n",
       "      <td>6.56</td>\n",
       "      <td>3.57</td>\n",
       "    </tr>\n",
       "    <tr>\n",
       "      <th>2</th>\n",
       "      <td>Smelt</td>\n",
       "      <td>10.10</td>\n",
       "      <td>11.86</td>\n",
       "      <td>12.69</td>\n",
       "      <td>12.97</td>\n",
       "      <td>2.20</td>\n",
       "      <td>1.29</td>\n",
       "    </tr>\n",
       "    <tr>\n",
       "      <th>3</th>\n",
       "      <td>Bream</td>\n",
       "      <td>599.29</td>\n",
       "      <td>30.70</td>\n",
       "      <td>32.78</td>\n",
       "      <td>37.59</td>\n",
       "      <td>14.58</td>\n",
       "      <td>5.48</td>\n",
       "    </tr>\n",
       "    <tr>\n",
       "      <th>4</th>\n",
       "      <td>Roach</td>\n",
       "      <td>150.53</td>\n",
       "      <td>20.09</td>\n",
       "      <td>21.16</td>\n",
       "      <td>24.22</td>\n",
       "      <td>6.69</td>\n",
       "      <td>3.67</td>\n",
       "    </tr>\n",
       "  </tbody>\n",
       "</table>\n",
       "</div>"
      ],
      "text/plain": [
       "     Species  Weight  Length1  Length2  Length3  Height  Width\n",
       "0  Whitefish  472.26    27.41    28.84    33.04    8.69   4.59\n",
       "1      Roach  156.61    21.32    22.70    25.97    6.56   3.57\n",
       "2      Smelt   10.10    11.86    12.69    12.97    2.20   1.29\n",
       "3      Bream  599.29    30.70    32.78    37.59   14.58   5.48\n",
       "4      Roach  150.53    20.09    21.16    24.22    6.69   3.67"
      ]
     },
     "execution_count": 18,
     "metadata": {},
     "output_type": "execute_result"
    }
   ],
   "source": [
    "df.reset_index(drop=True, inplace=True)\n",
    "df.head()"
   ]
  },
  {
   "cell_type": "code",
   "execution_count": 19,
   "metadata": {},
   "outputs": [],
   "source": [
    "my_list = [['Species','Weight','Length1','Length2','Length3','Height',\"Width\"]]\n",
    "for i in range(len(df)):\n",
    "    my_list.append(df.iloc[i])"
   ]
  },
  {
   "cell_type": "code",
   "execution_count": 20,
   "metadata": {},
   "outputs": [
    {
     "data": {
      "text/plain": [
       "(14000,\n",
       " Species    Whitefish\n",
       " Weight        472.26\n",
       " Length1        27.41\n",
       " Length2        28.84\n",
       " Length3        33.04\n",
       " Height          8.69\n",
       " Width           4.59\n",
       " Name: 0, dtype: object,\n",
       " Species    Roach\n",
       " Weight     141.6\n",
       " Length1    20.09\n",
       " Length2    23.14\n",
       " Length3    25.97\n",
       " Height      6.71\n",
       " Width       3.78\n",
       " Name: 13999, dtype: object)"
      ]
     },
     "execution_count": 20,
     "metadata": {},
     "output_type": "execute_result"
    }
   ],
   "source": [
    "len(df), df.iloc[0], df.iloc[-1]"
   ]
  },
  {
   "cell_type": "code",
   "execution_count": 21,
   "metadata": {},
   "outputs": [
    {
     "data": {
      "text/plain": [
       "(14001,\n",
       " ['Species', 'Weight', 'Length1', 'Length2', 'Length3', 'Height', 'Width'],\n",
       " Species    Roach\n",
       " Weight     141.6\n",
       " Length1    20.09\n",
       " Length2    23.14\n",
       " Length3    25.97\n",
       " Height      6.71\n",
       " Width       3.78\n",
       " Name: 13999, dtype: object)"
      ]
     },
     "execution_count": 21,
     "metadata": {},
     "output_type": "execute_result"
    }
   ],
   "source": [
    "len(my_list), my_list[0], my_list[-1]"
   ]
  },
  {
   "cell_type": "code",
   "execution_count": 22,
   "metadata": {},
   "outputs": [],
   "source": [
    "with open('sample.csv', 'w', newline='') as file:\n",
    "    writer = csv.writer(file)\n",
    "    writer.writerows(my_list)"
   ]
  }
 ],
 "metadata": {
  "kernelspec": {
   "display_name": "Python 3",
   "language": "python",
   "name": "python3"
  },
  "language_info": {
   "codemirror_mode": {
    "name": "ipython",
    "version": 3
   },
   "file_extension": ".py",
   "mimetype": "text/x-python",
   "name": "python",
   "nbconvert_exporter": "python",
   "pygments_lexer": "ipython3",
   "version": "3.7.7"
  }
 },
 "nbformat": 4,
 "nbformat_minor": 4
}
