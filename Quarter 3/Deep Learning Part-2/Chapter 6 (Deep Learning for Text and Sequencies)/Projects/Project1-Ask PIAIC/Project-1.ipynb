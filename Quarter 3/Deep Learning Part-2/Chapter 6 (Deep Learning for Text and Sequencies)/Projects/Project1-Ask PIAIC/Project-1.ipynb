{
 "cells": [
  {
   "cell_type": "markdown",
   "metadata": {},
   "source": [
    "# Importing Libraries"
   ]
  },
  {
   "cell_type": "code",
   "execution_count": 1,
   "metadata": {},
   "outputs": [],
   "source": [
    "import requests as r\n",
    "from bs4 import BeautifulSoup as bs\n",
    "import numpy as np\n",
    "import pandas as pd\n",
    "from sklearn.utils import shuffle"
   ]
  },
  {
   "cell_type": "markdown",
   "metadata": {},
   "source": [
    "# Scrapping Data"
   ]
  },
  {
   "cell_type": "code",
   "execution_count": 242,
   "metadata": {},
   "outputs": [],
   "source": [
    "web = r.get(\"https://ask.piaic.org/\")"
   ]
  },
  {
   "cell_type": "code",
   "execution_count": 243,
   "metadata": {},
   "outputs": [],
   "source": [
    "soup = bs(web.text,\"html.parser\")"
   ]
  },
  {
   "cell_type": "code",
   "execution_count": 244,
   "metadata": {},
   "outputs": [],
   "source": [
    "x,y = [],[]"
   ]
  },
  {
   "cell_type": "markdown",
   "metadata": {},
   "source": [
    "## Scrapping All Categories Pages"
   ]
  },
  {
   "cell_type": "code",
   "execution_count": 245,
   "metadata": {},
   "outputs": [],
   "source": [
    "pages = []\n",
    "for i in soup.find_all(\"a\",class_=\"qa-nav-cat-link\"):\n",
    "    i = \"https://ask.piaic.org/\"+i['href']\n",
    "    pages.append(i.replace(\"./\",\"\"))\n",
    "pages.remove(pages[0])"
   ]
  },
  {
   "cell_type": "code",
   "execution_count": 246,
   "metadata": {},
   "outputs": [
    {
     "data": {
      "text/plain": [
       "10"
      ]
     },
     "execution_count": 246,
     "metadata": {},
     "output_type": "execute_result"
    }
   ],
   "source": [
    "label = [\"4ir\",\"general\",\"AI\",\"android\",'blockchain','cloud-native',\n",
    "        \"Git\",\"iot\",\"ios\",\"web\"]\n",
    "len(label)"
   ]
  },
  {
   "cell_type": "code",
   "execution_count": 247,
   "metadata": {},
   "outputs": [],
   "source": [
    "names = {\n",
    "    0 : '4ir',\n",
    "    1 : 'general',\n",
    "    2 : 'AI',\n",
    "    3 : 'android',\n",
    "    4 : 'blockchain',\n",
    "    5 : 'cloud-native',\n",
    "    6 : 'Git',\n",
    "    7 : 'iot',\n",
    "    8 : 'ios',\n",
    "    9 : 'web'\n",
    "}"
   ]
  },
  {
   "cell_type": "markdown",
   "metadata": {},
   "source": [
    "## Scrapping Questions and Labels from all Categories"
   ]
  },
  {
   "cell_type": "code",
   "execution_count": 252,
   "metadata": {},
   "outputs": [],
   "source": [
    "k = 0\n",
    "for i in pages:\n",
    "    \n",
    "    page = r.get(i)\n",
    "    soup = bs(page.text,\"html.parser\")\n",
    "    \n",
    "    questions = []\n",
    "    for i in soup.find_all(\"div\",class_='qa-q-item-title'):\n",
    "        questions.append(i.getText().replace(\"\\n\",\"\").replace(\"\\t\",\"\"))\n",
    "        x.append(i.getText().replace(\"\\n\",\"\").replace(\"\\t\",\"\"))\n",
    "        \n",
    "    for i in range(len(questions)):\n",
    "        y.append(label[k])\n",
    "    \n",
    "    k=k+1\n",
    "    "
   ]
  },
  {
   "cell_type": "markdown",
   "metadata": {},
   "source": [
    "# The data was 263 but i have run the above cell 3 times as to collect more data"
   ]
  },
  {
   "cell_type": "code",
   "execution_count": 253,
   "metadata": {},
   "outputs": [
    {
     "data": {
      "text/plain": [
       "(789, 789)"
      ]
     },
     "execution_count": 253,
     "metadata": {},
     "output_type": "execute_result"
    }
   ],
   "source": [
    "len(x),len(y)"
   ]
  },
  {
   "cell_type": "markdown",
   "metadata": {},
   "source": [
    "## Changing Labels Into Numbers"
   ]
  },
  {
   "cell_type": "code",
   "execution_count": 254,
   "metadata": {},
   "outputs": [],
   "source": [
    "l=[]\n",
    "for i in y:\n",
    "    if i == '4ir':\n",
    "        l.append(0)\n",
    "    elif i == 'general':\n",
    "        l.append(1)\n",
    "    elif i == 'AI':\n",
    "        l.append(2)\n",
    "    elif i == 'android':\n",
    "        l.append(3)\n",
    "    elif i == 'blockchain':\n",
    "        l.append(4)\n",
    "    elif i == 'cloud-native':\n",
    "        l.append(5)\n",
    "    elif i == 'Git':\n",
    "        l.append(6)\n",
    "    elif i == 'iot':\n",
    "        l.append(7)\n",
    "    elif i == 'ios':\n",
    "        l.append(8)\n",
    "    elif i == 'web':\n",
    "        l.append(9)  "
   ]
  },
  {
   "cell_type": "code",
   "execution_count": 255,
   "metadata": {},
   "outputs": [],
   "source": [
    "data = {\"Questions\":x,\"Label\":l}"
   ]
  },
  {
   "cell_type": "code",
   "execution_count": 256,
   "metadata": {},
   "outputs": [
    {
     "data": {
      "text/plain": [
       "(789, 789)"
      ]
     },
     "execution_count": 256,
     "metadata": {},
     "output_type": "execute_result"
    }
   ],
   "source": [
    "len(x),len(l)"
   ]
  },
  {
   "cell_type": "markdown",
   "metadata": {},
   "source": [
    "# Making Data Frame and Saving Data "
   ]
  },
  {
   "cell_type": "code",
   "execution_count": 257,
   "metadata": {},
   "outputs": [
    {
     "data": {
      "text/html": [
       "<div>\n",
       "<style scoped>\n",
       "    .dataframe tbody tr th:only-of-type {\n",
       "        vertical-align: middle;\n",
       "    }\n",
       "\n",
       "    .dataframe tbody tr th {\n",
       "        vertical-align: top;\n",
       "    }\n",
       "\n",
       "    .dataframe thead th {\n",
       "        text-align: right;\n",
       "    }\n",
       "</style>\n",
       "<table border=\"1\" class=\"dataframe\">\n",
       "  <thead>\n",
       "    <tr style=\"text-align: right;\">\n",
       "      <th></th>\n",
       "      <th>Questions</th>\n",
       "      <th>Label</th>\n",
       "    </tr>\n",
       "  </thead>\n",
       "  <tbody>\n",
       "    <tr>\n",
       "      <th>11</th>\n",
       "      <td>fee voucher issue</td>\n",
       "      <td>0</td>\n",
       "    </tr>\n",
       "    <tr>\n",
       "      <th>773</th>\n",
       "      <td>unable to run</td>\n",
       "      <td>7</td>\n",
       "    </tr>\n",
       "    <tr>\n",
       "      <th>333</th>\n",
       "      <td>How many Assignments are there any how much to...</td>\n",
       "      <td>1</td>\n",
       "    </tr>\n",
       "    <tr>\n",
       "      <th>233</th>\n",
       "      <td>can't create file to run in visualstudio [closed]</td>\n",
       "      <td>7</td>\n",
       "    </tr>\n",
       "    <tr>\n",
       "      <th>137</th>\n",
       "      <td>Is consensus sought for validity of trx?</td>\n",
       "      <td>4</td>\n",
       "    </tr>\n",
       "  </tbody>\n",
       "</table>\n",
       "</div>"
      ],
      "text/plain": [
       "                                             Questions  Label\n",
       "11                                   fee voucher issue      0\n",
       "773                                      unable to run      7\n",
       "333  How many Assignments are there any how much to...      1\n",
       "233  can't create file to run in visualstudio [closed]      7\n",
       "137           Is consensus sought for validity of trx?      4"
      ]
     },
     "execution_count": 257,
     "metadata": {},
     "output_type": "execute_result"
    }
   ],
   "source": [
    "df = pd.DataFrame(data=data)\n",
    "\n",
    "df = shuffle(df)\n",
    "\n",
    "df.to_csv(\"Ask_PIAIC.csv\")\n",
    "\n",
    "df.head()"
   ]
  },
  {
   "cell_type": "markdown",
   "metadata": {},
   "source": [
    "# Preparing Data for Test and Train"
   ]
  },
  {
   "cell_type": "code",
   "execution_count": 258,
   "metadata": {},
   "outputs": [],
   "source": [
    "x = df.iloc[0:750,0]  #200\n",
    "y = df.iloc[0:750,1]\n",
    "x_test = df.iloc[len(x):,0]\n",
    "y_test = df.iloc[len(y):,1]"
   ]
  },
  {
   "cell_type": "code",
   "execution_count": 259,
   "metadata": {},
   "outputs": [],
   "source": [
    "y_test.iloc[0] = 9     # because the web(category) Qs were too less\n",
    "                       # thats why they didn't come in test data\n",
    "                       # which was affecting the shape of y_test to 9 elements"
   ]
  },
  {
   "cell_type": "code",
   "execution_count": 260,
   "metadata": {},
   "outputs": [],
   "source": [
    "from tensorflow.keras.preprocessing.text import Tokenizer\n",
    "from tensorflow.keras.preprocessing.sequence import pad_sequences"
   ]
  },
  {
   "cell_type": "markdown",
   "metadata": {},
   "source": [
    "## Tokenizing  and One Hot Encoding Questions"
   ]
  },
  {
   "cell_type": "code",
   "execution_count": 261,
   "metadata": {},
   "outputs": [
    {
     "name": "stdout",
     "output_type": "stream",
     "text": [
      "Found 628 unique tokens.\n"
     ]
    }
   ],
   "source": [
    "tokenizer = Tokenizer()\n",
    "tokenizer.fit_on_texts(x)\n",
    "\n",
    "sequences = tokenizer.texts_to_sequences(x)\n",
    "word_index = tokenizer.word_index\n",
    "print('Found %s unique tokens.' % len(word_index))\n"
   ]
  },
  {
   "cell_type": "code",
   "execution_count": 262,
   "metadata": {},
   "outputs": [],
   "source": [
    "data = pad_sequences(sequences,maxlen = 30)"
   ]
  },
  {
   "cell_type": "code",
   "execution_count": 263,
   "metadata": {},
   "outputs": [
    {
     "data": {
      "text/plain": [
       "(750, 30)"
      ]
     },
     "execution_count": 263,
     "metadata": {},
     "output_type": "execute_result"
    }
   ],
   "source": [
    "data.shape"
   ]
  },
  {
   "cell_type": "markdown",
   "metadata": {},
   "source": [
    "## Encoding Labels"
   ]
  },
  {
   "cell_type": "code",
   "execution_count": 264,
   "metadata": {},
   "outputs": [
    {
     "data": {
      "text/plain": [
       "(750,)"
      ]
     },
     "execution_count": 264,
     "metadata": {},
     "output_type": "execute_result"
    }
   ],
   "source": [
    "label,label_test = np.asarray(y),np.asarray(y_test)\n",
    "label.shape"
   ]
  },
  {
   "cell_type": "code",
   "execution_count": 265,
   "metadata": {},
   "outputs": [
    {
     "name": "stdout",
     "output_type": "stream",
     "text": [
      "[0 7 1 7 4 2 7 1 1 2 7 1 4 0 7 4 2 4 4 5 7 1 0 7 1 1 4 4 1 1 7 1 6 7 4 0 2\n",
      " 5 7 2 2 4 2 2 7 7 2 7 4 0 4 2 1 1 0 4 5 1 5 4 7 0 0 7 4 2 5 4 1 7 7 5 4 7\n",
      " 0 7 1 5 1 2 7 1 5 2 1 5 7 5 0 7 4 4 2 5 2 4 4 0 7 0 7 1 1 5 1 5 7 4 5 0 7\n",
      " 7 6 5 1 1 5 4 4 4 2 0 1 1 4 5 2 4 2 4 0 4 2 9 2 2 7 0 6 2 7 4 5 1 4 5 5 4\n",
      " 5 1 0 1 7 1 1 7 2 4 4 1 1 6 1 1 2 7 4 4 0 4 1 7 7 7 2 1 0 1 7 1 4 4 4 0 6\n",
      " 1 4 0 1 1 2 1 2 2 1 7 1 2 2 7 0 4 4 1 1 5 2 5 7 7 2 1 2 2 0 7 2 5 4 4 1 7\n",
      " 2 4 4 7 0 4 2 7 4 1 2 4 2 4 7 1 7 2 4 5 1 5 6 2 2 7 1 7 2 1 4 7 4 0 4 7 1\n",
      " 4 1 7 4 7 1 5 7 7 2 4 2 4 1 4 4 1 0 1 1 7 5 4 6 1 5 1 2 5 0 7 5 0 7 0 5 5\n",
      " 2 2 6 7 7 4 4 0 2 0 0 1 6 7 7 7 7 7 4 1 5 4 1 4 1 7 1 2 2 6 4 2 2 5 6 4 4\n",
      " 2 1 5 2 2 2 4 6 2 1 0 2 7 2 4 1 5 4 2 4 8 0 6 5 0 1 1 4 0 4 2 4 1 2 6 2 7\n",
      " 5 7 2 7 5 1 4 7 0 1 2 7 4 1 2 1 7 7 2 5 4 2 1 1 0 6 4 4 2 4 2 7 7 5 5 2 1\n",
      " 5 2 5 7 4 1 6 1 2 7 0 1 4 4 1 6 1 4 4 2 0 2 7 2 2 1 5 2 7 2 1 1 0 2 0 7 7\n",
      " 7 2 2 1 7 2 7 2 1 1 7 2 2 4 4 1 4 2 1 1 4 5 7 1 6 2 7 1 2 7 2 7 7 5 2 7 1\n",
      " 1 4 4 0 1 4 7 5 4 1 2 2 5 1 2 4 4 0 1 7 0 5 0 0 7 4 6 2 1 2 2 2 1 4 1 4 5\n",
      " 2 1 2 2 1 0 1 4 4 1 2 7 7 9 4 4 2 5 7 7 5 7 7 4 4 1 6 7 7 2 2 7 4 7 4 2 5\n",
      " 7 2 6 5 5 4 5 4 4 8 2 5 7 2 6 7 1 7 5 4 2 1 4 7 2 4 7 2 7 2 1 1 2 7 0 2 6\n",
      " 1 9 7 2 1 0 2 4 1 0 7 1 2 4 4 6 4 4 7 6 4 7 0 5 1 4 1 2 7 9 7 5 6 9 7 1 7\n",
      " 0 7 4 2 0 4 0 1 2 2 0 6 7 0 1 2 2 5 7 4 1 9 1 4 4 2 0 4 7 2 5 4 4 7 7 4 7\n",
      " 0 2 4 7 2 4 2 2 4 4 1 6 0 0 1 1 7 2 2 2 4 7 5 4 0 7 2 5 7 1 1 0 0 6 0 2 1\n",
      " 7 7 2 4 7 7 1 7 1 5 4 2 0 7 7 0 9 7 0 1 1 1 4 0 4 2 5 1 4 9 4 9 0 7 1 4 4\n",
      " 7 4 1 4 1 2 6 2 2 7] [9 7 2 1 1 2 2 2 7 2 0 7 2 1 6 7 0 5 1 7 6 0 0 2 1 1 6 4 1 7 2 0 1 8 4 4 4\n",
      " 1 1]\n"
     ]
    }
   ],
   "source": [
    "print(label,label_test)"
   ]
  },
  {
   "cell_type": "code",
   "execution_count": 266,
   "metadata": {},
   "outputs": [],
   "source": [
    "from tensorflow.keras.utils import to_categorical\n",
    "encoded = to_categorical(label)\n",
    "y_test = to_categorical(label_test)"
   ]
  },
  {
   "cell_type": "code",
   "execution_count": 267,
   "metadata": {},
   "outputs": [
    {
     "data": {
      "text/plain": [
       "((750, 10), (39, 10))"
      ]
     },
     "execution_count": 267,
     "metadata": {},
     "output_type": "execute_result"
    }
   ],
   "source": [
    "encoded.shape,y_test.shape"
   ]
  },
  {
   "cell_type": "markdown",
   "metadata": {},
   "source": [
    "## Training Data"
   ]
  },
  {
   "cell_type": "code",
   "execution_count": 268,
   "metadata": {},
   "outputs": [],
   "source": [
    "input_train, y_train = data,encoded"
   ]
  },
  {
   "cell_type": "code",
   "execution_count": 269,
   "metadata": {},
   "outputs": [
    {
     "data": {
      "text/plain": [
       "((750, 30), (750, 10))"
      ]
     },
     "execution_count": 269,
     "metadata": {},
     "output_type": "execute_result"
    }
   ],
   "source": [
    "input_train.shape,y_train.shape"
   ]
  },
  {
   "cell_type": "markdown",
   "metadata": {},
   "source": [
    "# Training Model"
   ]
  },
  {
   "cell_type": "code",
   "execution_count": 270,
   "metadata": {},
   "outputs": [
    {
     "name": "stdout",
     "output_type": "stream",
     "text": [
      "Train on 600 samples, validate on 150 samples\n",
      "Epoch 1/40\n",
      "600/600 [==============================] - 7s 12ms/sample - loss: 2.2819 - acc: 0.1883 - val_loss: 2.2545 - val_acc: 0.1600\n",
      "Epoch 2/40\n",
      "600/600 [==============================] - 0s 721us/sample - loss: 2.1712 - acc: 0.1933 - val_loss: 2.1111 - val_acc: 0.1600\n",
      "Epoch 3/40\n",
      "600/600 [==============================] - 0s 720us/sample - loss: 1.9964 - acc: 0.1933 - val_loss: 2.0283 - val_acc: 0.1600\n",
      "Epoch 4/40\n",
      "600/600 [==============================] - 0s 730us/sample - loss: 1.9151 - acc: 0.1933 - val_loss: 2.0051 - val_acc: 0.1600\n",
      "Epoch 5/40\n",
      "600/600 [==============================] - 0s 756us/sample - loss: 1.8876 - acc: 0.1933 - val_loss: 1.9942 - val_acc: 0.1600\n",
      "Epoch 6/40\n",
      "600/600 [==============================] - 0s 730us/sample - loss: 1.8757 - acc: 0.1933 - val_loss: 1.9975 - val_acc: 0.1600\n",
      "Epoch 7/40\n",
      "600/600 [==============================] - 0s 735us/sample - loss: 1.8699 - acc: 0.1933 - val_loss: 1.9899 - val_acc: 0.1600\n",
      "Epoch 8/40\n",
      "600/600 [==============================] - 0s 756us/sample - loss: 1.8611 - acc: 0.1933 - val_loss: 1.9892 - val_acc: 0.1600\n",
      "Epoch 9/40\n",
      "600/600 [==============================] - 0s 761us/sample - loss: 1.8476 - acc: 0.1933 - val_loss: 1.9699 - val_acc: 0.1600\n",
      "Epoch 10/40\n",
      "600/600 [==============================] - 0s 773us/sample - loss: 1.8250 - acc: 0.1933 - val_loss: 1.9389 - val_acc: 0.1600\n",
      "Epoch 11/40\n",
      "600/600 [==============================] - 0s 763us/sample - loss: 1.7913 - acc: 0.1933 - val_loss: 1.8885 - val_acc: 0.1600\n",
      "Epoch 12/40\n",
      "600/600 [==============================] - 0s 783us/sample - loss: 1.7403 - acc: 0.1933 - val_loss: 1.8546 - val_acc: 0.1600\n",
      "Epoch 13/40\n",
      "600/600 [==============================] - 0s 773us/sample - loss: 1.6827 - acc: 0.1933 - val_loss: 1.7692 - val_acc: 0.1600\n",
      "Epoch 14/40\n",
      "600/600 [==============================] - 0s 795us/sample - loss: 1.6155 - acc: 0.2033 - val_loss: 1.6979 - val_acc: 0.1733\n",
      "Epoch 15/40\n",
      "600/600 [==============================] - 0s 826us/sample - loss: 1.5409 - acc: 0.2233 - val_loss: 1.6255 - val_acc: 0.2200\n",
      "Epoch 16/40\n",
      "600/600 [==============================] - 1s 952us/sample - loss: 1.4570 - acc: 0.2850 - val_loss: 1.5072 - val_acc: 0.3133\n",
      "Epoch 17/40\n",
      "600/600 [==============================] - 1s 886us/sample - loss: 1.3407 - acc: 0.4050 - val_loss: 1.3828 - val_acc: 0.4867\n",
      "Epoch 18/40\n",
      "600/600 [==============================] - 1s 982us/sample - loss: 1.1940 - acc: 0.6267 - val_loss: 1.2204 - val_acc: 0.6333\n",
      "Epoch 19/40\n",
      "600/600 [==============================] - 1s 1ms/sample - loss: 0.9908 - acc: 0.7317 - val_loss: 1.0703 - val_acc: 0.6867\n",
      "Epoch 20/40\n",
      "600/600 [==============================] - 1s 1ms/sample - loss: 0.7735 - acc: 0.8333 - val_loss: 0.8599 - val_acc: 0.7733\n",
      "Epoch 21/40\n",
      "600/600 [==============================] - 1s 891us/sample - loss: 0.5708 - acc: 0.9117 - val_loss: 0.6949 - val_acc: 0.8000\n",
      "Epoch 22/40\n",
      "600/600 [==============================] - 1s 878us/sample - loss: 0.4325 - acc: 0.9317 - val_loss: 0.5990 - val_acc: 0.8467\n",
      "Epoch 23/40\n",
      "600/600 [==============================] - 1s 951us/sample - loss: 0.3342 - acc: 0.9467 - val_loss: 0.4646 - val_acc: 0.9000\n",
      "Epoch 24/40\n",
      "600/600 [==============================] - 1s 921us/sample - loss: 0.2731 - acc: 0.9733 - val_loss: 0.4290 - val_acc: 0.9000\n",
      "Epoch 25/40\n",
      "600/600 [==============================] - 1s 924us/sample - loss: 0.2269 - acc: 0.9783 - val_loss: 0.3597 - val_acc: 0.9333\n",
      "Epoch 26/40\n",
      "600/600 [==============================] - 0s 823us/sample - loss: 0.1909 - acc: 0.9867 - val_loss: 0.3239 - val_acc: 0.9333\n",
      "Epoch 27/40\n",
      "600/600 [==============================] - 1s 1ms/sample - loss: 0.1635 - acc: 0.9867 - val_loss: 0.2999 - val_acc: 0.9333\n",
      "Epoch 28/40\n",
      "600/600 [==============================] - 1s 929us/sample - loss: 0.1366 - acc: 0.9883 - val_loss: 0.2727 - val_acc: 0.9400\n",
      "Epoch 29/40\n",
      "600/600 [==============================] - 1s 982us/sample - loss: 0.1161 - acc: 0.9900 - val_loss: 0.2440 - val_acc: 0.9400\n",
      "Epoch 30/40\n",
      "600/600 [==============================] - 1s 1ms/sample - loss: 0.1003 - acc: 0.9917 - val_loss: 0.2283 - val_acc: 0.9533\n",
      "Epoch 31/40\n",
      "600/600 [==============================] - 1s 986us/sample - loss: 0.0868 - acc: 0.9917 - val_loss: 0.2222 - val_acc: 0.9400\n",
      "Epoch 32/40\n",
      "600/600 [==============================] - 1s 883us/sample - loss: 0.0769 - acc: 0.9917 - val_loss: 0.1964 - val_acc: 0.9533\n",
      "Epoch 33/40\n",
      "600/600 [==============================] - 1s 866us/sample - loss: 0.0688 - acc: 0.9917 - val_loss: 0.1969 - val_acc: 0.9400\n",
      "Epoch 34/40\n",
      "600/600 [==============================] - 0s 829us/sample - loss: 0.0634 - acc: 0.9917 - val_loss: 0.1870 - val_acc: 0.9400\n",
      "Epoch 35/40\n",
      "600/600 [==============================] - 1s 891us/sample - loss: 0.0559 - acc: 0.9917 - val_loss: 0.1689 - val_acc: 0.9533\n",
      "Epoch 36/40\n",
      "600/600 [==============================] - 1s 911us/sample - loss: 0.0507 - acc: 0.9917 - val_loss: 0.1631 - val_acc: 0.9400\n",
      "Epoch 37/40\n",
      "600/600 [==============================] - 1s 913us/sample - loss: 0.0470 - acc: 0.9917 - val_loss: 0.1461 - val_acc: 0.9533\n",
      "Epoch 38/40\n",
      "600/600 [==============================] - 0s 760us/sample - loss: 0.0441 - acc: 0.9917 - val_loss: 0.1474 - val_acc: 0.9533\n",
      "Epoch 39/40\n",
      "600/600 [==============================] - 1s 854us/sample - loss: 0.0426 - acc: 0.9917 - val_loss: 0.1405 - val_acc: 0.9533\n",
      "Epoch 40/40\n",
      "600/600 [==============================] - 1s 992us/sample - loss: 0.0408 - acc: 0.9917 - val_loss: 0.1297 - val_acc: 0.9533\n"
     ]
    }
   ],
   "source": [
    "from tensorflow.keras.layers import Dense\n",
    "from tensorflow.keras.models import Sequential\n",
    "from tensorflow.keras.layers import Embedding\n",
    "from tensorflow.keras.layers import LSTM\n",
    "\n",
    "\n",
    "max_features = 10000\n",
    "\n",
    "model = Sequential()\n",
    "model.add(Embedding(max_features, 32))\n",
    "model.add(LSTM(16))\n",
    "model.add(Dense(18))\n",
    "model.add(Dense(10, activation='sigmoid'))\n",
    "\n",
    "model.compile(optimizer='adam', loss='categorical_crossentropy', metrics=['acc'])\n",
    "\n",
    "history = model.fit(input_train, y_train,epochs=40,validation_split=0.2)"
   ]
  },
  {
   "cell_type": "code",
   "execution_count": 271,
   "metadata": {},
   "outputs": [
    {
     "data": {
      "image/png": "[encoded data removed]",
      "text/plain": [
       "<Figure size 432x288 with 1 Axes>"
      ]
     },
     "metadata": {
      "needs_background": "light"
     },
     "output_type": "display_data"
    },
    {
     "data": {
      "image/png": "[encoded data removed]",
      "text/plain": [
       "<Figure size 432x288 with 1 Axes>"
      ]
     },
     "metadata": {
      "needs_background": "light"
     },
     "output_type": "display_data"
    }
   ],
   "source": [
    "import matplotlib.pyplot as plt\n",
    "acc = history.history['acc']\n",
    "val_acc = history.history['val_acc']\n",
    "loss = history.history['loss']\n",
    "val_loss = history.history['val_loss']\n",
    "epochs = range(1, len(acc) + 1)\n",
    "plt.plot(epochs, acc, 'bo', label='Training acc')\n",
    "plt.plot(epochs, val_acc, 'b', label='Validation acc')\n",
    "plt.title('Training and validation accuracy')\n",
    "plt.legend()\n",
    "plt.figure()\n",
    "plt.plot(epochs, loss, 'bo', label='Training loss')\n",
    "plt.plot(epochs, val_loss, 'b', label='Validation loss')\n",
    "plt.title('Training and validation loss')\n",
    "plt.legend()\n",
    "plt.show()"
   ]
  },
  {
   "cell_type": "code",
   "execution_count": 272,
   "metadata": {},
   "outputs": [
    {
     "data": {
      "text/plain": [
       "((39, 30), (39, 10))"
      ]
     },
     "execution_count": 272,
     "metadata": {},
     "output_type": "execute_result"
    }
   ],
   "source": [
    "sequences = tokenizer.texts_to_sequences(x_test)\n",
    "data = pad_sequences(sequences,maxlen = 30)\n",
    "# y_test = y_test.reshape((len(y_test,)))\n",
    "data.shape,y_test.shape"
   ]
  },
  {
   "cell_type": "code",
   "execution_count": 273,
   "metadata": {},
   "outputs": [
    {
     "name": "stdout",
     "output_type": "stream",
     "text": [
      "39/1 - 0s - loss: 0.2947 - acc: 0.8974\n"
     ]
    }
   ],
   "source": [
    "test_loss,test_acc = model.evaluate(data,y_test,verbose=2)"
   ]
  },
  {
   "cell_type": "markdown",
   "metadata": {},
   "source": [
    "## Training Accuracy: 99%\n",
    "## Validation Accuracy : 95%\n",
    "## Test Accuract : 89%"
   ]
  },
  {
   "cell_type": "markdown",
   "metadata": {},
   "source": [
    "# Saving model"
   ]
  },
  {
   "cell_type": "code",
   "execution_count": 274,
   "metadata": {},
   "outputs": [],
   "source": [
    "model.save(\"Ask_PIAIC.h5\")"
   ]
  },
  {
   "cell_type": "markdown",
   "metadata": {},
   "source": [
    "# Scrapping Data for Prediction"
   ]
  },
  {
   "cell_type": "code",
   "execution_count": 275,
   "metadata": {},
   "outputs": [],
   "source": [
    "web = r.get(\"https://ask.piaic.org/\")"
   ]
  },
  {
   "cell_type": "code",
   "execution_count": 276,
   "metadata": {},
   "outputs": [],
   "source": [
    "soup = bs(web.text,\"html.parser\")"
   ]
  },
  {
   "cell_type": "markdown",
   "metadata": {},
   "source": [
    "## Scrapping Questions"
   ]
  },
  {
   "cell_type": "code",
   "execution_count": 277,
   "metadata": {},
   "outputs": [],
   "source": [
    "questions = []\n",
    "for i in soup.find_all(\"div\",class_='qa-q-item-title'):\n",
    "    questions.append(i.getText().replace(\"\\n\",\"\").replace(\"\\t\",\"\"))"
   ]
  },
  {
   "cell_type": "markdown",
   "metadata": {},
   "source": [
    "# One Hot Encoding Questions from Data Tokenizer and Predicting Questions"
   ]
  },
  {
   "cell_type": "code",
   "execution_count": 278,
   "metadata": {},
   "outputs": [],
   "source": [
    "def check(li):\n",
    "    \n",
    "    sequences = tokenizer.texts_to_sequences(li)\n",
    "    data = pad_sequences(sequences,maxlen = 30)\n",
    "    prediction = model.predict(data)\n",
    "\n",
    "    a,d=0,0\n",
    "    for i in prediction[0]:\n",
    "        if float(i)>a or float(i)==a:\n",
    "            a=i\n",
    "            d=0\n",
    "        elif float(i)<a:\n",
    "            d=d+1\n",
    "    index = len(prediction[0])-d-1\n",
    "    \n",
    "    print(f'{li} : {names[index]}') "
   ]
  },
  {
   "cell_type": "code",
   "execution_count": 279,
   "metadata": {},
   "outputs": [
    {
     "name": "stdout",
     "output_type": "stream",
     "text": [
      "Integrate Blockchain Application : AI\n",
      "Ubuntu Installation Problems : iot\n",
      "why do we need CBBF certoificate? : general\n",
      "B3 Q2 rust quiz but lecture not upload : blockchain\n",
      "Watch videos on portal not on youtube? : general\n",
      "Can i deposit fee before certification? : iot\n",
      "How can I withdraw or freeze a course? : iot\n",
      "Voucher Generation mail : iot\n",
      "Git classes : iot\n",
      "necessary install node.js : iot\n",
      "Diff btw a Smrt contract and OOP class? : iot\n",
      "Passing Markes : iot\n",
      "Announcement section : general\n",
      "Flexibility in viewing video lectures : iot\n",
      "Build aiinyourcompany,aiandsocietycover? : blockchain\n",
      "Explain Scarcity? : iot\n",
      "blockchain business foundation exam? : blockchain\n",
      "Difference b/w slack, telegm & fb groups : iot\n",
      "mobile web : iot\n",
      "what is scope of blockchain in pakistan? : general\n",
      "I have a few questions : AI\n",
      "less than 50% in Q2 : iot\n",
      "how to install global surge in ubuntu : iot\n",
      "docker documentation : iot\n",
      "struct Vs enum : iot\n",
      "Haven't received key for AIC Quiz 2 : iot\n",
      "Install only linux : AI\n",
      "github desktop : iot\n",
      "final exam : iot\n",
      "Quiz not available to attempt : iot\n",
      "Iot quiz 2 unavailable : AI\n",
      "if quiz not attempt on time : AI\n",
      "What does --release flag do : general\n",
      "constant & immutable variable : iot\n",
      "#[derive(Debug)] : iot\n",
      "Panic VS Compile Time Error : iot\n",
      "Block Mining : blockchain\n",
      "How to write println. : iot\n",
      "use of iter() : iot\n",
      "Public keys : iot\n",
      "Private key : iot\n",
      "Quiz 2 key : iot\n",
      "stuck in linux installation : iot\n",
      "RUST - PARTIAL MOVE error : iot\n",
      "I am facing this error ??? : AI\n",
      "From where we can get Our Assignment : iot\n",
      "Rust variables : iot\n",
      "Giving error in creating Cargo new : iot\n",
      "difference between function & method? : iot\n",
      "how to get user input as bool. : iot\n"
     ]
    }
   ],
   "source": [
    "for i in questions:\n",
    "    check(i)"
   ]
  },
  {
   "cell_type": "code",
   "execution_count": null,
   "metadata": {},
   "outputs": [],
   "source": []
  }
 ],
 "metadata": {
  "kernelspec": {
   "display_name": "Python 3",
   "language": "python",
   "name": "python3"
  },
  "language_info": {
   "codemirror_mode": {
    "name": "ipython",
    "version": 3
   },
   "file_extension": ".py",
   "mimetype": "text/x-python",
   "name": "python",
   "nbconvert_exporter": "python",
   "pygments_lexer": "ipython3",
   "version": "3.7.3"
  }
 },
 "nbformat": 4,
 "nbformat_minor": 2
}
