{
 "cells": [
  {
   "cell_type": "markdown",
   "metadata": {},
   "source": [
    "## 5) Try to implement word-embedding using code given in listing (6.7) and shared with me the embedding array as well as the word dictionary."
   ]
  },
  {
   "cell_type": "markdown",
   "metadata": {},
   "source": [
    "# Importing Dataset"
   ]
  },
  {
   "cell_type": "code",
   "execution_count": 2,
   "metadata": {},
   "outputs": [],
   "source": [
    "from tensorflow.keras.datasets import imdb\n",
    "from tensorflow.keras import preprocessing\n",
    "max_features = 10000\n",
    "maxlen = 20\n",
    "(x_train, y_train), (x_test, y_test) = imdb.load_data(num_words=max_features)\n",
    "x_train = preprocessing.sequence.pad_sequences(x_train, maxlen=maxlen)\n",
    "x_test = preprocessing.sequence.pad_sequences(x_test, maxlen=maxlen)"
   ]
  },
  {
   "cell_type": "markdown",
   "metadata": {},
   "source": [
    "# Word Dictionary "
   ]
  },
  {
   "cell_type": "code",
   "execution_count": 16,
   "metadata": {},
   "outputs": [
    {
     "name": "stdout",
     "output_type": "stream",
     "text": [
      "Some random Words: {'fawn': 34701, 'tsukino': 52006, 'nunnery': 52007, 'sonja': 16816, 'vani': 63951, 'woods': 1408, 'spiders': 16115, 'hanging': 2345, 'woody': 2289, 'trawling': 52008, \"hold's\": 52009, 'comically': 11307, 'localized': 40830, 'disobeying': 30568, \"'royale\": 52010, \"harpo's\": 40831, 'canet': 52011, 'aileen': 19313, 'acurately': 52012, \"diplomat's\": 52013, 'rickman': 25242, 'arranged': 6746, 'rumbustious': 52014, 'familiarness': 52015, \"spider'\": 52016, 'hahahah': 68804, \"wood'\": 52017, 'transvestism': 40833, \"hangin'\": 34702, 'bringing': 2338, 'seamier': 40834, 'wooded': 34703, 'bravora': 52018, 'grueling': 16817, 'wooden': 1636, 'wednesday': 16818, \"'prix\": 52019, 'altagracia': 34704, 'circuitry': 52020, 'crotch': 11585, 'busybody': 57766, \"tart'n'tangy\": 52021, 'burgade': 14129, 'thrace': 52023, \"tom's\": 11038, 'snuggles': 52025, 'francesco': 29114, 'complainers': 52027, 'templarios': 52125, '272': 40835, '273': 52028, 'zaniacs': 52130, '275': 34706, 'consenting': 27631, 'snuggled': 40836, 'inanimate': 15492, 'uality': 52030, 'bronte': 11926, 'errors': 4010, 'dialogs': 3230, \"yomada's\": 52031, \"madman's\": 34707, 'dialoge': 30585, 'usenet': 52033, 'videodrome': 40837, \"kid'\": 26338, 'pawed': 52034, \"'girlfriend'\": 30569, \"'pleasure\": 52035, \"'reloaded'\": 52036, \"kazakos'\": 40839, 'rocque': 52037, 'mailings': 52038, 'brainwashed': 11927, 'mcanally': 16819, \"tom''\": 52039, 'kurupt': 25243, 'affiliated': 21905, 'babaganoosh': 52040, \"noe's\": 40840, 'quart': 40841, 'kids': 359, 'uplifting': 5034, 'controversy': 7093, 'kida': 21906, 'kidd': 23379, \"error'\": 52041, 'neurologist': 52042, 'spotty': 18510, 'cobblers': 30570, 'projection': 9878, 'fastforwarding': 40842, 'sters': 52043, \"eggar's\": 52044, 'etherything': 52045, 'gateshead': 40843, 'airball': 34708, 'unsinkable': 25244, 'stern': 7180, \"cervi's\": 52046, 'dnd': 40844, 'dna': 11586, 'insecurity': 20598, \"'reboot'\": 52047, 'trelkovsky': 11037, 'jaekel': 52048, 'sidebars': 52049, \"sforza's\": 52050, 'distortions': 17633, 'mutinies': 52051, 'sermons': 30602, '7ft': 40846, 'boobage': 52052, \"o'bannon's\": 52053, 'populations': 23380, 'chulak': 52054, 'mesmerize': 27633, 'quinnell': 52055, 'yahoo': 10307, 'meteorologist': 52057, 'beswick': 42577, 'boorman': 15493, 'voicework': 40847, \"ster'\": 52058, 'blustering': 22922, 'hj': 52059, 'intake': 27634, 'morally': 5621, 'jumbling': 40849, 'bowersock': 52060, \"'porky's'\": 52061}"
     ]
    }
   ],
   "source": [
    "import itertools\n",
    "import random\n",
    "\n",
    "word_index = imdb.get_word_index()\n",
    "\n",
    "for i in range(10):\n",
    "    word_index_sliced = dict(itertools.islice(word_index.items(), random.randint(1,1000)))\n",
    "    \n",
    "print(\"Some random Words:\",word_index_sliced,end='')"
   ]
  },
  {
   "cell_type": "markdown",
   "metadata": {},
   "source": [
    "# Training Model"
   ]
  },
  {
   "cell_type": "code",
   "execution_count": 17,
   "metadata": {},
   "outputs": [
    {
     "name": "stdout",
     "output_type": "stream",
     "text": [
      "Model: \"sequential\"\n",
      "_________________________________________________________________\n",
      "Layer (type)                 Output Shape              Param #   \n",
      "=================================================================\n",
      "embedding (Embedding)        (None, 20, 8)             80000     \n",
      "_________________________________________________________________\n",
      "flatten (Flatten)            (None, 160)               0         \n",
      "_________________________________________________________________\n",
      "dense (Dense)                (None, 1)                 161       \n",
      "=================================================================\n",
      "Total params: 80,161\n",
      "Trainable params: 80,161\n",
      "Non-trainable params: 0\n",
      "_________________________________________________________________\n",
      "Train on 20000 samples, validate on 5000 samples\n",
      "Epoch 1/10\n",
      "20000/20000 [==============================] - 5s 269us/sample - loss: 0.6725 - acc: 0.6176 - val_loss: 0.6264 - val_acc: 0.6914\n",
      "Epoch 2/10\n",
      "20000/20000 [==============================] - 1s 70us/sample - loss: 0.5470 - acc: 0.7477 - val_loss: 0.5272 - val_acc: 0.7318\n",
      "Epoch 3/10\n",
      "20000/20000 [==============================] - 1s 67us/sample - loss: 0.4636 - acc: 0.7862 - val_loss: 0.5004 - val_acc: 0.7450\n",
      "Epoch 4/10\n",
      "20000/20000 [==============================] - 1s 67us/sample - loss: 0.4243 - acc: 0.8051 - val_loss: 0.4934 - val_acc: 0.7528\n",
      "Epoch 5/10\n",
      "20000/20000 [==============================] - 1s 68us/sample - loss: 0.3984 - acc: 0.8213 - val_loss: 0.4934 - val_acc: 0.7570\n",
      "Epoch 6/10\n",
      "20000/20000 [==============================] - 1s 68us/sample - loss: 0.3777 - acc: 0.8328 - val_loss: 0.4949 - val_acc: 0.7550\n",
      "Epoch 7/10\n",
      "20000/20000 [==============================] - 1s 69us/sample - loss: 0.3590 - acc: 0.8423 - val_loss: 0.4996 - val_acc: 0.7550\n",
      "Epoch 8/10\n",
      "20000/20000 [==============================] - 1s 71us/sample - loss: 0.3418 - acc: 0.8526 - val_loss: 0.5044 - val_acc: 0.7542\n",
      "Epoch 9/10\n",
      "20000/20000 [==============================] - 2s 85us/sample - loss: 0.3252 - acc: 0.8619 - val_loss: 0.5093 - val_acc: 0.7568\n",
      "Epoch 10/10\n",
      "20000/20000 [==============================] - 1s 69us/sample - loss: 0.3086 - acc: 0.8719 - val_loss: 0.5155 - val_acc: 0.7560\n"
     ]
    }
   ],
   "source": [
    "from tensorflow.keras.layers import Embedding\n",
    "from tensorflow.keras.models import Sequential\n",
    "from tensorflow.keras.layers import Flatten, Dense\n",
    "\n",
    "model1 = Sequential()\n",
    "model1.add(Embedding(10000, 8, input_length=maxlen))\n",
    "embedding_weights_after_fitting_model_1 = model1.get_weights() \n",
    "\n",
    "model1.add(Flatten())\n",
    "\n",
    "model1.add(Dense(1, activation='sigmoid'))\n",
    "\n",
    "model1.compile(optimizer='rmsprop', loss='binary_crossentropy', metrics=['acc'])\n",
    "whole_model_1_weights = model1.get_weights() \n",
    "\n",
    "model1.summary()\n",
    "\n",
    "history = model1.fit(x_train, y_train,epochs=10,batch_size=32,validation_split=0.2)"
   ]
  },
  {
   "cell_type": "markdown",
   "metadata": {},
   "source": [
    "## Plotting Results"
   ]
  },
  {
   "cell_type": "code",
   "execution_count": 24,
   "metadata": {},
   "outputs": [
    {
     "data": {
      "image/png": "[encoded data removed]",
      "text/plain": [
       "<Figure size 432x288 with 1 Axes>"
      ]
     },
     "metadata": {
      "needs_background": "light"
     },
     "output_type": "display_data"
    },
    {
     "data": {
      "image/png": "[encoded data removed]",
      "text/plain": [
       "<Figure size 432x288 with 1 Axes>"
      ]
     },
     "metadata": {
      "needs_background": "light"
     },
     "output_type": "display_data"
    }
   ],
   "source": [
    "import matplotlib.pyplot as plt\n",
    "\n",
    "acc = history.history['acc']\n",
    "val_acc = history.history['val_acc']\n",
    "loss = history.history['loss']\n",
    "val_loss = history.history['val_loss']\n",
    "epochs = range(1, len(acc) + 1)\n",
    "\n",
    "plt.plot(epochs, acc, 'bo', label='Training acc')\n",
    "plt.plot(epochs, val_acc, 'b', label='Validation acc')\n",
    "plt.title('Training and validation accuracy')\n",
    "plt.legend()\n",
    "plt.figure()\n",
    "\n",
    "plt.plot(epochs, loss, 'bo', label='Training loss')\n",
    "plt.plot(epochs, val_loss, 'b', label='Validation loss')\n",
    "plt.title('Training and validation loss')\n",
    "plt.legend()\n",
    "\n",
    "plt.show()"
   ]
  },
  {
   "cell_type": "markdown",
   "metadata": {},
   "source": [
    "# Shape of Embedding Weights"
   ]
  },
  {
   "cell_type": "code",
   "execution_count": 19,
   "metadata": {},
   "outputs": [],
   "source": [
    "import numpy as np"
   ]
  },
  {
   "cell_type": "code",
   "execution_count": 20,
   "metadata": {},
   "outputs": [
    {
     "name": "stdout",
     "output_type": "stream",
     "text": [
      "(10000, 8)\n",
      "(10000, 8)\n"
     ]
    }
   ],
   "source": [
    "print(np.array(whole_model_1_weights[0]).shape)\n",
    "print(np.array(embedding_weights_after_fitting_model_1[0]).shape)"
   ]
  },
  {
   "cell_type": "markdown",
   "metadata": {},
   "source": [
    "# Embedding Array After Training "
   ]
  },
  {
   "cell_type": "code",
   "execution_count": 21,
   "metadata": {},
   "outputs": [
    {
     "name": "stdout",
     "output_type": "stream",
     "text": [
      "[array([[-0.04902946, -0.02606782, -0.02664423, ...,  0.00104269,\n",
      "        -0.02064034,  0.02689988],\n",
      "       [-0.02429459,  0.02384556, -0.02075335, ..., -0.04462851,\n",
      "         0.01035639,  0.02386241],\n",
      "       [-0.00119688, -0.016831  , -0.04883105, ..., -0.03872087,\n",
      "        -0.01841348, -0.0154961 ],\n",
      "       ...,\n",
      "       [-0.0368007 , -0.00056528, -0.02004825, ...,  0.00032288,\n",
      "         0.01036693,  0.03891456],\n",
      "       [ 0.00841498,  0.03711076, -0.04661585, ...,  0.00991299,\n",
      "         0.03539034,  0.02752126],\n",
      "       [-0.01578181,  0.00880634, -0.00316219, ...,  0.04190559,\n",
      "         0.03676066, -0.02508316]], dtype=float32)]\n"
     ]
    }
   ],
   "source": [
    "print(embedding_weights_after_fitting_model_1)"
   ]
  },
  {
   "cell_type": "markdown",
   "metadata": {},
   "source": [
    "# Whole Model Weights Including Classification Weights"
   ]
  },
  {
   "cell_type": "code",
   "execution_count": 22,
   "metadata": {},
   "outputs": [
    {
     "data": {
      "text/plain": [
       "[array([[-0.04902946, -0.02606782, -0.02664423, ...,  0.00104269,\n",
       "         -0.02064034,  0.02689988],\n",
       "        [-0.02429459,  0.02384556, -0.02075335, ..., -0.04462851,\n",
       "          0.01035639,  0.02386241],\n",
       "        [-0.00119688, -0.016831  , -0.04883105, ..., -0.03872087,\n",
       "         -0.01841348, -0.0154961 ],\n",
       "        ...,\n",
       "        [-0.0368007 , -0.00056528, -0.02004825, ...,  0.00032288,\n",
       "          0.01036693,  0.03891456],\n",
       "        [ 0.00841498,  0.03711076, -0.04661585, ...,  0.00991299,\n",
       "          0.03539034,  0.02752126],\n",
       "        [-0.01578181,  0.00880634, -0.00316219, ...,  0.04190559,\n",
       "          0.03676066, -0.02508316]], dtype=float32), array([[ 0.01377   ],\n",
       "        [ 0.08403629],\n",
       "        [ 0.18121988],\n",
       "        [ 0.1000554 ],\n",
       "        [-0.13145523],\n",
       "        [ 0.13210538],\n",
       "        [-0.15355726],\n",
       "        [ 0.1554159 ],\n",
       "        [ 0.04624858],\n",
       "        [-0.18179138],\n",
       "        [ 0.06474945],\n",
       "        [-0.07624899],\n",
       "        [ 0.04074094],\n",
       "        [-0.17549908],\n",
       "        [-0.13058153],\n",
       "        [ 0.18625769],\n",
       "        [-0.01597317],\n",
       "        [-0.15609936],\n",
       "        [-0.16562724],\n",
       "        [-0.04866655],\n",
       "        [-0.10466122],\n",
       "        [-0.14430167],\n",
       "        [-0.16978757],\n",
       "        [ 0.1392864 ],\n",
       "        [-0.17106089],\n",
       "        [-0.02459171],\n",
       "        [ 0.01673983],\n",
       "        [-0.00641574],\n",
       "        [ 0.11847848],\n",
       "        [-0.11978737],\n",
       "        [ 0.0629648 ],\n",
       "        [ 0.1249069 ],\n",
       "        [-0.024202  ],\n",
       "        [-0.10325932],\n",
       "        [ 0.0559027 ],\n",
       "        [-0.01394024],\n",
       "        [-0.10787342],\n",
       "        [ 0.09418923],\n",
       "        [ 0.01476918],\n",
       "        [-0.00693436],\n",
       "        [-0.16557914],\n",
       "        [ 0.01112977],\n",
       "        [ 0.12843281],\n",
       "        [-0.04665761],\n",
       "        [ 0.05994457],\n",
       "        [-0.1332375 ],\n",
       "        [-0.11237521],\n",
       "        [-0.1507999 ],\n",
       "        [-0.01518631],\n",
       "        [ 0.12642753],\n",
       "        [-0.05344115],\n",
       "        [ 0.02118957],\n",
       "        [-0.11937553],\n",
       "        [-0.16296354],\n",
       "        [-0.14399165],\n",
       "        [ 0.0317286 ],\n",
       "        [ 0.06486014],\n",
       "        [ 0.01682639],\n",
       "        [ 0.02566996],\n",
       "        [-0.11629557],\n",
       "        [ 0.11972958],\n",
       "        [-0.04214813],\n",
       "        [ 0.13711384],\n",
       "        [ 0.11185336],\n",
       "        [ 0.08328244],\n",
       "        [ 0.00326894],\n",
       "        [ 0.16674748],\n",
       "        [ 0.10618496],\n",
       "        [ 0.08091152],\n",
       "        [ 0.09217808],\n",
       "        [-0.1871233 ],\n",
       "        [-0.09443223],\n",
       "        [ 0.16098344],\n",
       "        [-0.12270896],\n",
       "        [-0.06907243],\n",
       "        [-0.00244784],\n",
       "        [-0.14814962],\n",
       "        [-0.11039877],\n",
       "        [-0.05036105],\n",
       "        [ 0.11743996],\n",
       "        [ 0.04376741],\n",
       "        [ 0.11141944],\n",
       "        [ 0.11052883],\n",
       "        [-0.1728605 ],\n",
       "        [ 0.16516271],\n",
       "        [ 0.10751736],\n",
       "        [-0.00671114],\n",
       "        [ 0.15060577],\n",
       "        [ 0.09861165],\n",
       "        [ 0.13594705],\n",
       "        [-0.08239566],\n",
       "        [-0.07453668],\n",
       "        [-0.1011696 ],\n",
       "        [ 0.15330705],\n",
       "        [-0.11244895],\n",
       "        [-0.17729133],\n",
       "        [-0.15091993],\n",
       "        [ 0.10567153],\n",
       "        [ 0.06542778],\n",
       "        [ 0.07764626],\n",
       "        [ 0.00532125],\n",
       "        [-0.12365516],\n",
       "        [ 0.01568955],\n",
       "        [-0.18944977],\n",
       "        [-0.09860039],\n",
       "        [-0.04998663],\n",
       "        [ 0.029459  ],\n",
       "        [ 0.17465672],\n",
       "        [ 0.07613769],\n",
       "        [-0.03711542],\n",
       "        [ 0.11018509],\n",
       "        [-0.1124854 ],\n",
       "        [ 0.04510774],\n",
       "        [-0.1584332 ],\n",
       "        [-0.1674443 ],\n",
       "        [-0.10449921],\n",
       "        [ 0.15560368],\n",
       "        [ 0.04232053],\n",
       "        [-0.04332152],\n",
       "        [-0.04390702],\n",
       "        [ 0.09291783],\n",
       "        [-0.14313138],\n",
       "        [-0.1167006 ],\n",
       "        [ 0.00271396],\n",
       "        [-0.04184909],\n",
       "        [-0.09832704],\n",
       "        [-0.1290784 ],\n",
       "        [ 0.07379064],\n",
       "        [ 0.05297555],\n",
       "        [ 0.06135425],\n",
       "        [-0.06317762],\n",
       "        [-0.0059946 ],\n",
       "        [-0.02932028],\n",
       "        [-0.1692203 ],\n",
       "        [ 0.0110779 ],\n",
       "        [ 0.00401866],\n",
       "        [ 0.0230632 ],\n",
       "        [ 0.07305413],\n",
       "        [ 0.18643612],\n",
       "        [ 0.11245972],\n",
       "        [ 0.05896077],\n",
       "        [ 0.1042631 ],\n",
       "        [ 0.12478569],\n",
       "        [ 0.07456332],\n",
       "        [ 0.00273547],\n",
       "        [-0.1698916 ],\n",
       "        [ 0.11119023],\n",
       "        [ 0.18207482],\n",
       "        [-0.17939803],\n",
       "        [-0.17960344],\n",
       "        [ 0.10967341],\n",
       "        [-0.13709879],\n",
       "        [-0.15527223],\n",
       "        [ 0.08110315],\n",
       "        [-0.07640055],\n",
       "        [ 0.07638118],\n",
       "        [-0.07114632],\n",
       "        [ 0.13299567],\n",
       "        [ 0.04169965],\n",
       "        [ 0.18503445]], dtype=float32), array([0.], dtype=float32)]"
      ]
     },
     "execution_count": 22,
     "metadata": {},
     "output_type": "execute_result"
    }
   ],
   "source": [
    "whole_model_1_weights"
   ]
  },
  {
   "cell_type": "markdown",
   "metadata": {},
   "source": [
    "## Model Testing "
   ]
  },
  {
   "cell_type": "code",
   "execution_count": 23,
   "metadata": {},
   "outputs": [
    {
     "name": "stdout",
     "output_type": "stream",
     "text": [
      "25000/1 - 1s - loss: 0.4296 - acc: 0.7604\n"
     ]
    }
   ],
   "source": [
    "test_loss_1, test_acc_1 = model1.evaluate(x_test,y_test,verbose=2)"
   ]
  },
  {
   "cell_type": "markdown",
   "metadata": {},
   "source": [
    "## 6) From 6.8 code pre-trained word-embeddings"
   ]
  },
  {
   "cell_type": "markdown",
   "metadata": {},
   "source": [
    "## Downloading the IMDB Data as Raw Text and  Processing the labels"
   ]
  },
  {
   "cell_type": "code",
   "execution_count": 11,
   "metadata": {},
   "outputs": [],
   "source": [
    "import os\n",
    "imdb_dir = '/Users/Muzammil/Downloads/aclImdb'\n",
    "train_dir = os.path.join(imdb_dir, 'train')\n",
    "labels = []\n",
    "texts = []\n",
    "for label_type in ['neg', 'pos']:\n",
    "    dir_name = os.path.join(train_dir, label_type)\n",
    "    for fname in os.listdir(dir_name):\n",
    "        if fname[-4:] == '.txt':\n",
    "            f = open(os.path.join(dir_name, fname),encoding='utf8')\n",
    "            texts.append(f.read())\n",
    "            f.close()\n",
    "            if label_type == 'neg':\n",
    "                labels.append(0)\n",
    "            else:\n",
    "                labels.append(1)"
   ]
  },
  {
   "cell_type": "markdown",
   "metadata": {},
   "source": [
    "## Tokenizing the text of the raw IMDB data"
   ]
  },
  {
   "cell_type": "code",
   "execution_count": 12,
   "metadata": {},
   "outputs": [
    {
     "name": "stdout",
     "output_type": "stream",
     "text": [
      "Found 88582 unique tokens.\n",
      "Shape of data tensor: (25000, 100)\n",
      "Shape of label tensor: (25000,)\n"
     ]
    }
   ],
   "source": [
    "from tensorflow.keras.preprocessing.text import Tokenizer\n",
    "from tensorflow.keras.preprocessing.sequence import pad_sequences\n",
    "import numpy as np\n",
    "maxlen = 100\n",
    "training_samples = 200\n",
    "validation_samples = 10000\n",
    "max_words = 10000\n",
    "tokenizer = Tokenizer(num_words=max_words)\n",
    "tokenizer.fit_on_texts(texts)\n",
    "sequences = tokenizer.texts_to_sequences(texts)\n",
    "word_index = tokenizer.word_index\n",
    "print('Found %s unique tokens.' % len(word_index))\n",
    "data = pad_sequences(sequences, maxlen=maxlen)\n",
    "labels = np.asarray(labels)\n",
    "print('Shape of data tensor:', data.shape)\n",
    "print('Shape of label tensor:', labels.shape)\n",
    "indices = np.arange(data.shape[0])\n",
    "np.random.shuffle(indices)\n",
    "data = data[indices]\n",
    "labels = labels[indices]\n",
    "x_train = data[:training_samples]\n",
    "y_train = labels[:training_samples]\n",
    "x_val = data[training_samples: training_samples + validation_samples]\n",
    "y_val = labels[training_samples: training_samples + validation_samples]"
   ]
  },
  {
   "cell_type": "markdown",
   "metadata": {},
   "source": [
    "## Parsing the GloVe word-embeddings file"
   ]
  },
  {
   "cell_type": "code",
   "execution_count": 13,
   "metadata": {},
   "outputs": [
    {
     "name": "stdout",
     "output_type": "stream",
     "text": [
      "Found 400000 word vectors.\n"
     ]
    }
   ],
   "source": [
    "import os\n",
    "import numpy as np\n",
    "\n",
    "glove_dir = '/Users/Muzammil/Downloads/glove.6B'\n",
    "embeddings_index = {}\n",
    "f = open(os.path.join(glove_dir, 'glove.6B.100d.txt'),encoding='utf8')\n",
    "for line in f:\n",
    "    values = line.split()\n",
    "    word = values[0]\n",
    "    coefs = np.asarray(values[1:], dtype='float32')\n",
    "    embeddings_index[word] = coefs\n",
    "f.close()\n",
    "print('Found %s word vectors.' % len(embeddings_index))"
   ]
  },
  {
   "cell_type": "code",
   "execution_count": 14,
   "metadata": {},
   "outputs": [
    {
     "name": "stdout",
     "output_type": "stream",
     "text": [
      "Example text 1,\n",
      "{'the': array([-0.038194, -0.24487 ,  0.72812 , -0.39961 ,  0.083172,  0.043953,\n",
      "       -0.39141 ,  0.3344  , -0.57545 ,  0.087459,  0.28787 , -0.06731 ,\n",
      "        0.30906 , -0.26384 , -0.13231 , -0.20757 ,  0.33395 , -0.33848 ,\n",
      "       -0.31743 , -0.48336 ,  0.1464  , -0.37304 ,  0.34577 ,  0.052041,\n",
      "        0.44946 , -0.46971 ,  0.02628 , -0.54155 , -0.15518 , -0.14107 ,\n",
      "       -0.039722,  0.28277 ,  0.14393 ,  0.23464 , -0.31021 ,  0.086173,\n",
      "        0.20397 ,  0.52624 ,  0.17164 , -0.082378, -0.71787 , -0.41531 ,\n",
      "        0.20335 , -0.12763 ,  0.41367 ,  0.55187 ,  0.57908 , -0.33477 ,\n",
      "       -0.36559 , -0.54857 , -0.062892,  0.26584 ,  0.30205 ,  0.99775 ,\n",
      "       -0.80481 , -3.0243  ,  0.01254 , -0.36942 ,  2.2167  ,  0.72201 ,\n",
      "       -0.24978 ,  0.92136 ,  0.034514,  0.46745 ,  1.1079  , -0.19358 ,\n",
      "       -0.074575,  0.23353 , -0.052062, -0.22044 ,  0.057162, -0.15806 ,\n",
      "       -0.30798 , -0.41625 ,  0.37972 ,  0.15006 , -0.53212 , -0.2055  ,\n",
      "       -1.2526  ,  0.071624,  0.70565 ,  0.49744 , -0.42063 ,  0.26148 ,\n",
      "       -1.538   , -0.30223 , -0.073438, -0.28312 ,  0.37104 , -0.25217 ,\n",
      "        0.016215, -0.017099, -0.38984 ,  0.87424 , -0.72569 , -0.51058 ,\n",
      "       -0.52028 , -0.1459  ,  0.8278  ,  0.27062 ], dtype=float32)}"
     ]
    }
   ],
   "source": [
    "import itertools\n",
    "\n",
    "for i in range(2):\n",
    "    dict_1 = dict(itertools.islice(embeddings_index.items(), i))\n",
    "print(\"Example text 1,\")    \n",
    "print(dict_1,end='')"
   ]
  },
  {
   "cell_type": "markdown",
   "metadata": {},
   "source": [
    "## Preparing the GloVe word-embeddings matrix"
   ]
  },
  {
   "cell_type": "code",
   "execution_count": 22,
   "metadata": {},
   "outputs": [],
   "source": [
    "embedding_dim = 100\n",
    "embedding_matrix = np.zeros((max_words, embedding_dim))\n",
    "for word, i in word_index.items():\n",
    "    if i < max_words:\n",
    "        embedding_vector = embeddings_index.get(word)\n",
    "        if embedding_vector is not None:\n",
    "            embedding_matrix[i] = embedding_vector"
   ]
  },
  {
   "cell_type": "code",
   "execution_count": 23,
   "metadata": {},
   "outputs": [
    {
     "data": {
      "text/plain": [
       "(10000, 100)"
      ]
     },
     "execution_count": 23,
     "metadata": {},
     "output_type": "execute_result"
    }
   ],
   "source": [
    "embedding_matrix.shape"
   ]
  },
  {
   "cell_type": "markdown",
   "metadata": {},
   "source": [
    "## Model Definition"
   ]
  },
  {
   "cell_type": "code",
   "execution_count": 24,
   "metadata": {},
   "outputs": [
    {
     "name": "stdout",
     "output_type": "stream",
     "text": [
      "Model: \"sequential_2\"\n",
      "_________________________________________________________________\n",
      "Layer (type)                 Output Shape              Param #   \n",
      "=================================================================\n",
      "embedding_2 (Embedding)      (None, 100, 100)          1000000   \n",
      "_________________________________________________________________\n",
      "flatten_2 (Flatten)          (None, 10000)             0         \n",
      "_________________________________________________________________\n",
      "dense_3 (Dense)              (None, 32)                320032    \n",
      "_________________________________________________________________\n",
      "dense_4 (Dense)              (None, 1)                 33        \n",
      "=================================================================\n",
      "Total params: 1,320,065\n",
      "Trainable params: 1,320,065\n",
      "Non-trainable params: 0\n",
      "_________________________________________________________________\n"
     ]
    }
   ],
   "source": [
    "from tensorflow.keras.models import Sequential\n",
    "from tensorflow.keras.layers import Embedding, Flatten, Dense\n",
    "\n",
    "model2 = Sequential()\n",
    "model2.add(Embedding(max_words, embedding_dim, input_length=maxlen))\n",
    "model2.add(Flatten())\n",
    "\n",
    "model2.add(Dense(32, activation='relu'))\n",
    "model2.add(Dense(1, activation='sigmoid'))\n",
    "\n",
    "model2.summary()"
   ]
  },
  {
   "cell_type": "markdown",
   "metadata": {},
   "source": [
    "## Loading pretrained word embeddings into the Embedding layer"
   ]
  },
  {
   "cell_type": "code",
   "execution_count": 25,
   "metadata": {},
   "outputs": [],
   "source": [
    "model2.layers[0].set_weights([embedding_matrix])\n",
    "model2.layers[0].trainable = False"
   ]
  },
  {
   "cell_type": "markdown",
   "metadata": {},
   "source": [
    "## Compiling and Training Model"
   ]
  },
  {
   "cell_type": "code",
   "execution_count": 26,
   "metadata": {
    "scrolled": false
   },
   "outputs": [
    {
     "name": "stdout",
     "output_type": "stream",
     "text": [
      "Train on 200 samples, validate on 10000 samples\n",
      "Epoch 1/10\n",
      "200/200 [==============================] - 4s 18ms/sample - loss: 2.5113 - acc: 0.5250 - val_loss: 0.7084 - val_acc: 0.5094\n",
      "Epoch 2/10\n",
      "200/200 [==============================] - 2s 9ms/sample - loss: 0.9039 - acc: 0.6200 - val_loss: 1.4463 - val_acc: 0.4954\n",
      "Epoch 3/10\n",
      "200/200 [==============================] - 2s 9ms/sample - loss: 0.5516 - acc: 0.7850 - val_loss: 1.3683 - val_acc: 0.4955\n",
      "Epoch 4/10\n",
      "200/200 [==============================] - 2s 11ms/sample - loss: 0.3333 - acc: 0.8900 - val_loss: 0.8715 - val_acc: 0.5240\n",
      "Epoch 5/10\n",
      "200/200 [==============================] - 2s 10ms/sample - loss: 0.4532 - acc: 0.8550 - val_loss: 0.9819 - val_acc: 0.5136\n",
      "Epoch 6/10\n",
      "200/200 [==============================] - 3s 15ms/sample - loss: 0.1367 - acc: 0.9700 - val_loss: 0.7689 - val_acc: 0.5402\n",
      "Epoch 7/10\n",
      "200/200 [==============================] - 4s 22ms/sample - loss: 0.1155 - acc: 0.9700 - val_loss: 0.7638 - val_acc: 0.5432\n",
      "Epoch 8/10\n",
      "200/200 [==============================] - 3s 13ms/sample - loss: 0.0591 - acc: 1.0000 - val_loss: 1.0448 - val_acc: 0.5098\n",
      "Epoch 9/10\n",
      "200/200 [==============================] - 2s 10ms/sample - loss: 0.0389 - acc: 1.0000 - val_loss: 0.9603 - val_acc: 0.5335\n",
      "Epoch 10/10\n",
      "200/200 [==============================] - 2s 10ms/sample - loss: 0.6201 - acc: 0.7350 - val_loss: 0.8138 - val_acc: 0.5465\n"
     ]
    }
   ],
   "source": [
    "model2.compile(optimizer='rmsprop',loss='binary_crossentropy',metrics=['acc'])\n",
    "\n",
    "history = model2.fit(x_train, y_train,epochs=10,batch_size=32,validation_data=(x_val, y_val))\n",
    "\n",
    "model2.save_weights('pre_trained_glove_model.h5')"
   ]
  },
  {
   "cell_type": "markdown",
   "metadata": {},
   "source": [
    "## Plotting the results"
   ]
  },
  {
   "cell_type": "code",
   "execution_count": 27,
   "metadata": {},
   "outputs": [
    {
     "data": {
      "image/png": "[encoded data removed]",
      "text/plain": [
       "<Figure size 432x288 with 1 Axes>"
      ]
     },
     "metadata": {
      "needs_background": "light"
     },
     "output_type": "display_data"
    },
    {
     "data": {
      "image/png": "[encoded data removed]",
      "text/plain": [
       "<Figure size 432x288 with 1 Axes>"
      ]
     },
     "metadata": {
      "needs_background": "light"
     },
     "output_type": "display_data"
    }
   ],
   "source": [
    "import matplotlib.pyplot as plt\n",
    "\n",
    "acc = history.history['acc']\n",
    "val_acc = history.history['val_acc']\n",
    "loss = history.history['loss']\n",
    "val_loss = history.history['val_loss']\n",
    "\n",
    "epochs = range(1, len(acc) + 1)\n",
    "\n",
    "plt.plot(epochs, acc, 'bo', label='Training acc')\n",
    "plt.plot(epochs, val_acc, 'b', label='Validation acc')\n",
    "plt.title('Training and validation accuracy')\n",
    "plt.legend()\n",
    "plt.figure()\n",
    "\n",
    "plt.plot(epochs, loss, 'bo', label='Training loss')\n",
    "plt.plot(epochs, val_loss, 'b', label='Validation loss')\n",
    "plt.title('Training and validation loss')\n",
    "plt.legend()\n",
    "\n",
    "plt.show()"
   ]
  },
  {
   "cell_type": "markdown",
   "metadata": {},
   "source": [
    "## Tokenizing the data of the test set"
   ]
  },
  {
   "cell_type": "code",
   "execution_count": 19,
   "metadata": {},
   "outputs": [],
   "source": [
    "import os\n",
    "test_dir = os.path.join(imdb_dir, 'test')\n",
    "\n",
    "labels = []\n",
    "texts = []\n",
    "\n",
    "for label_type in ['neg', 'pos']:\n",
    "    dir_name = os.path.join(test_dir, label_type)\n",
    "    for fname in sorted(os.listdir(dir_name)):\n",
    "        if fname[-4:] == '.txt':\n",
    "            f = open(os.path.join(dir_name, fname),encoding='utf8')\n",
    "            texts.append(f.read())\n",
    "            f.close()\n",
    "            if label_type == 'neg':\n",
    "                labels.append(0)\n",
    "            else:\n",
    "                labels.append(1)\n",
    "                \n",
    "sequences = tokenizer.texts_to_sequences(texts)\n",
    "x_test = pad_sequences(sequences, maxlen=maxlen)\n",
    "y_test = np.asarray(labels)"
   ]
  },
  {
   "cell_type": "markdown",
   "metadata": {},
   "source": [
    "## Testing Model"
   ]
  },
  {
   "cell_type": "code",
   "execution_count": 28,
   "metadata": {},
   "outputs": [
    {
     "name": "stdout",
     "output_type": "stream",
     "text": [
      "25000/1 - 4s - loss: 0.5211 - acc: 0.5480\n"
     ]
    }
   ],
   "source": [
    "test_loss_2, test_acc_2 = model2.evaluate(x_test,y_test,verbose=2)"
   ]
  },
  {
   "cell_type": "markdown",
   "metadata": {},
   "source": [
    "## 7) Apply RNN to the given text (listing 6.21) and provide output"
   ]
  },
  {
   "cell_type": "markdown",
   "metadata": {},
   "source": [
    "## Importing RNN from Keras"
   ]
  },
  {
   "cell_type": "code",
   "execution_count": 29,
   "metadata": {},
   "outputs": [],
   "source": [
    "from tensorflow.keras.layers import SimpleRNN"
   ]
  },
  {
   "cell_type": "markdown",
   "metadata": {},
   "source": [
    "## Preparing IMDB data"
   ]
  },
  {
   "cell_type": "code",
   "execution_count": 30,
   "metadata": {},
   "outputs": [
    {
     "name": "stdout",
     "output_type": "stream",
     "text": [
      "Loading data...\n",
      "25000 train sequences\n",
      "25000 test sequences\n",
      "Pad sequences (samples x time)\n",
      "input_train shape: (25000, 500)\n",
      "input_test shape: (25000, 500)\n"
     ]
    }
   ],
   "source": [
    "from tensorflow.keras.datasets import imdb\n",
    "from tensorflow.keras.preprocessing import sequence\n",
    "max_features = 10000\n",
    "maxlen = 500\n",
    "batch_size = 32\n",
    "print('Loading data...')\n",
    "(input_train, y_train), (input_test, y_test) = imdb.load_data(\n",
    "num_words=max_features)\n",
    "print(len(input_train), 'train sequences')\n",
    "print(len(input_test), 'test sequences')\n",
    "print('Pad sequences (samples x time)')\n",
    "input_train = sequence.pad_sequences(input_train, maxlen=maxlen)\n",
    "input_test = sequence.pad_sequences(input_test, maxlen=maxlen)\n",
    "print('input_train shape:', input_train.shape)\n",
    "print('input_test shape:', input_test.shape)"
   ]
  },
  {
   "cell_type": "markdown",
   "metadata": {},
   "source": [
    "## Training the model with Embedding and SimpleRNN layers"
   ]
  },
  {
   "cell_type": "code",
   "execution_count": 31,
   "metadata": {},
   "outputs": [
    {
     "name": "stdout",
     "output_type": "stream",
     "text": [
      "Train on 20000 samples, validate on 5000 samples\n",
      "Epoch 1/10\n",
      "20000/20000 [==============================] - 38s 2ms/sample - loss: 0.5452 - acc: 0.7290 - val_loss: 0.4217 - val_acc: 0.8132\n",
      "Epoch 2/10\n",
      "20000/20000 [==============================] - 37s 2ms/sample - loss: 0.3483 - acc: 0.8569 - val_loss: 0.4066 - val_acc: 0.8160\n",
      "Epoch 3/10\n",
      "20000/20000 [==============================] - 37s 2ms/sample - loss: 0.2800 - acc: 0.8917 - val_loss: 0.3554 - val_acc: 0.8464\n",
      "Epoch 4/10\n",
      "20000/20000 [==============================] - 38s 2ms/sample - loss: 0.2283 - acc: 0.9138 - val_loss: 0.4122 - val_acc: 0.8218\n",
      "Epoch 5/10\n",
      "20000/20000 [==============================] - 37s 2ms/sample - loss: 0.1758 - acc: 0.9351 - val_loss: 0.3980 - val_acc: 0.8412\n",
      "Epoch 6/10\n",
      "20000/20000 [==============================] - 38s 2ms/sample - loss: 0.1357 - acc: 0.9531 - val_loss: 0.4292 - val_acc: 0.8464\n",
      "Epoch 7/10\n",
      "20000/20000 [==============================] - 37s 2ms/sample - loss: 0.1005 - acc: 0.9656 - val_loss: 0.4789 - val_acc: 0.8436\n",
      "Epoch 8/10\n",
      "20000/20000 [==============================] - 38s 2ms/sample - loss: 0.0737 - acc: 0.9753 - val_loss: 0.5251 - val_acc: 0.8328\n",
      "Epoch 9/10\n",
      "20000/20000 [==============================] - 38s 2ms/sample - loss: 0.0546 - acc: 0.9822 - val_loss: 0.8174 - val_acc: 0.7490\n",
      "Epoch 10/10\n",
      "20000/20000 [==============================] - 43s 2ms/sample - loss: 0.0661 - acc: 0.9768 - val_loss: 0.7579 - val_acc: 0.7776\n"
     ]
    }
   ],
   "source": [
    "from tensorflow.keras.layers import Dense\n",
    "from tensorflow.keras.layers import Embedding\n",
    "\n",
    "model3 = Sequential()\n",
    "model3.add(Embedding(max_features, 32))\n",
    "model3.add(SimpleRNN(32))\n",
    "model3.add(Dense(1, activation='sigmoid'))\n",
    "\n",
    "model3.compile(optimizer='rmsprop', loss='binary_crossentropy', metrics=['acc'])\n",
    "\n",
    "history = model3.fit(input_train, y_train,epochs=10,batch_size=128,validation_split=0.2)"
   ]
  },
  {
   "cell_type": "markdown",
   "metadata": {},
   "source": [
    "## Plotting Results"
   ]
  },
  {
   "cell_type": "code",
   "execution_count": 32,
   "metadata": {},
   "outputs": [
    {
     "data": {
      "image/png": "[encoded data removed]",
      "text/plain": [
       "<Figure size 432x288 with 1 Axes>"
      ]
     },
     "metadata": {
      "needs_background": "light"
     },
     "output_type": "display_data"
    },
    {
     "data": {
      "image/png": "[encoded data removed]",
      "text/plain": [
       "<Figure size 432x288 with 1 Axes>"
      ]
     },
     "metadata": {
      "needs_background": "light"
     },
     "output_type": "display_data"
    }
   ],
   "source": [
    "import matplotlib.pyplot as plt\n",
    "\n",
    "acc = history.history['acc']\n",
    "val_acc = history.history['val_acc']\n",
    "loss = history.history['loss']\n",
    "val_loss = history.history['val_loss']\n",
    "epochs = range(1, len(acc) + 1)\n",
    "\n",
    "plt.plot(epochs, acc, 'bo', label='Training acc')\n",
    "plt.plot(epochs, val_acc, 'b', label='Validation acc')\n",
    "plt.title('Training and validation accuracy')\n",
    "\n",
    "plt.legend()\n",
    "plt.figure()\n",
    "\n",
    "plt.plot(epochs, loss, 'bo', label='Training loss')\n",
    "plt.plot(epochs, val_loss, 'b', label='Validation loss')\n",
    "plt.title('Training and validation loss')\n",
    "plt.legend()\n",
    "\n",
    "plt.show()"
   ]
  },
  {
   "cell_type": "markdown",
   "metadata": {},
   "source": [
    "## Model Testing "
   ]
  },
  {
   "cell_type": "code",
   "execution_count": 33,
   "metadata": {},
   "outputs": [
    {
     "name": "stdout",
     "output_type": "stream",
     "text": [
      "25000/1 - 33s - loss: 0.8274 - acc: 0.7729\n"
     ]
    }
   ],
   "source": [
    "test_loss_3, test_acc_3 = model3.evaluate(input_test,y_test,verbose=2)"
   ]
  },
  {
   "cell_type": "markdown",
   "metadata": {},
   "source": [
    "## 8) Match the results of RNN (step 7) with the step 5 and also with step 6. Share the output of the analysis."
   ]
  },
  {
   "cell_type": "markdown",
   "metadata": {},
   "source": [
    "## Test Results of All Models"
   ]
  },
  {
   "cell_type": "code",
   "execution_count": 33,
   "metadata": {},
   "outputs": [
    {
     "name": "stdout",
     "output_type": "stream",
     "text": [
      "First Model : Accuracy = 76.04399919509888 , Loss = 0.5063726656627655\n",
      "Here we got test accuracy of 76% and 0.50 Loss with simple Word Embedding.\n",
      "\n",
      "Second Model : Accuracy = 54.79999780654907 , Loss = 80.67536211872101\n",
      "Here we got test accuracy of 54% and 0.80 loss with Pretrained Word Embedding.\n",
      "\n",
      "Third Model : Accuracy = 77.28800177574158 , Loss = 79.4188487663269\n",
      "Here we got test accuracy of 77% and 0.79 Loss with Simple-RNN.\n"
     ]
    }
   ],
   "source": [
    "print(f\"First Model : Accuracy = {test_acc_1*100} , Loss = {test_loss_1}\")\n",
    "print(\"Here we got test accuracy of 76% and 0.50 Loss with simple Word Embedding.\\n\")\n",
    "print(f\"Second Model : Accuracy = {test_acc_2*100} , Loss = {test_loss_2}\")\n",
    "print(\"Here we got test accuracy of 54% and 0.80 loss with Pretrained Word Embedding.\\n\")\n",
    "print(f\"Third Model : Accuracy = {test_acc_3*100} , Loss = {test_loss_3}\")\n",
    "print(\"Here we got test accuracy of 77% and 0.79 Loss with Simple-RNN.\")"
   ]
  }
 ],
 "metadata": {
  "kernelspec": {
   "display_name": "Python 3",
   "language": "python",
   "name": "python3"
  },
  "language_info": {
   "codemirror_mode": {
    "name": "ipython",
    "version": 3
   },
   "file_extension": ".py",
   "mimetype": "text/x-python",
   "name": "python",
   "nbconvert_exporter": "python",
   "pygments_lexer": "ipython3",
   "version": "3.7.3"
  }
 },
 "nbformat": 4,
 "nbformat_minor": 2
}
